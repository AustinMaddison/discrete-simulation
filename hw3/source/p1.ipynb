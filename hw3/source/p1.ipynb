{
 "cells": [
  {
   "cell_type": "markdown",
   "source": [
    "#### Discrete Simulation HW3\n",
    "#### Problem 1\n",
    "Authored: Austin Jetrin Maddison 6481268"
   ],
   "metadata": {
    "collapsed": false
   },
   "id": "9b0370462cadec96"
  },
  {
   "cell_type": "code",
   "execution_count": 1,
   "id": "initial_id",
   "metadata": {
    "collapsed": true,
    "ExecuteTime": {
     "end_time": "2024-10-28T00:48:43.961019Z",
     "start_time": "2024-10-28T00:48:43.410873Z"
    }
   },
   "outputs": [],
   "source": [
    "import matplotlib.pyplot as plt\n",
    "import numpy as np\n",
    "\n",
    "from my_settings import *"
   ]
  },
  {
   "cell_type": "code",
   "outputs": [],
   "source": [
    "def chain_dist(chains=4, L=0, U=371):\n",
    "    if chains == 0:\n",
    "        return np.random.randint(L, U) \n",
    "    \n",
    "    U_new = chain_dist(chains-1, L, U)\n",
    "    if U_new == L : return U_new\n",
    "    \n",
    "    return np.random.randint(L, U_new)"
   ],
   "metadata": {
    "collapsed": false,
    "ExecuteTime": {
     "end_time": "2024-10-28T00:48:43.967570Z",
     "start_time": "2024-10-28T00:48:43.962477Z"
    }
   },
   "id": "b17ab1c1ac8f5563",
   "execution_count": 2
  },
  {
   "cell_type": "code",
   "outputs": [],
   "source": [
    "f = np.vectorize(lambda x : chain_dist())\n",
    "leading_digit =  np.vectorize(lambda _: int(str(np.abs(_))[0]))"
   ],
   "metadata": {
    "collapsed": false,
    "ExecuteTime": {
     "end_time": "2024-10-28T00:48:44.455240Z",
     "start_time": "2024-10-28T00:48:43.968576Z"
    }
   },
   "id": "d0831a7e4868aec3",
   "execution_count": 3
  },
  {
   "cell_type": "code",
   "outputs": [],
   "source": [
    "N = 1000000\n",
    "res = leading_digit( f( np.zeros(N) ) )"
   ],
   "metadata": {
    "collapsed": false,
    "ExecuteTime": {
     "end_time": "2024-10-28T00:48:57.787919Z",
     "start_time": "2024-10-28T00:48:44.456751Z"
    }
   },
   "id": "58529ca80296cebe",
   "execution_count": 4
  },
  {
   "cell_type": "code",
   "outputs": [
    {
     "data": {
      "text/plain": "array([0, 0, 9, ..., 0, 2, 0])"
     },
     "execution_count": 5,
     "metadata": {},
     "output_type": "execute_result"
    }
   ],
   "source": [
    "res"
   ],
   "metadata": {
    "collapsed": false,
    "ExecuteTime": {
     "end_time": "2024-10-28T00:48:57.795927Z",
     "start_time": "2024-10-28T00:48:57.788923Z"
    }
   },
   "id": "9b96e121ab074edb",
   "execution_count": 5
  },
  {
   "cell_type": "code",
   "outputs": [],
   "source": [
    "hist, edge = np.histogram(res, density=True, bins=np.arange(0, 11, 1))"
   ],
   "metadata": {
    "collapsed": false,
    "ExecuteTime": {
     "end_time": "2024-10-28T00:48:57.820442Z",
     "start_time": "2024-10-28T00:48:57.797441Z"
    }
   },
   "id": "d0e6a9192b407230",
   "execution_count": 6
  },
  {
   "cell_type": "code",
   "outputs": [
    {
     "data": {
      "text/plain": "<Figure size 500x400 with 1 Axes>",
      "image/png": "[encoded data removed]"
     },
     "metadata": {},
     "output_type": "display_data"
    }
   ],
   "source": [
    "plt.figure(figsize=(5, 4))\n",
    "plt.scatter(edge[1:-1], hist[1:], s=15, color=\"k\", marker='o', zorder=4)\n",
    "plt.vlines(edge[1:-1], ymax=hist[1:], ymin=np.zeros(hist.size-1), color='k', alpha=0.8)\n",
    "\n",
    "plt.xticks(np.arange(1, 10, 1, dtype=int))\n",
    "plt.yticks(np.arange(0, 1.1, 0.05, dtype=float))\n",
    "plt.xlim(0.5, 9.5)\n",
    "plt.ylim(0, 0.25)\n",
    "plt.title(\"Distribution of $U(0,U(0,U(0,U(0,371))))$ First Digits\", fontsize=10)\n",
    "plt.xlabel(\"$n$\", fontsize=12)\n",
    "plt.ylabel(\"$p$\", fontsize=12)\n",
    "plt.savefig(\"../drawings/p1.pdf\")"
   ],
   "metadata": {
    "collapsed": false,
    "ExecuteTime": {
     "end_time": "2024-10-28T00:48:59.220390Z",
     "start_time": "2024-10-28T00:48:57.821951Z"
    }
   },
   "id": "b28e28731475fabb",
   "execution_count": 7
  }
 ],
 "metadata": {
  "kernelspec": {
   "display_name": "Python 3",
   "language": "python",
   "name": "python3"
  },
  "language_info": {
   "codemirror_mode": {
    "name": "ipython",
    "version": 2
   },
   "file_extension": ".py",
   "mimetype": "text/x-python",
   "name": "python",
   "nbconvert_exporter": "python",
   "pygments_lexer": "ipython2",
   "version": "2.7.6"
  }
 },
 "nbformat": 4,
 "nbformat_minor": 5
}
