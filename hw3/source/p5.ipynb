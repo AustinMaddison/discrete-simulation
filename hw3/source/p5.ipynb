{
 "cells": [
  {
   "cell_type": "code",
   "execution_count": 234,
   "metadata": {
    "ExecuteTime": {
     "end_time": "2024-10-28T01:27:49.541244Z",
     "start_time": "2024-10-28T01:27:49.536902Z"
    }
   },
   "outputs": [],
   "source": [
    "from functools import lru_cache\n",
    "\n",
    "import matplotlib.pyplot as plt\n",
    "import numpy as np\n",
    "from  IPython import display\n",
    "\n",
    "from my_settings import *\n",
    "from sympy import symbols, Eq, solve\n",
    "import pandas as pd\n"
   ]
  },
  {
   "cell_type": "code",
   "execution_count": 125,
   "metadata": {
    "ExecuteTime": {
     "end_time": "2024-10-28T00:25:40.737345Z",
     "start_time": "2024-10-28T00:25:40.730516Z"
    }
   },
   "outputs": [],
   "source": [
    "def guess_c_finite(sequence):\n",
    "    def generate_equation(coeffs, n, order, sequence):\n",
    "        eq = sequence[n] + sum(coeffs[i] * sequence[n - i - 1] for i in range(order))\n",
    "        return Eq(eq, 0)\n",
    "\n",
    "    order = 1\n",
    "    while order < len(sequence) - 2:\n",
    "        coeffs = symbols(f'c:{order}')\n",
    "        \n",
    "        equations = [generate_equation(coeffs, n, order, sequence) for n in range(order, len(sequence))]\n",
    "        \n",
    "        solution = solve(equations, coeffs)\n",
    "        if solution:\n",
    "            return solution\n",
    "        \n",
    "        order += 1\n",
    "\n",
    "    return None \n"
   ]
  },
  {
   "cell_type": "code",
   "outputs": [
    {
     "name": "stdout",
     "output_type": "stream",
     "text": [
      "(c1 + 0*c2 + 0 * c3 + 0*c4)*2^0 + (c5*c6*0)*3^0 =  0 \n",
      "(c1 + 1*c2 + 1 * c3 + 1*c4)*2^1 + (c5*c6*1)*3^1 =  -14 \n",
      "(c1 + 2*c2 + 4 * c3 + 8*c4)*2^2 + (c5*c6*2)*3^2 =  -121 \n",
      "(c1 + 3*c2 + 9 * c3 + 27*c4)*2^3 + (c5*c6*3)*3^3 =  -548 \n",
      "(c1 + 4*c2 + 16 * c3 + 64*c4)*2^4 + (c5*c6*4)*3^4 =  -1915 \n",
      "(c1 + 5*c2 + 25 * c3 + 125*c4)*2^5 + (c5*c6*5)*3^5 =  -5774 \n"
     ]
    }
   ],
   "source": [
    "def given_cfinite_seq(n):\n",
    "    a = [0,-14,-121,-548,-1915]\n",
    "    \n",
    "    if n < len(a):\n",
    "        return a[n]\n",
    "    else:\n",
    "        while len(a) <= n:\n",
    "            a += [(12*a[-1] - 57*a[-2]  + 134*a[-3]  -156*a[-4]  +72 *a[-5] )]\n",
    "    return a[n]\n",
    "\n",
    "# observing sequence\n",
    "for i in range(0,6):\n",
    "    print(f\"(c1 + {i}*c2 + {i**2} * c3 + {i**3}*c4)*2^{i} + (c5*c6*{i})*3^{i} =  {given_cfinite_seq(i)} \")\n",
    "    \n",
    "\n"
   ],
   "metadata": {
    "collapsed": false,
    "ExecuteTime": {
     "end_time": "2024-10-28T00:17:18.749232Z",
     "start_time": "2024-10-28T00:17:18.742232Z"
    }
   },
   "execution_count": 118
  },
  {
   "cell_type": "markdown",
   "source": [
    "a.)"
   ],
   "metadata": {
    "collapsed": false
   }
  },
  {
   "cell_type": "code",
   "outputs": [
    {
     "name": "stdout",
     "output_type": "stream",
     "text": [
      "{c1: -1, c2: 0, c3: -9, c4: 0, c5: 1, c6: 1}\n",
      "= 2^n(-1 + n*0 + n^2* -9 + n^3 * 0) + 3^n * (1 + 1*n)\n"
     ]
    }
   ],
   "source": [
    "c1 = symbols('c1')\n",
    "c2 = symbols('c2')\n",
    "c3 = symbols('c3')\n",
    "c4 = symbols('c4')\n",
    "c5 = symbols('c5')\n",
    "c6 = symbols('c6')\n",
    "\n",
    "eqs = []\n",
    "for i in range(0,6):\n",
    "    eqs += [(Eq(2 ** i * (c1 + i*c2 + i**2* c3 + i**3 * c4) + 3 ** i * (c5 + c6*i), given_cfinite_seq(i)))]\n",
    "sol = solve(eqs, (c1, c2, c3, c4, c5, c6))\n",
    "\n",
    "print(sol)\n",
    "\n",
    "print(f\"= 2^n({sol[c1]} + n*{sol[c2]} + n^2* {sol[c3]} + n^3 * {sol[c4]}) + 3^n * ({sol[c5]} + {sol[c6]}*n)\")"
   ],
   "metadata": {
    "collapsed": false,
    "ExecuteTime": {
     "end_time": "2024-10-28T01:08:41.117499Z",
     "start_time": "2024-10-28T01:08:41.101144Z"
    }
   },
   "execution_count": 222
  },
  {
   "cell_type": "code",
   "outputs": [
    {
     "data": {
      "text/plain": "      Close Form  Cfinite\nIndex                    \n1            -14      -14\n2           -121     -121\n3           -548     -548\n4          -1915    -1915\n5          -5774    -5774\n6         -15697   -15697\n7         -39080   -39080\n8         -88663   -88663\n9        -176930  -176930\n10       -273085  -273085\n11       -106556  -106556",
      "text/html": "<div>\n<style scoped>\n    .dataframe tbody tr th:only-of-type {\n        vertical-align: middle;\n    }\n\n    .dataframe tbody tr th {\n        vertical-align: top;\n    }\n\n    .dataframe thead th {\n        text-align: right;\n    }\n</style>\n<table border=\"1\" class=\"dataframe\">\n  <thead>\n    <tr style=\"text-align: right;\">\n      <th></th>\n      <th>Close Form</th>\n      <th>Cfinite</th>\n    </tr>\n    <tr>\n      <th>Index</th>\n      <th></th>\n      <th></th>\n    </tr>\n  </thead>\n  <tbody>\n    <tr>\n      <th>1</th>\n      <td>-14</td>\n      <td>-14</td>\n    </tr>\n    <tr>\n      <th>2</th>\n      <td>-121</td>\n      <td>-121</td>\n    </tr>\n    <tr>\n      <th>3</th>\n      <td>-548</td>\n      <td>-548</td>\n    </tr>\n    <tr>\n      <th>4</th>\n      <td>-1915</td>\n      <td>-1915</td>\n    </tr>\n    <tr>\n      <th>5</th>\n      <td>-5774</td>\n      <td>-5774</td>\n    </tr>\n    <tr>\n      <th>6</th>\n      <td>-15697</td>\n      <td>-15697</td>\n    </tr>\n    <tr>\n      <th>7</th>\n      <td>-39080</td>\n      <td>-39080</td>\n    </tr>\n    <tr>\n      <th>8</th>\n      <td>-88663</td>\n      <td>-88663</td>\n    </tr>\n    <tr>\n      <th>9</th>\n      <td>-176930</td>\n      <td>-176930</td>\n    </tr>\n    <tr>\n      <th>10</th>\n      <td>-273085</td>\n      <td>-273085</td>\n    </tr>\n    <tr>\n      <th>11</th>\n      <td>-106556</td>\n      <td>-106556</td>\n    </tr>\n  </tbody>\n</table>\n</div>"
     },
     "execution_count": 120,
     "metadata": {},
     "output_type": "execute_result"
    }
   ],
   "source": [
    "close_form = lambda n: 2**n*(sol[c1] + n*sol[c2] + n**2* sol[c3] + n**3 * sol[c4]) + 3**n * (sol[c5] + sol[c6]*n)\n",
    "\n",
    "data = []\n",
    "\n",
    "for i in range(1, 12):\n",
    "    data.append({\"Index\": i, \n",
    "                 \"Close Form\": close_form(i), \n",
    "                 \"Cfinite\": given_cfinite_seq(i)})  \n",
    "\n",
    "df = pd.DataFrame(data)\n",
    "df.set_index('Index', inplace=True)\n",
    "df\n"
   ],
   "metadata": {
    "collapsed": false,
    "ExecuteTime": {
     "end_time": "2024-10-28T00:17:21.967572Z",
     "start_time": "2024-10-28T00:17:21.955669Z"
    }
   },
   "execution_count": 120
  },
  {
   "cell_type": "markdown",
   "source": [],
   "metadata": {
    "collapsed": false
   }
  },
  {
   "cell_type": "markdown",
   "source": [
    "b)"
   ],
   "metadata": {
    "collapsed": false
   }
  },
  {
   "cell_type": "code",
   "outputs": [
    {
     "name": "stdout",
     "output_type": "stream",
     "text": [
      "seq d=5 guess_c_finite() =  {c0: -12, c1: 57, c2: -134, c3: 156, c4: -72}\n",
      "seq d=6 guess_c_finite() =  {c0: -12, c1: 57, c2: -134, c3: 156, c4: -72}\n",
      "= 2^n(-1 + n*0 + n^2* -9 + n^3 * 0) + 3^n * (1 + 1*n)\n"
     ]
    },
    {
     "data": {
      "text/plain": "       seq d=5     seq d=6\nn                         \n0            0           0\n1          -14         -14\n2         -121        -121\n3         -548        -548\n4        -1915       -1915\n5        -5774       -5774\n6       -15697      -15697\n7       -39080      -39080\n8       -88663      -88663\n9      -176930     -176930\n10     -273085     -273085\n11     -106556     -106556\n12     1596221     1596221\n13     9852298     9852298\n14    42826775    42826775\n15   163194544   163194544\n16   580733777   580733777\n17  1983473590  1983473590",
      "text/html": "<div>\n<style scoped>\n    .dataframe tbody tr th:only-of-type {\n        vertical-align: middle;\n    }\n\n    .dataframe tbody tr th {\n        vertical-align: top;\n    }\n\n    .dataframe thead th {\n        text-align: right;\n    }\n</style>\n<table border=\"1\" class=\"dataframe\">\n  <thead>\n    <tr style=\"text-align: right;\">\n      <th></th>\n      <th>seq d=5</th>\n      <th>seq d=6</th>\n    </tr>\n    <tr>\n      <th>n</th>\n      <th></th>\n      <th></th>\n    </tr>\n  </thead>\n  <tbody>\n    <tr>\n      <th>0</th>\n      <td>0</td>\n      <td>0</td>\n    </tr>\n    <tr>\n      <th>1</th>\n      <td>-14</td>\n      <td>-14</td>\n    </tr>\n    <tr>\n      <th>2</th>\n      <td>-121</td>\n      <td>-121</td>\n    </tr>\n    <tr>\n      <th>3</th>\n      <td>-548</td>\n      <td>-548</td>\n    </tr>\n    <tr>\n      <th>4</th>\n      <td>-1915</td>\n      <td>-1915</td>\n    </tr>\n    <tr>\n      <th>5</th>\n      <td>-5774</td>\n      <td>-5774</td>\n    </tr>\n    <tr>\n      <th>6</th>\n      <td>-15697</td>\n      <td>-15697</td>\n    </tr>\n    <tr>\n      <th>7</th>\n      <td>-39080</td>\n      <td>-39080</td>\n    </tr>\n    <tr>\n      <th>8</th>\n      <td>-88663</td>\n      <td>-88663</td>\n    </tr>\n    <tr>\n      <th>9</th>\n      <td>-176930</td>\n      <td>-176930</td>\n    </tr>\n    <tr>\n      <th>10</th>\n      <td>-273085</td>\n      <td>-273085</td>\n    </tr>\n    <tr>\n      <th>11</th>\n      <td>-106556</td>\n      <td>-106556</td>\n    </tr>\n    <tr>\n      <th>12</th>\n      <td>1596221</td>\n      <td>1596221</td>\n    </tr>\n    <tr>\n      <th>13</th>\n      <td>9852298</td>\n      <td>9852298</td>\n    </tr>\n    <tr>\n      <th>14</th>\n      <td>42826775</td>\n      <td>42826775</td>\n    </tr>\n    <tr>\n      <th>15</th>\n      <td>163194544</td>\n      <td>163194544</td>\n    </tr>\n    <tr>\n      <th>16</th>\n      <td>580733777</td>\n      <td>580733777</td>\n    </tr>\n    <tr>\n      <th>17</th>\n      <td>1983473590</td>\n      <td>1983473590</td>\n    </tr>\n  </tbody>\n</table>\n</div>"
     },
     "execution_count": 247,
     "metadata": {},
     "output_type": "execute_result"
    }
   ],
   "source": [
    "def given_cfinite_seq_2(n):\n",
    "    a = [0,-14,-121,-548,-1915, -5774] # d = 6\n",
    "    if n < len(a):\n",
    "        return a[n]\n",
    "    else:\n",
    "        while len(a) <= n:\n",
    "            a.append(14*a[-1] - 81*a[-2]  +248*a[-3]  -424*a[-4]  +384 *a[-5] - 144*a[-6] )\n",
    "    return a[n]\n",
    "\n",
    "data = []\n",
    "\n",
    "for i in range(0, 18):\n",
    "    data.append({\"n\": i, \n",
    "                 \"seq d=5\": given_cfinite_seq(i), \n",
    "                 \"seq d=6\": given_cfinite_seq_2(i)})  \n",
    "\n",
    "df = pd.DataFrame(data)\n",
    "df.set_index('n', inplace=True)\n",
    "\n",
    "print(\"seq d=5 guess_c_finite() = \",guess_c_finite(df[\"seq d=5\"].values))\n",
    "print(\"seq d=6 guess_c_finite() = \",guess_c_finite(df[\"seq d=6\"].values))\n",
    "\n",
    "\n",
    "\n",
    "print(f\"= 2^n({sol[c1]} + n*{sol[c2]} + n^2* {sol[c3]} + n^3 * {sol[c4]}) + 3^n * ({sol[c5]} + {sol[c6]}*n)\")\n",
    "df\n"
   ],
   "metadata": {
    "collapsed": false,
    "ExecuteTime": {
     "end_time": "2024-10-28T01:36:39.063906Z",
     "start_time": "2024-10-28T01:36:38.920229Z"
    }
   },
   "execution_count": 247
  },
  {
   "cell_type": "code",
   "outputs": [
    {
     "name": "stdout",
     "output_type": "stream",
     "text": [
      "{c1: -1, c2: 0, c3: -9, c4: 0, c5: 1, c6: 1}\n",
      "= 2^n(-1 + n*0 + n^2* -9 + n^3 * 0) + 3^n * (1 + 1*n)\n"
     ]
    }
   ],
   "source": [],
   "metadata": {
    "collapsed": false,
    "ExecuteTime": {
     "end_time": "2024-10-28T01:24:13.303379Z",
     "start_time": "2024-10-28T01:24:13.284046Z"
    }
   },
   "execution_count": 231
  },
  {
   "cell_type": "code",
   "outputs": [],
   "source": [
    "f = np.vectorize(given_cfinite_seq_2)\n",
    "ns = np.arange(0, 18, dtype=np.int64)\n",
    "ys = f(ns)"
   ],
   "metadata": {
    "collapsed": false,
    "ExecuteTime": {
     "end_time": "2024-10-28T01:46:58.073108Z",
     "start_time": "2024-10-28T01:46:58.068067Z"
    }
   },
   "execution_count": 259
  },
  {
   "cell_type": "code",
   "outputs": [
    {
     "data": {
      "text/plain": "<Figure size 500x300 with 1 Axes>",
      "image/png": "[encoded data removed]"
     },
     "metadata": {},
     "output_type": "display_data"
    }
   ],
   "source": [
    "plt.figure(figsize=(5, 3))\n",
    "plt.plot( color='k', alpha=0.8)\n",
    "\n",
    "plt.title(\"given_cfinite_seq_2(0..18)\", fontsize=10)\n",
    "plt.plot(ns, ys, color='k')\n",
    "plt.xlabel(\"$a_n$\", fontsize=12)\n",
    "\n",
    "first_pos = np.argmax(ys > 0) -1\n",
    "plt.axvline(first_pos, color='k', alpha=0.2)\n",
    "plt.axhline(ys[first_pos], color='k', alpha=0.2)\n",
    "plt.scatter(first_pos, ys[first_pos], s=20, color='k', marker='o')\n",
    "plt.annotate(f\"$a_{{{first_pos}}} = {{{ys[first_pos]}}} $\",(first_pos -5, ys[first_pos]+ 200000000*0.5), fontsize=10)\n",
    "\n",
    "\n",
    "plt.ylabel(\"$p$\", fontsize=12)\n",
    "plt.savefig(\"../drawings/p5.pdf\")"
   ],
   "metadata": {
    "collapsed": false,
    "ExecuteTime": {
     "end_time": "2024-10-28T01:48:09.758988Z",
     "start_time": "2024-10-28T01:48:08.891330Z"
    }
   },
   "execution_count": 266
  },
  {
   "cell_type": "code",
   "outputs": [
    {
     "data": {
      "text/plain": "11"
     },
     "execution_count": 191,
     "metadata": {},
     "output_type": "execute_result"
    }
   ],
   "source": [],
   "metadata": {
    "collapsed": false,
    "ExecuteTime": {
     "end_time": "2024-10-28T00:52:00.282404Z",
     "start_time": "2024-10-28T00:52:00.277463Z"
    }
   },
   "execution_count": 191
  }
 ],
 "metadata": {
  "kernelspec": {
   "display_name": "Python 3",
   "language": "python",
   "name": "python3"
  },
  "language_info": {
   "codemirror_mode": {
    "name": "ipython",
    "version": 3
   },
   "file_extension": ".py",
   "mimetype": "text/x-python",
   "name": "python",
   "nbconvert_exporter": "python",
   "pygments_lexer": "ipython3",
   "version": "3.11.10"
  }
 },
 "nbformat": 4,
 "nbformat_minor": 2
}
