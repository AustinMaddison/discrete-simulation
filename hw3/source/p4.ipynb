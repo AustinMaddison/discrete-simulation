{
 "cells": [
  {
   "cell_type": "code",
   "execution_count": 3,
   "metadata": {
    "ExecuteTime": {
     "end_time": "2024-10-27T23:14:23.480353Z",
     "start_time": "2024-10-27T23:14:23.475321Z"
    }
   },
   "outputs": [],
   "source": [
    "from functools import lru_cache\n",
    "\n",
    "from my_settings import *\n",
    "from sympy import symbols, Eq, solve\n"
   ]
  },
  {
   "cell_type": "code",
   "execution_count": 6,
   "metadata": {
    "ExecuteTime": {
     "end_time": "2024-10-27T23:22:10.514315Z",
     "start_time": "2024-10-27T23:22:10.507314Z"
    }
   },
   "outputs": [],
   "source": [
    "def guess_c_finite(sequence):\n",
    "    def generate_equation(coeffs, n, order, sequence):\n",
    "        eq = sequence[n] + sum(coeffs[i] * sequence[n - i - 1] for i in range(order))\n",
    "        return Eq(eq, 0)\n",
    "\n",
    "    order = 1\n",
    "    while order < len(sequence) - 2:\n",
    "        coeffs = symbols(f'c:{order}')\n",
    "        \n",
    "        equations = [generate_equation(coeffs, n, order, sequence) for n in range(order, len(sequence))]\n",
    "        \n",
    "        solution = solve(equations, coeffs)\n",
    "        if solution:\n",
    "            return solution\n",
    "        \n",
    "        order += 1\n",
    "\n",
    "    return None \n"
   ]
  },
  {
   "cell_type": "code",
   "execution_count": 41,
   "metadata": {
    "ExecuteTime": {
     "end_time": "2024-10-27T23:36:36.872751Z",
     "start_time": "2024-10-27T23:36:35.474554Z"
    }
   },
   "outputs": [
    {
     "data": {
      "text/plain": "{c0: 0, c1: -2}"
     },
     "execution_count": 41,
     "metadata": {},
     "output_type": "execute_result"
    }
   ],
   "source": [
    "def find_all_sums(target_sum):\n",
    "    def find_sums_recursive(remaining_sum, possible_numbers, current_combination, all_combinations):\n",
    "        if remaining_sum == 0:\n",
    "            all_combinations.append(current_combination)\n",
    "            return\n",
    "        for x in possible_numbers:\n",
    "            if x <= remaining_sum:\n",
    "                find_sums_recursive(remaining_sum - x, possible_numbers, current_combination + [x], all_combinations)\n",
    "\n",
    "    possible_numbers = [num for num in range(1, target_sum + 1)]\n",
    "    all_combinations = []\n",
    "    find_sums_recursive(target_sum, possible_numbers, [], all_combinations)\n",
    "    return all_combinations\n",
    "\n",
    "def is_palindromic(sequence):\n",
    "    if len(sequence) < 2:\n",
    "        return True\n",
    "    return sequence == sequence[::-1]\n",
    "\n",
    "def find_all_palindromic_sums(target_sum):\n",
    "    return [s for s in find_all_sums(target_sum) if is_palindromic(s)]\n",
    "\n",
    "\n",
    "calc_length_of_palindromic_sums = lambda x : len(find_all_palindromic_sums(x))\n",
    "guess_c_finite([ calc_length_of_palindromic_sums(i) for i in range(1, 20)])\n"
   ]
  }
 ],
 "metadata": {
  "kernelspec": {
   "display_name": "Python 3",
   "language": "python",
   "name": "python3"
  },
  "language_info": {
   "codemirror_mode": {
    "name": "ipython",
    "version": 3
   },
   "file_extension": ".py",
   "mimetype": "text/x-python",
   "name": "python",
   "nbconvert_exporter": "python",
   "pygments_lexer": "ipython3",
   "version": "3.11.10"
  }
 },
 "nbformat": 4,
 "nbformat_minor": 2
}
