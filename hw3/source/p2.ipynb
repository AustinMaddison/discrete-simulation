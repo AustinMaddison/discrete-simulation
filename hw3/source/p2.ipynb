{
 "cells": [
  {
   "cell_type": "markdown",
   "source": [
    "#### Discrete Simulation HW3\n",
    "#### Problem 1\n",
    "Authored: Austin Jetrin Maddison 6481268"
   ],
   "metadata": {
    "collapsed": false
   },
   "id": "9b0370462cadec96"
  },
  {
   "cell_type": "code",
   "execution_count": 3,
   "id": "initial_id",
   "metadata": {
    "collapsed": true,
    "ExecuteTime": {
     "end_time": "2024-10-23T16:31:40.387345Z",
     "start_time": "2024-10-23T16:31:39.289763Z"
    }
   },
   "outputs": [],
   "source": [
    "import matplotlib.pyplot as plt\n",
    "import numpy as np\n",
    "\n",
    "from my_settings import *"
   ]
  },
  {
   "cell_type": "code",
   "outputs": [],
   "source": [
    "def chain_dist(chains=4, L=0, U=371):\n",
    "    if chains == 0:\n",
    "        return np.random.randint(L, U) \n",
    "    \n",
    "    U_new = chain_dist(chains-1, L, U)\n",
    "    if U_new == L : return U_new\n",
    "    \n",
    "    return np.random.randint(L, U_new)"
   ],
   "metadata": {
    "collapsed": false,
    "ExecuteTime": {
     "end_time": "2024-10-23T16:31:40.396737Z",
     "start_time": "2024-10-23T16:31:40.390350Z"
    }
   },
   "id": "b17ab1c1ac8f5563",
   "execution_count": 4
  },
  {
   "cell_type": "code",
   "outputs": [],
   "source": [
    "f = np.vectorize(lambda x : chain_dist())\n",
    "leading_digit =  np.vectorize(lambda _: int(str(np.abs(_))[0]))"
   ],
   "metadata": {
    "collapsed": false,
    "ExecuteTime": {
     "end_time": "2024-10-23T16:31:40.438782Z",
     "start_time": "2024-10-23T16:31:40.397745Z"
    }
   },
   "id": "d0831a7e4868aec3",
   "execution_count": 5
  },
  {
   "cell_type": "code",
   "outputs": [],
   "source": [
    "import pandas as pd"
   ],
   "metadata": {
    "collapsed": false,
    "ExecuteTime": {
     "end_time": "2024-10-23T16:31:41.267744Z",
     "start_time": "2024-10-23T16:31:40.440791Z"
    }
   },
   "id": "2772bf072a868d64",
   "execution_count": 6
  },
  {
   "cell_type": "code",
   "outputs": [
    {
     "data": {
      "text/plain": "     Temperature (K)  Luminosity(L/Lo)  Radius(R/Ro)  Absolute magnitude(Mv)  \\\n0               3068          0.002400        0.1700                   16.12   \n1               3042          0.000500        0.1542                   16.60   \n2               2600          0.000300        0.1020                   18.70   \n3               2800          0.000200        0.1600                   16.65   \n4               1939          0.000138        0.1030                   20.06   \n..               ...               ...           ...                     ...   \n235            38940     374830.000000     1356.0000                   -9.93   \n236            30839     834042.000000     1194.0000                  -10.63   \n237             8829     537493.000000     1423.0000                  -10.73   \n238             9235     404940.000000     1112.0000                  -11.23   \n239            37882     294903.000000     1783.0000                   -7.80   \n\n     Star type Star color Spectral Class  \n0            0        Red              M  \n1            0        Red              M  \n2            0        Red              M  \n3            0        Red              M  \n4            0        Red              M  \n..         ...        ...            ...  \n235          5       Blue              O  \n236          5       Blue              O  \n237          5      White              A  \n238          5      White              A  \n239          5       Blue              O  \n\n[240 rows x 7 columns]",
      "text/html": "<div>\n<style scoped>\n    .dataframe tbody tr th:only-of-type {\n        vertical-align: middle;\n    }\n\n    .dataframe tbody tr th {\n        vertical-align: top;\n    }\n\n    .dataframe thead th {\n        text-align: right;\n    }\n</style>\n<table border=\"1\" class=\"dataframe\">\n  <thead>\n    <tr style=\"text-align: right;\">\n      <th></th>\n      <th>Temperature (K)</th>\n      <th>Luminosity(L/Lo)</th>\n      <th>Radius(R/Ro)</th>\n      <th>Absolute magnitude(Mv)</th>\n      <th>Star type</th>\n      <th>Star color</th>\n      <th>Spectral Class</th>\n    </tr>\n  </thead>\n  <tbody>\n    <tr>\n      <th>0</th>\n      <td>3068</td>\n      <td>0.002400</td>\n      <td>0.1700</td>\n      <td>16.12</td>\n      <td>0</td>\n      <td>Red</td>\n      <td>M</td>\n    </tr>\n    <tr>\n      <th>1</th>\n      <td>3042</td>\n      <td>0.000500</td>\n      <td>0.1542</td>\n      <td>16.60</td>\n      <td>0</td>\n      <td>Red</td>\n      <td>M</td>\n    </tr>\n    <tr>\n      <th>2</th>\n      <td>2600</td>\n      <td>0.000300</td>\n      <td>0.1020</td>\n      <td>18.70</td>\n      <td>0</td>\n      <td>Red</td>\n      <td>M</td>\n    </tr>\n    <tr>\n      <th>3</th>\n      <td>2800</td>\n      <td>0.000200</td>\n      <td>0.1600</td>\n      <td>16.65</td>\n      <td>0</td>\n      <td>Red</td>\n      <td>M</td>\n    </tr>\n    <tr>\n      <th>4</th>\n      <td>1939</td>\n      <td>0.000138</td>\n      <td>0.1030</td>\n      <td>20.06</td>\n      <td>0</td>\n      <td>Red</td>\n      <td>M</td>\n    </tr>\n    <tr>\n      <th>...</th>\n      <td>...</td>\n      <td>...</td>\n      <td>...</td>\n      <td>...</td>\n      <td>...</td>\n      <td>...</td>\n      <td>...</td>\n    </tr>\n    <tr>\n      <th>235</th>\n      <td>38940</td>\n      <td>374830.000000</td>\n      <td>1356.0000</td>\n      <td>-9.93</td>\n      <td>5</td>\n      <td>Blue</td>\n      <td>O</td>\n    </tr>\n    <tr>\n      <th>236</th>\n      <td>30839</td>\n      <td>834042.000000</td>\n      <td>1194.0000</td>\n      <td>-10.63</td>\n      <td>5</td>\n      <td>Blue</td>\n      <td>O</td>\n    </tr>\n    <tr>\n      <th>237</th>\n      <td>8829</td>\n      <td>537493.000000</td>\n      <td>1423.0000</td>\n      <td>-10.73</td>\n      <td>5</td>\n      <td>White</td>\n      <td>A</td>\n    </tr>\n    <tr>\n      <th>238</th>\n      <td>9235</td>\n      <td>404940.000000</td>\n      <td>1112.0000</td>\n      <td>-11.23</td>\n      <td>5</td>\n      <td>White</td>\n      <td>A</td>\n    </tr>\n    <tr>\n      <th>239</th>\n      <td>37882</td>\n      <td>294903.000000</td>\n      <td>1783.0000</td>\n      <td>-7.80</td>\n      <td>5</td>\n      <td>Blue</td>\n      <td>O</td>\n    </tr>\n  </tbody>\n</table>\n<p>240 rows × 7 columns</p>\n</div>"
     },
     "execution_count": 7,
     "metadata": {},
     "output_type": "execute_result"
    }
   ],
   "source": [
    "df = pd.read_csv('../data/stars.csv')\n",
    "df"
   ],
   "metadata": {
    "collapsed": false,
    "ExecuteTime": {
     "end_time": "2024-10-23T16:31:41.340236Z",
     "start_time": "2024-10-23T16:31:41.270764Z"
    }
   },
   "id": "c44b439c8ca780b4",
   "execution_count": 7
  },
  {
   "cell_type": "code",
   "outputs": [],
   "source": [
    "df = df.drop(['Star color', 'Star color', 'Spectral Class', 'Star type'], axis=1)"
   ],
   "metadata": {
    "collapsed": false,
    "ExecuteTime": {
     "end_time": "2024-10-23T16:31:41.357165Z",
     "start_time": "2024-10-23T16:31:41.341590Z"
    }
   },
   "id": "a84ea91a00da9b8c",
   "execution_count": 8
  },
  {
   "cell_type": "code",
   "outputs": [
    {
     "data": {
      "text/plain": "Index(['Temperature (K)', 'Luminosity(L/Lo)', 'Radius(R/Ro)',\n       'Absolute magnitude(Mv)'],\n      dtype='object')"
     },
     "execution_count": 9,
     "metadata": {},
     "output_type": "execute_result"
    }
   ],
   "source": [
    "cols = df.columns\n",
    "cols"
   ],
   "metadata": {
    "collapsed": false,
    "ExecuteTime": {
     "end_time": "2024-10-23T16:31:41.368435Z",
     "start_time": "2024-10-23T16:31:41.360435Z"
    }
   },
   "id": "89104b0847cc11b5",
   "execution_count": 9
  },
  {
   "cell_type": "code",
   "outputs": [
    {
     "data": {
      "text/plain": "     Temperature (K)  Luminosity(L/Lo)  Radius(R/Ro)  Absolute magnitude(Mv)\n0               3068          0.002400        0.1700                   16.12\n1               3042          0.000500        0.1542                   16.60\n2               2600          0.000300        0.1020                   18.70\n3               2800          0.000200        0.1600                   16.65\n4               1939          0.000138        0.1030                   20.06\n..               ...               ...           ...                     ...\n235            38940     374830.000000     1356.0000                   -9.93\n236            30839     834042.000000     1194.0000                  -10.63\n237             8829     537493.000000     1423.0000                  -10.73\n238             9235     404940.000000     1112.0000                  -11.23\n239            37882     294903.000000     1783.0000                   -7.80\n\n[240 rows x 4 columns]",
      "text/html": "<div>\n<style scoped>\n    .dataframe tbody tr th:only-of-type {\n        vertical-align: middle;\n    }\n\n    .dataframe tbody tr th {\n        vertical-align: top;\n    }\n\n    .dataframe thead th {\n        text-align: right;\n    }\n</style>\n<table border=\"1\" class=\"dataframe\">\n  <thead>\n    <tr style=\"text-align: right;\">\n      <th></th>\n      <th>Temperature (K)</th>\n      <th>Luminosity(L/Lo)</th>\n      <th>Radius(R/Ro)</th>\n      <th>Absolute magnitude(Mv)</th>\n    </tr>\n  </thead>\n  <tbody>\n    <tr>\n      <th>0</th>\n      <td>3068</td>\n      <td>0.002400</td>\n      <td>0.1700</td>\n      <td>16.12</td>\n    </tr>\n    <tr>\n      <th>1</th>\n      <td>3042</td>\n      <td>0.000500</td>\n      <td>0.1542</td>\n      <td>16.60</td>\n    </tr>\n    <tr>\n      <th>2</th>\n      <td>2600</td>\n      <td>0.000300</td>\n      <td>0.1020</td>\n      <td>18.70</td>\n    </tr>\n    <tr>\n      <th>3</th>\n      <td>2800</td>\n      <td>0.000200</td>\n      <td>0.1600</td>\n      <td>16.65</td>\n    </tr>\n    <tr>\n      <th>4</th>\n      <td>1939</td>\n      <td>0.000138</td>\n      <td>0.1030</td>\n      <td>20.06</td>\n    </tr>\n    <tr>\n      <th>...</th>\n      <td>...</td>\n      <td>...</td>\n      <td>...</td>\n      <td>...</td>\n    </tr>\n    <tr>\n      <th>235</th>\n      <td>38940</td>\n      <td>374830.000000</td>\n      <td>1356.0000</td>\n      <td>-9.93</td>\n    </tr>\n    <tr>\n      <th>236</th>\n      <td>30839</td>\n      <td>834042.000000</td>\n      <td>1194.0000</td>\n      <td>-10.63</td>\n    </tr>\n    <tr>\n      <th>237</th>\n      <td>8829</td>\n      <td>537493.000000</td>\n      <td>1423.0000</td>\n      <td>-10.73</td>\n    </tr>\n    <tr>\n      <th>238</th>\n      <td>9235</td>\n      <td>404940.000000</td>\n      <td>1112.0000</td>\n      <td>-11.23</td>\n    </tr>\n    <tr>\n      <th>239</th>\n      <td>37882</td>\n      <td>294903.000000</td>\n      <td>1783.0000</td>\n      <td>-7.80</td>\n    </tr>\n  </tbody>\n</table>\n<p>240 rows × 4 columns</p>\n</div>"
     },
     "execution_count": 10,
     "metadata": {},
     "output_type": "execute_result"
    }
   ],
   "source": [
    "df"
   ],
   "metadata": {
    "collapsed": false,
    "ExecuteTime": {
     "end_time": "2024-10-23T16:31:41.390841Z",
     "start_time": "2024-10-23T16:31:41.369950Z"
    }
   },
   "id": "e7618fbfc93294d7",
   "execution_count": 10
  },
  {
   "cell_type": "code",
   "outputs": [
    {
     "data": {
      "text/plain": "<Figure size 2000x400 with 4 Axes>",
      "image/png": "[encoded data removed]"
     },
     "metadata": {},
     "output_type": "display_data"
    }
   ],
   "source": [
    "n_cols = len(cols)\n",
    "fig, axs = plt.subplots(nrows=1, ncols=4, figsize=(20, 4))\n",
    "axs = axs.flatten()\n",
    "\n",
    "for i, col in enumerate(cols):\n",
    "    \n",
    "    res = leading_digit(df[col].values)\n",
    "    hist, edge = np.histogram(res, density=True, bins=np.arange(0, 11, 1))\n",
    "\n",
    "    ax = axs[i]\n",
    "    ax.scatter(edge[1:-1], hist[1:], s=20, color=\"k\", marker='o', zorder=4)\n",
    "    ax.vlines(edge[1:-1], ymax=hist[1:], ymin=np.zeros(hist.size-1), color='k', alpha=0.8, linewidth=2)\n",
    "    \n",
    "    ax.set_xlim(0.5, 9.5)\n",
    "    ax.set_title(f\"{col} Leading Digit\", fontsize=16)\n",
    "    ax.set_xlabel(\"$n$\", fontsize=12)\n",
    "    ax.set_ylabel(\"$p$\", fontsize=12)\n",
    "\n",
    "plt.tight_layout()\n",
    "\n",
    "plt.savefig(\"../drawings/p2_subplots.pdf\")\n",
    "plt.show()"
   ],
   "metadata": {
    "collapsed": false,
    "ExecuteTime": {
     "end_time": "2024-10-23T16:36:24.404986Z",
     "start_time": "2024-10-23T16:36:21.597869Z"
    }
   },
   "id": "63ba13f57710a951",
   "execution_count": 19
  }
 ],
 "metadata": {
  "kernelspec": {
   "display_name": "Python 3",
   "language": "python",
   "name": "python3"
  },
  "language_info": {
   "codemirror_mode": {
    "name": "ipython",
    "version": 2
   },
   "file_extension": ".py",
   "mimetype": "text/x-python",
   "name": "python",
   "nbconvert_exporter": "python",
   "pygments_lexer": "ipython2",
   "version": "2.7.6"
  }
 },
 "nbformat": 4,
 "nbformat_minor": 5
}
