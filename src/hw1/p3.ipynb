{
 "cells": [
  {
   "cell_type": "markdown",
   "source": [
    "#### Discrete Simulation HW1\n",
    "#### Problem 3\n",
    "Authored: Austin Jetrin Maddison 6481268"
   ],
   "metadata": {
    "collapsed": false
   },
   "id": "4471b0b8d5bebd2c"
  },
  {
   "cell_type": "code",
   "execution_count": 3,
   "id": "7adf188e169d19df",
   "metadata": {
    "collapsed": false,
    "ExecuteTime": {
     "end_time": "2024-09-24T11:38:18.886111Z",
     "start_time": "2024-09-24T11:38:18.155233Z"
    }
   },
   "outputs": [],
   "source": [
    "import matplotlib.pyplot as plt\n",
    "import numpy as np\n",
    "\n",
    "from my_settings import *"
   ]
  },
  {
   "cell_type": "code",
   "outputs": [],
   "source": [
    "np.random.seed(27)"
   ],
   "metadata": {
    "collapsed": false,
    "ExecuteTime": {
     "end_time": "2024-09-24T02:20:08.970346Z",
     "start_time": "2024-09-24T02:20:08.965680Z"
    }
   },
   "id": "9a7f6d7cf1399a8b",
   "execution_count": 4
  },
  {
   "cell_type": "code",
   "outputs": [
    {
     "data": {
      "text/plain": "3.5"
     },
     "execution_count": 4,
     "metadata": {},
     "output_type": "execute_result"
    }
   ],
   "source": [
    "np.sum(np.arange(1,7,1) * 1/6)"
   ],
   "metadata": {
    "collapsed": false,
    "ExecuteTime": {
     "end_time": "2024-09-24T05:49:19.237483Z",
     "start_time": "2024-09-24T05:49:19.227902Z"
    }
   },
   "id": "1e621d522afd70a6",
   "execution_count": 4
  },
  {
   "cell_type": "code",
   "outputs": [],
   "source": [
    "def run_sim(n: int, N: int) -> float: \n",
    "    return "
   ],
   "metadata": {
    "collapsed": false,
    "ExecuteTime": {
     "end_time": "2024-09-21T03:02:09.488157Z",
     "start_time": "2024-09-21T03:02:09.478141Z"
    }
   },
   "id": "f2a8bc755c89d8e8",
   "execution_count": 203
  },
  {
   "cell_type": "code",
   "outputs": [
    {
     "name": "stdout",
     "output_type": "stream",
     "text": [
      "[-9 -8 -7 -6 -5 -4 -3 -2 -1  0  1]\n",
      "[21 20 19 18 17 16 15 14 13 12 11]\n",
      "\n",
      "-9 21\n",
      "31 6.0 80.0\n",
      "\n",
      "-8 20\n",
      "29 6.0 70.0\n",
      "\n",
      "-7 19\n",
      "27 6.0 60.666666666666664\n",
      "\n",
      "-6 18\n",
      "25 6.0 52.0\n",
      "\n",
      "-5 17\n",
      "23 6.0 44.0\n",
      "\n",
      "-4 16\n",
      "21 6.0 36.666666666666664\n",
      "\n",
      "-3 15\n",
      "19 6.0 30.0\n",
      "\n",
      "-2 14\n",
      "17 6.0 24.0\n",
      "\n",
      "-1 13\n",
      "15 6.0 18.666666666666668\n",
      "\n",
      "0 12\n",
      "13 6.0 14.0\n",
      "\n",
      "1 11\n",
      "11 6.0 10.0\n"
     ]
    }
   ],
   "source": [
    "a_s = np.arange(1, 12, 1)\n",
    "b_s = np.ones(11, dtype=int) * 12 - a_s\n",
    "\n",
    "d = 10\n",
    "a_s += -d\n",
    "b_s += d\n",
    "\n",
    "print(a_s)\n",
    "print(b_s)\n",
    "\n",
    "\n",
    "calc_n = lambda a, b : b - a + 1 \n",
    "calc_mean = lambda a, b : (calc_n(a,b) - 1) / 2 + a \n",
    "calc_var = lambda n : (n**2 - 1) / 12\n",
    "\n",
    "for  i in range(a_s.size):\n",
    "    a= a_s[i]\n",
    "    b= b_s[i]\n",
    "    \n",
    "    print()\n",
    "    print(a, b)\n",
    "    print(calc_n(a, b), calc_mean(a,b), calc_var(calc_n(a,b)))"
   ],
   "metadata": {
    "collapsed": false,
    "ExecuteTime": {
     "end_time": "2024-09-24T14:34:22.622896Z",
     "start_time": "2024-09-24T14:34:22.613635Z"
    }
   },
   "id": "41654f55dc5982bf",
   "execution_count": 238
  },
  {
   "cell_type": "code",
   "outputs": [],
   "source": [],
   "metadata": {
    "collapsed": false
   },
   "id": "78cde2b9cefb7f18"
  },
  {
   "cell_type": "markdown",
   "source": [
    "Find $n$ that $p_n \\ge 0.99$ "
   ],
   "metadata": {
    "collapsed": false
   },
   "id": "4c87fc761bfb304"
  },
  {
   "cell_type": "code",
   "outputs": [],
   "source": [
    "# N = 400_000\n",
    "N = 1_000_000\n",
    "\n",
    "a = 1\n",
    "b = 6\n",
    "Y = np.random.geometric( 1/(b-a + 1), N)"
   ],
   "metadata": {
    "collapsed": false,
    "ExecuteTime": {
     "end_time": "2024-09-24T12:26:16.298401Z",
     "start_time": "2024-09-24T12:26:16.259425Z"
    }
   },
   "id": "c504296d54327c4a",
   "execution_count": 117
  },
  {
   "cell_type": "code",
   "outputs": [],
   "source": [
    "ps, ns = np.histogram(Y, bins=np.arange(1, 40, 1))"
   ],
   "metadata": {
    "collapsed": false,
    "ExecuteTime": {
     "end_time": "2024-09-24T12:26:17.481684Z",
     "start_time": "2024-09-24T12:26:17.455960Z"
    }
   },
   "id": "c6956317f908e75c",
   "execution_count": 118
  },
  {
   "cell_type": "code",
   "outputs": [
    {
     "name": "stdout",
     "output_type": "stream",
     "text": [
      "5.993409\n",
      "29.940925558718988\n"
     ]
    },
    {
     "data": {
      "text/plain": "<Figure size 600x400 with 1 Axes>",
      "image/png": "[encoded data removed]"
     },
     "metadata": {},
     "output_type": "display_data"
    }
   ],
   "source": [
    "mask = ps <= 0.99      \n",
    "\n",
    "xs = ns[:-1]\n",
    "ys = ps\n",
    "\n",
    "plt.figure(figsize=(6, 4))\n",
    "\n",
    "plt.scatter(xs, ys, s=5, color=\"k\", marker='o', zorder=4)\n",
    "plt.vlines(xs, ymax = ys, ymin=np.zeros(ys.size), color='k', alpha = 0.6)\n",
    "\n",
    "\n",
    "plt.grid(color=(0.85, 0.85, 0.85))\n",
    "# plt.annotate(f\"$p_{{{n}}} = {{{intersection[1]:.3f}}} $\",(intersection[0]-10, intersection[1]-0.08), fontsize=12)\n",
    "# plt.yticks(np.arange(0, 1.1, 0.1, dtype=float))\n",
    "plt.xticks(np.arange(0, 36, 2, dtype=float))\n",
    "plt.xlim(0, 34)\n",
    "plt.ylim(0.0, np.max(ys) * 1.04)\n",
    "plt.title(\"$\\\\mathbf{A_n}$\", fontsize=12)\n",
    "plt.xlabel(\"$n$\", fontsize=12)\n",
    "plt.ylabel(\"Trials\", fontsize=12)\n",
    "\n",
    "print(np.mean(Y))\n",
    "print(np.var(Y))\n",
    "\n",
    "# run_sim_vec = np.vectorize(lambda x: run_sim(x, N))\n",
    "# ns = np.arange(500, dtype=int)\n",
    "# ps = run_sim_vec(ns)"
   ],
   "metadata": {
    "collapsed": false,
    "ExecuteTime": {
     "end_time": "2024-09-24T12:31:46.035170Z",
     "start_time": "2024-09-24T12:31:45.787743Z"
    }
   },
   "id": "fd85d86971ab5b0",
   "execution_count": 144
  },
  {
   "cell_type": "code",
   "outputs": [],
   "source": [
    "ps, ns = np.histogram(Y, bins=np.arange(1, 40, 1), density=True)"
   ],
   "metadata": {
    "collapsed": false,
    "ExecuteTime": {
     "end_time": "2024-09-24T12:32:11.252038Z",
     "start_time": "2024-09-24T12:32:11.225674Z"
    }
   },
   "id": "130946183ead31bb",
   "execution_count": 147
  },
  {
   "cell_type": "code",
   "outputs": [
    {
     "name": "stdout",
     "output_type": "stream",
     "text": [
      "5.993409\n",
      "29.940925558718988\n"
     ]
    },
    {
     "data": {
      "text/plain": "<Figure size 600x400 with 1 Axes>",
      "image/png": "[encoded data removed]"
     },
     "metadata": {},
     "output_type": "display_data"
    }
   ],
   "source": [
    "mask = ps <= 0.99      \n",
    "\n",
    "xs = ns[:-1]\n",
    "ys = ps\n",
    "\n",
    "plt.figure(figsize=(6, 4))\n",
    "\n",
    "plt.scatter(xs, ys, s=5, color=\"k\", marker='o', zorder=4)\n",
    "plt.vlines(xs, ymax = ys, ymin=np.zeros(ys.size), color='k', alpha = 0.6)\n",
    "\n",
    "\n",
    "plt.grid(color=(0.85, 0.85, 0.85))\n",
    "# plt.annotate(f\"$p_{{{n}}} = {{{intersection[1]:.3f}}} $\",(intersection[0]-10, intersection[1]-0.08), fontsize=12)\n",
    "plt.yticks(np.arange(0, 1.1, 0.1, dtype=float))\n",
    "plt.xticks(np.arange(0, 36, 2, dtype=float))\n",
    "plt.xlim(0, 35)\n",
    "plt.ylim(0.0, 1)\n",
    "plt.title(\"$\\\\mathbf{A_n}$\", fontsize=12)\n",
    "plt.xlabel(\"$n$\", fontsize=12)\n",
    "plt.ylabel(\"$p$\", fontsize=12)\n",
    "\n",
    "print(np.mean(Y))\n",
    "print(np.var(Y))\n",
    "\n",
    "# run_sim_vec = np.vectorize(lambda x: run_sim(x, N))\n",
    "# ns = np.arange(500, dtype=int)\n",
    "# ps = run_sim_vec(ns)"
   ],
   "metadata": {
    "collapsed": false,
    "ExecuteTime": {
     "end_time": "2024-09-24T12:33:21.781719Z",
     "start_time": "2024-09-24T12:33:21.545493Z"
    }
   },
   "id": "623ae522d2d8bc3c",
   "execution_count": 150
  }
 ],
 "metadata": {
  "kernelspec": {
   "display_name": "Python 3",
   "language": "python",
   "name": "python3"
  },
  "language_info": {
   "codemirror_mode": {
    "name": "ipython",
    "version": 2
   },
   "file_extension": ".py",
   "mimetype": "text/x-python",
   "name": "python",
   "nbconvert_exporter": "python",
   "pygments_lexer": "ipython2",
   "version": "2.7.6"
  }
 },
 "nbformat": 4,
 "nbformat_minor": 5
}
