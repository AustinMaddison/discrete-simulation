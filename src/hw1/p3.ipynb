{
 "cells": [
  {
   "cell_type": "markdown",
   "source": [
    "#### Discrete Simulation HW1\n",
    "#### Problem 3\n",
    "Authored: Austin Jetrin Maddison 6481268"
   ],
   "metadata": {
    "collapsed": false
   },
   "id": "4471b0b8d5bebd2c"
  },
  {
   "cell_type": "code",
   "execution_count": 3,
   "id": "7adf188e169d19df",
   "metadata": {
    "collapsed": false,
    "ExecuteTime": {
     "end_time": "2024-09-24T11:38:18.886111Z",
     "start_time": "2024-09-24T11:38:18.155233Z"
    }
   },
   "outputs": [],
   "source": [
    "import matplotlib.pyplot as plt\n",
    "import numpy as np\n",
    "\n",
    "from my_settings import *"
   ]
  },
  {
   "cell_type": "code",
   "outputs": [],
   "source": [
    "np.random.seed(27)"
   ],
   "metadata": {
    "collapsed": false,
    "ExecuteTime": {
     "end_time": "2024-09-24T02:20:08.970346Z",
     "start_time": "2024-09-24T02:20:08.965680Z"
    }
   },
   "id": "9a7f6d7cf1399a8b",
   "execution_count": 4
  },
  {
   "cell_type": "code",
   "outputs": [
    {
     "data": {
      "text/plain": "3.5"
     },
     "execution_count": 4,
     "metadata": {},
     "output_type": "execute_result"
    }
   ],
   "source": [
    "np.sum(np.arange(1,7,1) * 1/6)"
   ],
   "metadata": {
    "collapsed": false,
    "ExecuteTime": {
     "end_time": "2024-09-24T05:49:19.237483Z",
     "start_time": "2024-09-24T05:49:19.227902Z"
    }
   },
   "id": "1e621d522afd70a6",
   "execution_count": 4
  },
  {
   "cell_type": "code",
   "outputs": [],
   "source": [
    "def run_sim(n: int, N: int) -> float: \n",
    "    \n",
    "    \n",
    "    return "
   ],
   "metadata": {
    "collapsed": false,
    "ExecuteTime": {
     "end_time": "2024-09-21T03:02:09.488157Z",
     "start_time": "2024-09-21T03:02:09.478141Z"
    }
   },
   "id": "f2a8bc755c89d8e8",
   "execution_count": 203
  },
  {
   "cell_type": "markdown",
   "source": [
    "Find $n$ that $p_n \\ge 0.99$ "
   ],
   "metadata": {
    "collapsed": false
   },
   "id": "4c87fc761bfb304"
  },
  {
   "cell_type": "code",
   "outputs": [],
   "source": [
    "# N = 400_000\n",
    "N = 1_000_000\n",
    "\n",
    "a = 1\n",
    "b = 6\n",
    "Y = np.random.geometric( 1/(b-a + 1), N)"
   ],
   "metadata": {
    "collapsed": false,
    "ExecuteTime": {
     "end_time": "2024-09-24T11:38:50.342965Z",
     "start_time": "2024-09-24T11:38:50.306020Z"
    }
   },
   "id": "c504296d54327c4a",
   "execution_count": 6
  },
  {
   "cell_type": "code",
   "outputs": [
    {
     "name": "stdout",
     "output_type": "stream",
     "text": [
      "[ 1  2  3  4  5  6  7  8  9 10 11 12 13 14 15 16 17 18 19 20 21 22 23 24\n",
      " 25 26 27 28 29 30 31 32 33 34 35 36 37 38 39]\n"
     ]
    }
   ],
   "source": [
    "ps, ns = np.histogram(Y, bins=np.arange(1, 40, 1), density=True)\n",
    "\n",
    "print(ns)"
   ],
   "metadata": {
    "collapsed": false,
    "ExecuteTime": {
     "end_time": "2024-09-24T11:46:33.632140Z",
     "start_time": "2024-09-24T11:46:33.608076Z"
    }
   },
   "id": "130946183ead31bb",
   "execution_count": 39
  },
  {
   "cell_type": "code",
   "outputs": [
    {
     "name": "stdout",
     "output_type": "stream",
     "text": [
      "(38,)\n",
      "6.010467\n",
      "30.23965544191101\n"
     ]
    },
    {
     "data": {
      "text/plain": "<Figure size 600x400 with 1 Axes>",
      "image/png": "[encoded data removed]"
     },
     "metadata": {},
     "output_type": "display_data"
    }
   ],
   "source": [
    "mask = ps <= 0.99      \n",
    "\n",
    "# step_size = 10\n",
    "# \n",
    "# xs = ns[::step_size]\n",
    "# ys = ps[::step_size]\n",
    "# mask = mask[::step_size]\n",
    "\n",
    "xs = ns[:-1]\n",
    "ys = ps\n",
    "\n",
    "print(xs.shape)\n",
    "# mask = mask\n",
    "\n",
    "\n",
    "plt.figure(figsize=(6, 4))\n",
    "\n",
    "\n",
    "plt.scatter(xs, ys, s=5, color=\"k\", marker='o', zorder=4)\n",
    "plt.vlines(xs, ymax = ys, ymin=np.zeros(ys.size), color='k', alpha = 0.6)\n",
    "\n",
    "\n",
    "plt.grid(color=(0.85, 0.85, 0.85))\n",
    "# plt.annotate(f\"$p_{{{n}}} = {{{intersection[1]:.3f}}} $\",(intersection[0]-10, intersection[1]-0.08), fontsize=12)\n",
    "plt.yticks(np.arange(0, 1.1, 0.1, dtype=float))\n",
    "plt.xticks(np.arange(0, 36, 2, dtype=float))\n",
    "plt.xlim(0, 35)\n",
    "plt.ylim(0.0, 1)\n",
    "plt.title(\"$\\\\mathbf{ \\\\textbf{n such that }p_{n} \\ge 0.99}$\", fontsize=12)\n",
    "plt.xlabel(\"$n$\", fontsize=12)\n",
    "plt.ylabel(\"$p$\", fontsize=12)\n",
    "\n",
    "print(np.mean(Y))\n",
    "print(np.var(Y))\n",
    "\n",
    "# run_sim_vec = np.vectorize(lambda x: run_sim(x, N))\n",
    "# ns = np.arange(500, dtype=int)\n",
    "# ps = run_sim_vec(ns)"
   ],
   "metadata": {
    "collapsed": false,
    "ExecuteTime": {
     "end_time": "2024-09-24T11:52:51.920932Z",
     "start_time": "2024-09-24T11:52:51.682753Z"
    }
   },
   "id": "623ae522d2d8bc3c",
   "execution_count": 56
  }
 ],
 "metadata": {
  "kernelspec": {
   "display_name": "Python 3",
   "language": "python",
   "name": "python3"
  },
  "language_info": {
   "codemirror_mode": {
    "name": "ipython",
    "version": 2
   },
   "file_extension": ".py",
   "mimetype": "text/x-python",
   "name": "python",
   "nbconvert_exporter": "python",
   "pygments_lexer": "ipython2",
   "version": "2.7.6"
  }
 },
 "nbformat": 4,
 "nbformat_minor": 5
}
