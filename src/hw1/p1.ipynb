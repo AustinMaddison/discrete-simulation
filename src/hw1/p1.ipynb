{
 "cells": [
  {
   "cell_type": "markdown",
   "source": [
    "#### Discrete Simulation HW1\n",
    "#### Problem 1\n",
    "Authored: Austin Jetrin Maddison 6481268"
   ],
   "metadata": {
    "collapsed": false
   },
   "id": "4471b0b8d5bebd2c"
  },
  {
   "cell_type": "code",
   "execution_count": 37,
   "id": "7adf188e169d19df",
   "metadata": {
    "collapsed": false,
    "ExecuteTime": {
     "end_time": "2024-09-25T03:19:52.414396Z",
     "start_time": "2024-09-25T03:19:52.409119Z"
    }
   },
   "outputs": [],
   "source": [
    "import matplotlib.pyplot as plt\n",
    "import numpy as np\n",
    "\n",
    "from my_settings import *"
   ]
  },
  {
   "cell_type": "code",
   "outputs": [],
   "source": [
    "DAYS_IN_YEAR = 365\n",
    "get_ci  = lambda mean, var, n : (mean-1.96 * np.sqrt(var)/n, mean+1.96 * np.sqrt(var/n) )\n",
    "np.random.seed(27)"
   ],
   "metadata": {
    "collapsed": true,
    "ExecuteTime": {
     "end_time": "2024-09-25T03:19:52.504622Z",
     "start_time": "2024-09-25T03:19:52.497595Z"
    }
   },
   "id": "initial_id",
   "execution_count": 38
  },
  {
   "cell_type": "code",
   "outputs": [],
   "source": [
    "def run_sim(n: int, N: int) -> tuple[float, tuple[float, float]]: \n",
    "    \n",
    "    bd_lst = np.random.randint(0, 365, size=(N, n))\n",
    "    \n",
    "    success_occurred = np.apply_along_axis(lambda x: np.unique(x).shape[0] < n, axis=1, arr=bd_lst)\n",
    "  \n",
    "    success_mean = np.mean(success_occurred)\n",
    "    success_var = np.var(success_occurred)\n",
    "    \n",
    "    ci = get_ci(success_mean, success_var, N)\n",
    "    return (success_mean, ci)"
   ],
   "metadata": {
    "collapsed": false,
    "ExecuteTime": {
     "end_time": "2024-09-25T03:19:52.524449Z",
     "start_time": "2024-09-25T03:19:52.517779Z"
    }
   },
   "id": "f2a8bc755c89d8e8",
   "execution_count": 39
  },
  {
   "cell_type": "markdown",
   "source": [
    "Setting N"
   ],
   "metadata": {
    "collapsed": false
   },
   "id": "3efbb835862a381a"
  },
  {
   "cell_type": "code",
   "outputs": [],
   "source": [
    "N = 400_000"
   ],
   "metadata": {
    "collapsed": false,
    "ExecuteTime": {
     "end_time": "2024-09-25T03:19:52.535198Z",
     "start_time": "2024-09-25T03:19:52.529552Z"
    }
   },
   "id": "7c4fe12008120c43",
   "execution_count": 40
  },
  {
   "cell_type": "markdown",
   "source": [
    "a.)"
   ],
   "metadata": {
    "collapsed": false
   },
   "id": "ddfd78d3cc79e4a6"
  },
  {
   "cell_type": "code",
   "outputs": [
    {
     "name": "stdout",
     "output_type": "stream",
     "text": [
      "p_10 = 0.11644   \n",
      "CI  = (0.11643842831610976, 0.11743402017099534)\n"
     ]
    }
   ],
   "source": [
    "n = 10\n",
    "p_n ,ci = run_sim(n, N)\n",
    "print(f\"p_{n} = {p_n:<10.5f}\")\n",
    "print(f\"CI  = {ci}\")"
   ],
   "metadata": {
    "collapsed": false,
    "ExecuteTime": {
     "end_time": "2024-09-25T03:19:57.416624Z",
     "start_time": "2024-09-25T03:19:52.570726Z"
    }
   },
   "id": "5013e736fb4da9d1",
   "execution_count": 41
  },
  {
   "cell_type": "markdown",
   "source": [
    "b.)"
   ],
   "metadata": {
    "collapsed": false
   },
   "id": "78c2e2ce8af8b2c5"
  },
  {
   "cell_type": "code",
   "outputs": [
    {
     "name": "stdout",
     "output_type": "stream",
     "text": [
      "p_20 = 0.40944   \n",
      "CI  = (0.40944009051828517, 0.41096639003987057)\n"
     ]
    }
   ],
   "source": [
    "n = 20\n",
    "p_n ,ci = run_sim(n, N)\n",
    "print(f\"p_{n} = {p_n:<10.5f}\")\n",
    "print(f\"CI  = {ci}\")    "
   ],
   "metadata": {
    "collapsed": false,
    "ExecuteTime": {
     "end_time": "2024-09-25T03:20:02.130234Z",
     "start_time": "2024-09-25T03:19:57.422639Z"
    }
   },
   "id": "6f07d8ded27aedb7",
   "execution_count": 42
  },
  {
   "cell_type": "markdown",
   "source": [
    "c.)"
   ],
   "metadata": {
    "collapsed": false
   },
   "id": "da39e3ea8589f1e3"
  },
  {
   "cell_type": "code",
   "outputs": [
    {
     "name": "stdout",
     "output_type": "stream",
     "text": [
      "p_30 = 0.70632   \n",
      "CI  = (0.7063152683036785, 0.7077289486843725)\n"
     ]
    }
   ],
   "source": [
    "n = 30\n",
    "p_n ,ci = run_sim(n, N)\n",
    "print(f\"p_{n} = {p_n:<10.5f}\")\n",
    "print(f\"CI  = {ci}\")"
   ],
   "metadata": {
    "collapsed": false,
    "ExecuteTime": {
     "end_time": "2024-09-25T03:20:07.056047Z",
     "start_time": "2024-09-25T03:20:02.135252Z"
    }
   },
   "id": "1f09868c9a82d4d3",
   "execution_count": 43
  },
  {
   "cell_type": "markdown",
   "source": [
    "d.)"
   ],
   "metadata": {
    "collapsed": false
   },
   "id": "fe74435da3312c20"
  },
  {
   "cell_type": "code",
   "outputs": [],
   "source": [
    "ns = np.linspace(0, 50, 51, dtype=int)\n",
    "ps = np.zeros((51))\n",
    "\n",
    "for n in ns:\n",
    "    p_n ,ci = run_sim(n, N)   \n",
    "    ps[n] = p_n"
   ],
   "metadata": {
    "collapsed": false,
    "ExecuteTime": {
     "end_time": "2024-09-25T04:07:05.751433Z",
     "start_time": "2024-09-25T04:05:10.151145Z"
    }
   },
   "id": "b67d745edf83e1b0",
   "execution_count": 89
  },
  {
   "cell_type": "markdown",
   "source": [
    "Find intersection of p(n) = ps and p(n) = 0.5"
   ],
   "metadata": {
    "collapsed": false
   },
   "id": "ff0141f3fea0d483"
  },
  {
   "cell_type": "code",
   "outputs": [],
   "source": [
    "xs = ns"
   ],
   "metadata": {
    "collapsed": false,
    "ExecuteTime": {
     "end_time": "2024-09-25T04:07:12.626116Z",
     "start_time": "2024-09-25T04:07:12.621135Z"
    }
   },
   "id": "e874f803f647c382",
   "execution_count": 90
  },
  {
   "cell_type": "code",
   "outputs": [],
   "source": [
    "n = np.argmin(np.abs((np.ones((51, 1)) * 0.5) - ps))"
   ],
   "metadata": {
    "collapsed": false,
    "ExecuteTime": {
     "end_time": "2024-09-25T04:07:13.846166Z",
     "start_time": "2024-09-25T04:07:13.841323Z"
    }
   },
   "id": "768fdc8ffe9417c1",
   "execution_count": 91
  },
  {
   "cell_type": "code",
   "outputs": [
    {
     "name": "stdout",
     "output_type": "stream",
     "text": [
      "p_23 = 0.506275\n"
     ]
    }
   ],
   "source": [
    "intersection  = (n, ps[n].item())\n",
    "print(f'p_{intersection[0]} = {intersection[1]}')"
   ],
   "metadata": {
    "collapsed": false,
    "ExecuteTime": {
     "end_time": "2024-09-25T04:07:15.278439Z",
     "start_time": "2024-09-25T04:07:15.274298Z"
    }
   },
   "id": "7e0d3a49ec6a9a20",
   "execution_count": 92
  },
  {
   "cell_type": "code",
   "outputs": [
    {
     "data": {
      "text/plain": "<Figure size 600x400 with 1 Axes>",
      "image/png": "[encoded data removed]"
     },
     "metadata": {},
     "output_type": "display_data"
    }
   ],
   "source": [
    "plt.figure(figsize=(6, 4))\n",
    "# plt.grid(zorder=0)\n",
    "\n",
    "plt.axhline(0.5, alpha=0.5, color=\"k\", linestyle=\"--\", linewidth=1)\n",
    "\n",
    "mask = ps < 0.5\n",
    "        \n",
    "plt.scatter(xs[mask], ps[mask], s=5, color=(0.4, 0.4, 0.4), marker='o', zorder=4)\n",
    "plt.scatter(xs[~mask], ps[~mask], s=5, color=\"k\", marker='o', zorder=4)\n",
    "plt.vlines(xs, ymax = (mask) * ps, ymin=np.zeros(mask.size), color='k', alpha = 0.2)\n",
    "plt.vlines(xs, ymax = (~mask) * ps, ymin=np.zeros((~mask).size), color='k', alpha = 0.8)\n",
    "\n",
    "plt.scatter(intersection[0], intersection[1], s=20, color='k', marker='o')\n",
    "\n",
    "plt.annotate(f\"$p_{{{n}}} = {{{intersection[1]:.3f}}} $\",(intersection[0] -12, intersection[1]+ 0.01), fontsize=12)\n",
    "plt.xticks(np.arange(0, 51, 5, dtype=int))\n",
    "plt.yticks(np.arange(0, 1.1, 0.1, dtype=float))\n",
    "plt.xlim(0, 50)\n",
    "plt.ylim(0, 1)\n",
    "plt.title(\"$\\\\mathbf{ \\\\textbf{n such that }p_{n} \\ge 0.5}$\", fontsize=12)\n",
    "plt.xlabel(\"$n$\", fontsize=12)\n",
    "plt.ylabel(\"$p$\", fontsize=12)\n",
    "plt.savefig(\"tex/p1_d.svg\")"
   ],
   "metadata": {
    "collapsed": false,
    "ExecuteTime": {
     "end_time": "2024-09-25T04:07:18.925122Z",
     "start_time": "2024-09-25T04:07:16.711747Z"
    }
   },
   "id": "dc3fe37d7074caab",
   "execution_count": 93
  },
  {
   "cell_type": "code",
   "outputs": [],
   "source": [
    "N= 400_000\n",
    "n = 23  \n",
    "p_n ,ci = run_sim(n, N)\n",
    "print(p_n, ci)\n"
   ],
   "metadata": {
    "collapsed": false
   },
   "id": "ff7341e951e4d53e",
   "execution_count": null
  },
  {
   "cell_type": "code",
   "outputs": [],
   "source": [
    "def prod_func(n):\n",
    "    product = 1\n",
    "    for i in range(n):\n",
    "        product *= (DAYS_IN_YEAR - i) / 365 \n",
    "    return 1 - product"
   ],
   "metadata": {
    "collapsed": false,
    "ExecuteTime": {
     "end_time": "2024-09-25T04:07:26.848827Z",
     "start_time": "2024-09-25T04:07:26.843880Z"
    }
   },
   "id": "27c8246e145c1433",
   "execution_count": 94
  },
  {
   "cell_type": "code",
   "outputs": [],
   "source": [
    "ns = np.linspace(0, 50, 51, dtype=int)\n",
    "ys = np.zeros((51))\n",
    "\n",
    "for n in ns:\n",
    "    p_n = prod_func(n)   \n",
    "    ys[n] = p_n"
   ],
   "metadata": {
    "collapsed": false,
    "ExecuteTime": {
     "end_time": "2024-09-25T04:07:36.245616Z",
     "start_time": "2024-09-25T04:07:36.241156Z"
    }
   },
   "id": "72bc63e82efa65ee",
   "execution_count": 95
  },
  {
   "cell_type": "code",
   "outputs": [
    {
     "name": "stdout",
     "output_type": "stream",
     "text": [
      "p_23 = 0.5072972343239857\n"
     ]
    },
    {
     "data": {
      "text/plain": "<Figure size 600x400 with 1 Axes>",
      "image/png": "[encoded data removed]"
     },
     "metadata": {},
     "output_type": "display_data"
    }
   ],
   "source": [
    "n = np.argmin(np.abs((np.ones((51, 1)) * 0.5) - ys))\n",
    "intersection = (n, ys[n].item())\n",
    "print(f'p_{intersection[0]} = {intersection[1]}')\n",
    "plt.figure(figsize=(6, 4))\n",
    "\n",
    "plt.axhline(0.5, alpha=0.5, color=\"k\", linestyle=\"--\", linewidth=1)\n",
    "\n",
    "mask = ys < 0.5\n",
    "\n",
    "plt.scatter(xs[mask], ys[mask], s=5, color=(0.4, 0.4, 0.4), marker='o', zorder=4)\n",
    "plt.scatter(xs[~mask], ys[~mask], s=5, color=\"k\", marker='o', zorder=4)\n",
    "plt.vlines(xs, ymax=(mask) * ys, ymin=np.zeros(mask.size), color='k', alpha=0.2)\n",
    "plt.vlines(xs, ymax=(~mask) * ys, ymin=np.zeros((~mask).size), color='k', alpha=0.8)\n",
    "\n",
    "plt.scatter(intersection[0], intersection[1], s=20, color='k', marker='o')\n",
    "\n",
    "plt.annotate(f\"$p_{{{n}}} = {{{intersection[1]:.3f}}} $\", (intersection[0] - 12, intersection[1] + 0.01), fontsize=12)\n",
    "plt.xticks(np.arange(0, 51, 5, dtype=int))\n",
    "plt.yticks(np.arange(0, 1.1, 0.1, dtype=float))\n",
    "plt.xlim(0, 50)\n",
    "plt.ylim(0, 1)\n",
    "plt.title(\"$\\\\mathbf{ \\\\textbf{n such that }p(n) \\ge 0.5}$\", fontsize=12)\n",
    "plt.xlabel(\"$n$\", fontsize=12)\n",
    "plt.ylabel(\"$p$\", fontsize=12)\n",
    "plt.savefig(\"tex/p1_e.svg\")"
   ],
   "metadata": {
    "collapsed": false,
    "ExecuteTime": {
     "end_time": "2024-09-25T05:16:26.736697Z",
     "start_time": "2024-09-25T05:16:22.949164Z"
    }
   },
   "id": "4c813a4917d2e999",
   "execution_count": 100
  },
  {
   "cell_type": "code",
   "outputs": [
    {
     "data": {
      "text/plain": "2.0132555844434416e-07"
     },
     "execution_count": 98,
     "metadata": {},
     "output_type": "execute_result"
    }
   ],
   "source": [
    "np.sum((ps - ys)**2)/50"
   ],
   "metadata": {
    "collapsed": false,
    "ExecuteTime": {
     "end_time": "2024-09-25T04:18:57.785557Z",
     "start_time": "2024-09-25T04:18:57.779629Z"
    }
   },
   "id": "150abecf5294659f",
   "execution_count": 98
  }
 ],
 "metadata": {
  "kernelspec": {
   "display_name": "Python 3",
   "language": "python",
   "name": "python3"
  },
  "language_info": {
   "codemirror_mode": {
    "name": "ipython",
    "version": 2
   },
   "file_extension": ".py",
   "mimetype": "text/x-python",
   "name": "python",
   "nbconvert_exporter": "python",
   "pygments_lexer": "ipython2",
   "version": "2.7.6"
  }
 },
 "nbformat": 4,
 "nbformat_minor": 5
}
