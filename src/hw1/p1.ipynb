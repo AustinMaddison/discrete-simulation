{
 "cells": [
  {
   "cell_type": "markdown",
   "source": [
    "#### Discrete Simulation HW1\n",
    "#### Problem 1\n",
    "Authored: Austin Jetrin Maddison 6481268"
   ],
   "metadata": {
    "collapsed": false
   },
   "id": "4471b0b8d5bebd2c"
  },
  {
   "cell_type": "code",
   "execution_count": 1,
   "id": "7adf188e169d19df",
   "metadata": {
    "collapsed": false,
    "ExecuteTime": {
     "end_time": "2024-09-23T01:56:07.202572Z",
     "start_time": "2024-09-23T01:56:06.497247Z"
    }
   },
   "outputs": [],
   "source": [
    "from my_settings import *"
   ]
  },
  {
   "cell_type": "code",
   "outputs": [],
   "source": [
    "DAYS_IN_YEAR = 365\n",
    "get_ci  = lambda mean, var, n : (mean-1.96 * np.sqrt(var)/n, mean+1.96 * np.sqrt(var/n) )\n",
    "np.random.seed(27)"
   ],
   "metadata": {
    "collapsed": true,
    "ExecuteTime": {
     "end_time": "2024-09-23T01:56:07.210753Z",
     "start_time": "2024-09-23T01:56:07.205022Z"
    }
   },
   "id": "initial_id",
   "execution_count": 2
  },
  {
   "cell_type": "code",
   "outputs": [],
   "source": [
    "def run_sim(n: int, N: int) -> tuple[float, tuple[float, float]]: \n",
    "    \n",
    "    bd_lst = np.random.randint(0, 365, size=(N, n))\n",
    "    \n",
    "    success_occurred = np.apply_along_axis(lambda x: np.unique(x).shape[0] < n, axis=1, arr=bd_lst)\n",
    "  \n",
    "    success_mean = np.mean(success_occurred)\n",
    "    success_var = np.var(success_occurred)\n",
    "    \n",
    "    ci = get_ci(success_mean, success_var, N)\n",
    "    return (success_mean, ci)"
   ],
   "metadata": {
    "collapsed": false,
    "ExecuteTime": {
     "end_time": "2024-09-23T01:56:07.220902Z",
     "start_time": "2024-09-23T01:56:07.211759Z"
    }
   },
   "id": "f2a8bc755c89d8e8",
   "execution_count": 3
  },
  {
   "cell_type": "markdown",
   "source": [
    "Setting N"
   ],
   "metadata": {
    "collapsed": false
   },
   "id": "3efbb835862a381a"
  },
  {
   "cell_type": "code",
   "outputs": [],
   "source": [
    "N = 100_000"
   ],
   "metadata": {
    "collapsed": false,
    "ExecuteTime": {
     "end_time": "2024-09-23T01:56:07.229926Z",
     "start_time": "2024-09-23T01:56:07.221912Z"
    }
   },
   "id": "7c4fe12008120c43",
   "execution_count": 4
  },
  {
   "cell_type": "markdown",
   "source": [
    "a.)"
   ],
   "metadata": {
    "collapsed": false
   },
   "id": "ddfd78d3cc79e4a6"
  },
  {
   "cell_type": "code",
   "outputs": [
    {
     "name": "stdout",
     "output_type": "stream",
     "text": [
      "p_10 = 0.11686   \n",
      "CI  = (0.11685370343356169, 0.11885114913836368)\n"
     ]
    }
   ],
   "source": [
    "n = 10\n",
    "p_n ,ci = run_sim(n, N)\n",
    "print(f\"p_{n} = {p_n:<10.5f}\")\n",
    "print(f\"CI  = {ci}\")"
   ],
   "metadata": {
    "collapsed": false,
    "ExecuteTime": {
     "end_time": "2024-09-23T01:56:08.023512Z",
     "start_time": "2024-09-23T01:56:07.231934Z"
    }
   },
   "id": "5013e736fb4da9d1",
   "execution_count": 5
  },
  {
   "cell_type": "markdown",
   "source": [
    "b.)"
   ],
   "metadata": {
    "collapsed": false
   },
   "id": "78c2e2ce8af8b2c5"
  },
  {
   "cell_type": "code",
   "outputs": [
    {
     "name": "stdout",
     "output_type": "stream",
     "text": [
      "p_20 = 0.41126   \n",
      "CI  = (0.4112503555808057, 0.41430983313634673)\n"
     ]
    }
   ],
   "source": [
    "n = 20\n",
    "p_n ,ci = run_sim(n, N)\n",
    "print(f\"p_{n} = {p_n:<10.5f}\")\n",
    "print(f\"CI  = {ci}\")    "
   ],
   "metadata": {
    "collapsed": false,
    "ExecuteTime": {
     "end_time": "2024-09-23T01:56:10.003132Z",
     "start_time": "2024-09-23T01:56:08.025521Z"
    }
   },
   "id": "6f07d8ded27aedb7",
   "execution_count": 6
  },
  {
   "cell_type": "markdown",
   "source": [
    "c.)"
   ],
   "metadata": {
    "collapsed": false
   },
   "id": "da39e3ea8589f1e3"
  },
  {
   "cell_type": "code",
   "outputs": [
    {
     "name": "stdout",
     "output_type": "stream",
     "text": [
      "p_30 = 0.70595   \n",
      "CI  = (0.7059410699552646, 0.7087739280970945)\n"
     ]
    }
   ],
   "source": [
    "n = 30\n",
    "p_n ,ci = run_sim(n, N)\n",
    "print(f\"p_{n} = {p_n:<10.5f}\")\n",
    "print(f\"CI  = {ci}\")"
   ],
   "metadata": {
    "collapsed": false,
    "ExecuteTime": {
     "end_time": "2024-09-23T01:56:11.411175Z",
     "start_time": "2024-09-23T01:56:10.005310Z"
    }
   },
   "id": "1f09868c9a82d4d3",
   "execution_count": 7
  },
  {
   "cell_type": "markdown",
   "source": [
    "d.)"
   ],
   "metadata": {
    "collapsed": false
   },
   "id": "fe74435da3312c20"
  },
  {
   "cell_type": "code",
   "outputs": [],
   "source": [
    "ns = np.linspace(0, 50, 51, dtype=int)\n",
    "ps = np.zeros((51, 1))\n",
    "for n in ns:\n",
    "    p_n ,ci = run_sim(n+1, N)   \n",
    "    ps[n] = p_n"
   ],
   "metadata": {
    "collapsed": false,
    "ExecuteTime": {
     "end_time": "2024-09-23T01:56:59.260389Z",
     "start_time": "2024-09-23T01:56:11.412180Z"
    }
   },
   "id": "b67d745edf83e1b0",
   "execution_count": 8
  },
  {
   "cell_type": "markdown",
   "source": [
    "Find intersection of p(n) = ps and p(n) = 0.5"
   ],
   "metadata": {
    "collapsed": false
   },
   "id": "ff0141f3fea0d483"
  },
  {
   "cell_type": "code",
   "outputs": [],
   "source": [
    "n = np.argmin(np.abs((np.ones((51, 1)) * 0.5) - ps)) + 1\n"
   ],
   "metadata": {
    "collapsed": false,
    "ExecuteTime": {
     "end_time": "2024-09-23T01:56:59.268194Z",
     "start_time": "2024-09-23T01:56:59.261442Z"
    }
   },
   "id": "768fdc8ffe9417c1",
   "execution_count": 9
  },
  {
   "cell_type": "code",
   "outputs": [
    {
     "name": "stdout",
     "output_type": "stream",
     "text": [
      "p_23 = 0.53788\n"
     ]
    }
   ],
   "source": [
    "intersection  = (n, ps[n].item())\n",
    "print(f'p_{intersection[0]} = {intersection[1]}')"
   ],
   "metadata": {
    "collapsed": false,
    "ExecuteTime": {
     "end_time": "2024-09-23T01:56:59.308051Z",
     "start_time": "2024-09-23T01:56:59.271206Z"
    }
   },
   "id": "7e0d3a49ec6a9a20",
   "execution_count": 10
  },
  {
   "cell_type": "code",
   "outputs": [
    {
     "data": {
      "text/plain": "<Figure size 600x400 with 1 Axes>",
      "image/png": "[encoded data removed]"
     },
     "metadata": {},
     "output_type": "display_data"
    }
   ],
   "source": [
    "plt.figure(figsize=(6, 4))\n",
    "plt.plot(ns, ps, 'k', alpha=0.65)\n",
    "plt.grid()\n",
    "plt.scatter(intersection[0], intersection[1], s=20, color='k', marker='x')\n",
    "plt.annotate(f\"$p_{{{n}}} = {{{intersection[1]:.4f}}} $\",(intersection[0], intersection[1]-0.06), fontsize=12)\n",
    "plt.xticks(np.arange(0, 51, 5, dtype=int))\n",
    "plt.yticks(np.arange(0, 1.1, 0.1, dtype=float))\n",
    "plt.xlim(0, 50)\n",
    "plt.ylim(0, 1)\n",
    "plt.title(\"$\\\\mathbf{ \\\\textbf{n such that }p_{n} \\ge 0.5}$\", fontsize=12)\n",
    "plt.xlabel(\"$n$\", fontsize=12)\n",
    "plt.ylabel(\"$p$\", fontsize=12)\n",
    "plt.savefig(\"tex/p1_d.svg\")"
   ],
   "metadata": {
    "collapsed": false,
    "ExecuteTime": {
     "end_time": "2024-09-23T01:57:03.106309Z",
     "start_time": "2024-09-23T01:56:59.310058Z"
    }
   },
   "id": "dc3fe37d7074caab",
   "execution_count": 11
  }
 ],
 "metadata": {
  "kernelspec": {
   "display_name": "Python 3",
   "language": "python",
   "name": "python3"
  },
  "language_info": {
   "codemirror_mode": {
    "name": "ipython",
    "version": 2
   },
   "file_extension": ".py",
   "mimetype": "text/x-python",
   "name": "python",
   "nbconvert_exporter": "python",
   "pygments_lexer": "ipython2",
   "version": "2.7.6"
  }
 },
 "nbformat": 4,
 "nbformat_minor": 5
}
