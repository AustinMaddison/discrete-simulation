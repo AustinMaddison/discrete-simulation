{
 "cells": [
  {
   "cell_type": "markdown",
   "source": [
    "#### Discrete Simulation HW1\n",
    "#### Problem 2\n",
    "Authored: Austin Jetrin Maddison 6481268"
   ],
   "metadata": {
    "collapsed": false
   },
   "id": "4471b0b8d5bebd2c"
  },
  {
   "cell_type": "code",
   "execution_count": 9,
   "id": "7adf188e169d19df",
   "metadata": {
    "collapsed": false,
    "ExecuteTime": {
     "end_time": "2024-09-24T10:43:44.727379Z",
     "start_time": "2024-09-24T10:43:44.720913Z"
    }
   },
   "outputs": [],
   "source": [
    "import matplotlib.pyplot as plt\n",
    "\n",
    "from my_settings import *"
   ]
  },
  {
   "cell_type": "code",
   "outputs": [],
   "source": [
    "np.random.seed(27)"
   ],
   "metadata": {
    "collapsed": false,
    "ExecuteTime": {
     "end_time": "2024-09-24T10:43:44.744378Z",
     "start_time": "2024-09-24T10:43:44.738046Z"
    }
   },
   "id": "9a7f6d7cf1399a8b",
   "execution_count": 10
  },
  {
   "cell_type": "code",
   "outputs": [],
   "source": [
    "def run_sim(n: int, N: int) -> float: \n",
    "    \n",
    "    # bob's random choices\n",
    "    rand_vals = np.random.ranf(N)\n",
    "    xs = np.zeros((N, n))  # N sets of n values\n",
    "    groundtruth = np.zeros(N, dtype=int)\n",
    "    mask_1 = rand_vals > 0.5\n",
    "\n",
    "    # alice pressing the buttons n times\n",
    "    xs[mask_1] = np.random.randint(1, 99+1, size=(mask_1.sum(), n))\n",
    "    groundtruth[mask_1] = 1\n",
    "    xs[~mask_1] = np.random.randint(2, 100+1, size=((~mask_1).sum(), n))\n",
    "    groundtruth[~mask_1] = 2\n",
    "\n",
    "    # Case 1: Check for exclusive outputs (presence of 1 or 100)\n",
    "    found_1 = np.any(xs == 1, axis=1)\n",
    "    found_100 = np.any(xs == 100, axis=1)\n",
    "\n",
    "    correct_case_1 = np.zeros(N, dtype=int)\n",
    "    correct_case_1[found_1] = 1\n",
    "    correct_case_1[found_100] = 2\n",
    "    \n",
    "    correct_case_1 = correct_case_1 == groundtruth \n",
    "\n",
    "    # Case 2: For remaining cases, compute mean distances\n",
    "    button_1_mean = (1 + 99) / 2\n",
    "    button_2_mean = (2 + 100) / 2\n",
    "\n",
    "    remaining_cases = (~found_1) & (~found_100)\n",
    "    x_means = np.mean(xs[remaining_cases], axis=1)\n",
    "    dists_1 = np.abs(x_means - button_1_mean)\n",
    "    dists_2 = np.abs(x_means - button_2_mean)\n",
    "    predictions_case_2 = (dists_1 > dists_2).astype(int) + 1\n",
    "\n",
    "    correct_case_2 = groundtruth[remaining_cases] == predictions_case_2\n",
    "\n",
    "    correct = np.zeros(N, dtype=bool)\n",
    "    correct[remaining_cases] = correct_case_2\n",
    "    correct[~remaining_cases] = correct_case_1[~remaining_cases]\n",
    "\n",
    "    return np.mean(correct)"
   ],
   "metadata": {
    "collapsed": false,
    "ExecuteTime": {
     "end_time": "2024-09-24T10:43:44.833674Z",
     "start_time": "2024-09-24T10:43:44.767663Z"
    }
   },
   "id": "f2a8bc755c89d8e8",
   "execution_count": 11
  },
  {
   "cell_type": "markdown",
   "source": [
    "Find $n$ that $p_n \\ge 0.99$ "
   ],
   "metadata": {
    "collapsed": false
   },
   "id": "4c87fc761bfb304"
  },
  {
   "cell_type": "code",
   "outputs": [],
   "source": [
    "N = 200_000\n",
    "run_sim_vec = np.vectorize(lambda x: run_sim(x, N))\n",
    "ns = np.arange(500, dtype=int)\n",
    "ps = run_sim_vec(ns)"
   ],
   "metadata": {
    "collapsed": false,
    "ExecuteTime": {
     "start_time": "2024-09-24T10:57:06.087035Z"
    }
   },
   "id": "623ae522d2d8bc3c",
   "execution_count": null
  },
  {
   "cell_type": "code",
   "outputs": [
    {
     "name": "stdout",
     "output_type": "stream",
     "text": [
      "n=385 = 0.9899075\n"
     ]
    }
   ],
   "source": [
    "n = np.argmin(np.abs((np.ones(np.shape(ns)) * 0.990) - ps))\n",
    "intersection  = (n+1, ps[n+1].item())\n",
    "print(f'n={intersection[0]} = {intersection[1]}')"
   ],
   "metadata": {
    "collapsed": false,
    "ExecuteTime": {
     "end_time": "2024-09-24T11:14:22.863491Z",
     "start_time": "2024-09-24T11:14:22.858266Z"
    }
   },
   "id": "9f661b16413f1b2f",
   "execution_count": 44
  },
  {
   "cell_type": "code",
   "outputs": [
    {
     "data": {
      "text/plain": "<Figure size 600x400 with 1 Axes>",
      "image/png": "[encoded data removed]"
     },
     "metadata": {},
     "output_type": "display_data"
    }
   ],
   "source": [
    "mask = ps <= 0.99      \n",
    "\n",
    "step_size = 10\n",
    "\n",
    "xs = ns[::step_size]\n",
    "ys = ps[::step_size]\n",
    "mask = mask[::step_size]\n",
    "        \n",
    "plt.figure(figsize=(6, 4))\n",
    "\n",
    "plt.axhline(0.99, alpha=0.5, color=\"k\", linestyle=\"--\", linewidth=1)\n",
    "\n",
    "plt.scatter(xs[mask], ys[mask], s=5, color=(0.4, 0.4, 0.4), marker='o', zorder=4)\n",
    "plt.scatter(xs[~mask], ys[~mask], s=5, color=\"k\", marker='o', zorder=4)\n",
    "plt.vlines(xs, ymax = (mask) * ys, ymin=np.zeros(mask.size), color='k', alpha = 0.2)\n",
    "plt.vlines(xs, ymax = (~mask) * ys, ymin=np.zeros((~mask).size), color='k', alpha = 0.6)\n",
    "\n",
    "plt.scatter(intersection[0], intersection[1], s=20, color='k', marker='o', zorder=5)\n",
    "plt.vlines(intersection[0], ymax = intersection[1] , ymin=0, color='k', alpha = 0.8, linewidth=2)\n",
    "\n",
    "\n",
    "# plt.grid(color=(0.85, 0.85, 0.85))\n",
    "\n",
    "# plt.annotate(f\"$p_{{{n}}} = {{{intersection[1]:.3f}}} $\",(intersection[0]-10, intersection[1]-0.08), fontsize=12)\n",
    "plt.yticks(np.arange(0, 1.1, 0.1, dtype=float))\n",
    "plt.xlim(0, 500)\n",
    "plt.ylim(0.0, 1.02)\n",
    "plt.title(\"$\\\\mathbf{ \\\\textbf{n such that }p_{n} \\ge 0.99}$\", fontsize=12)\n",
    "plt.xlabel(\"$n$\", fontsize=12)\n",
    "plt.ylabel(\"$p$\", fontsize=12)\n",
    "plt.savefig(\"tex/p2_1.svg\")"
   ],
   "metadata": {
    "collapsed": false,
    "ExecuteTime": {
     "end_time": "2024-09-24T11:56:19.310284Z",
     "start_time": "2024-09-24T11:56:19.023186Z"
    }
   },
   "id": "b1e839e687dda972",
   "execution_count": 140
  },
  {
   "cell_type": "code",
   "outputs": [
    {
     "data": {
      "text/plain": "<Figure size 600x400 with 1 Axes>",
      "image/png": "[encoded data removed]"
     },
     "metadata": {},
     "output_type": "display_data"
    }
   ],
   "source": [
    "mask = ps <= 0.99      \n",
    "\n",
    "\n",
    "step_size = 5\n",
    "\n",
    "xs = ns[::step_size]\n",
    "ys = ps[::step_size]\n",
    "mask = mask[::step_size]\n",
    "        \n",
    "plt.figure(figsize=(6, 4))\n",
    "\n",
    "plt.axhline(0.99, alpha=0.5, color=\"k\", linestyle=\"--\", linewidth=1)\n",
    "\n",
    "plt.scatter(xs[mask], ys[mask], s=5, color=(0.4, 0.4, 0.4), marker='o', zorder=4)\n",
    "plt.scatter(xs[~mask], ys[~mask], s=5, color=\"k\", marker='o', zorder=4)\n",
    "plt.vlines(xs, ymax = (mask) * ys, ymin=np.zeros(mask.size), color='k', alpha = 0.2)\n",
    "plt.vlines(xs, ymax = (~mask) * ys, ymin=np.zeros((~mask).size), color='k', alpha = 0.6)\n",
    "\n",
    "plt.scatter(intersection[0], intersection[1], s=20, color='k', marker='o', zorder=5)\n",
    "plt.vlines(intersection[0], ymax = intersection[1] , ymin=0, color='k', alpha = 0.8, linewidth=2)\n",
    "\n",
    "plt.yticks(np.arange(0, 1.1, 0.05, dtype=float))\n",
    "\n",
    "plt.xlim(200, 500)\n",
    "plt.ylim(0.8, 1.02)\n",
    "\n",
    "\n",
    "plt.annotate(f\"$p_{{{n}}} = {{{intersection[1]:.3f}}} $\",(intersection[0]-40, intersection[1]+0.01), fontsize=12, zorder = 7)\n",
    "\n",
    "\n",
    "# plt.grid(color=(0.85, 0.85, 0.85))\n",
    "\n",
    "plt.title(\"$\\\\mathbf{ \\\\textbf{n such that }p_{n} \\ge 0.99}$\", fontsize=12)\n",
    "plt.xlabel(\"$n$\", fontsize=12)\n",
    "plt.ylabel(\"$p$\", fontsize=12)\n",
    "plt.savefig(\"tex/p2_2.svg\")"
   ],
   "metadata": {
    "collapsed": false,
    "ExecuteTime": {
     "end_time": "2024-09-24T12:05:03.117262Z",
     "start_time": "2024-09-24T12:05:02.830417Z"
    }
   },
   "id": "ee103994134dd830",
   "execution_count": 142
  }
 ],
 "metadata": {
  "kernelspec": {
   "display_name": "Python 3",
   "language": "python",
   "name": "python3"
  },
  "language_info": {
   "codemirror_mode": {
    "name": "ipython",
    "version": 2
   },
   "file_extension": ".py",
   "mimetype": "text/x-python",
   "name": "python",
   "nbconvert_exporter": "python",
   "pygments_lexer": "ipython2",
   "version": "2.7.6"
  }
 },
 "nbformat": 4,
 "nbformat_minor": 5
}
