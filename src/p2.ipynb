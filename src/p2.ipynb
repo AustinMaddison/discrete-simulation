{
 "cells": [
  {
   "cell_type": "markdown",
   "source": [
    "#### Discrete Simulation HW1\n",
    "#### Problem 2\n",
    "Authored: Austin Jetrin Maddison 6481268"
   ],
   "metadata": {
    "collapsed": false
   },
   "id": "4471b0b8d5bebd2c"
  },
  {
   "cell_type": "code",
   "execution_count": 23,
   "id": "7adf188e169d19df",
   "metadata": {
    "collapsed": false,
    "ExecuteTime": {
     "end_time": "2024-09-19T00:13:57.279551Z",
     "start_time": "2024-09-19T00:13:57.274747Z"
    }
   },
   "outputs": [],
   "source": [
    "import numpy as np"
   ]
  },
  {
   "cell_type": "code",
   "outputs": [],
   "source": [
    "\n",
    "buttton_1 = lambda : np.randi(1, 99)\n",
    "buttton_2 = lambda : np.randi(2, 100)\n",
    "\n",
    "buttons = [np.randint(1, 99, 1), np.randint(2, 100,1)]\n",
    "np.georand\n",
    "DAYS_IN_YEAR = 365\n",
    "get_ci  = lambda mean, var, n : (mean-1.96 * np.sqrt(var)/n, mean+1.96 * np.sqrt(var/n) )\n",
    "np.random.seed(27)"
   ],
   "metadata": {
    "collapsed": true,
    "ExecuteTime": {
     "end_time": "2024-09-19T00:13:57.334508Z",
     "start_time": "2024-09-19T00:13:57.330008Z"
    }
   },
   "id": "initial_id",
   "execution_count": 24
  },
  {
   "cell_type": "code",
   "outputs": [],
   "source": [
    "\n",
    "\n",
    "\n",
    "def run_sim(n: int, N: int) -> tuple[float, tuple[float, float]]: \n",
    "    \n",
    "    failures_lst = np.zeros((N, 1))\n",
    "    \n",
    "    for N_idx in range(0, N): \n",
    "        bd_set = set()\n",
    "        bd_lst = np.random.randint(0, 365, n)\n",
    "        for n_idx in range(0, n):\n",
    "            bd_set.add(bd_lst[n_idx])\n",
    "            \n",
    "            if len(bd_set) != n_idx+1 :  # if coinciding stop\n",
    "                break\n",
    "            failures_lst[N_idx] +=  1\n",
    "            \n",
    "    success_occured = failures_lst != n\n",
    "    success_mean = np.mean(success_occured)\n",
    "    success_var = np.var(success_occured)\n",
    "    ci = get_ci(success_mean, success_var, N)\n",
    "    \n",
    "    return (success_mean, ci)"
   ],
   "metadata": {
    "collapsed": false,
    "ExecuteTime": {
     "end_time": "2024-09-19T00:22:25.882663Z",
     "start_time": "2024-09-19T00:22:25.874629Z"
    }
   },
   "id": "f2a8bc755c89d8e8",
   "execution_count": 185
  },
  {
   "cell_type": "markdown",
   "source": [
    "Setting N"
   ],
   "metadata": {
    "collapsed": false
   },
   "id": "3efbb835862a381a"
  },
  {
   "cell_type": "code",
   "outputs": [],
   "source": [
    "N = 1000"
   ],
   "metadata": {
    "collapsed": false,
    "ExecuteTime": {
     "end_time": "2024-09-19T00:22:29.964970Z",
     "start_time": "2024-09-19T00:22:29.961566Z"
    }
   },
   "id": "7c4fe12008120c43",
   "execution_count": 186
  },
  {
   "cell_type": "markdown",
   "source": [
    "a.)"
   ],
   "metadata": {
    "collapsed": false
   },
   "id": "ddfd78d3cc79e4a6"
  },
  {
   "cell_type": "code",
   "outputs": [
    {
     "name": "stdout",
     "output_type": "stream",
     "text": [
      "p_10 = 0.1100    \n",
      "CI  = (0.10938673607639125, 0.1293931080541516)\n"
     ]
    }
   ],
   "source": [
    "n = 10\n",
    "p_n ,ci = run_sim(n, N)\n",
    "print(f\"p_{n} = {p_n:<10.4f}\")\n",
    "print(f\"CI  = {ci}\")"
   ],
   "metadata": {
    "collapsed": false,
    "ExecuteTime": {
     "end_time": "2024-09-19T00:26:36.477980Z",
     "start_time": "2024-09-19T00:26:36.427850Z"
    }
   },
   "id": "5013e736fb4da9d1",
   "execution_count": 204
  },
  {
   "cell_type": "markdown",
   "source": [
    "b.)"
   ],
   "metadata": {
    "collapsed": false
   },
   "id": "78c2e2ce8af8b2c5"
  },
  {
   "cell_type": "code",
   "outputs": [
    {
     "name": "stdout",
     "output_type": "stream",
     "text": [
      "p_20 = 0.4140    \n",
      "CI  = (0.41303460498944733, 0.4445284707510874)\n"
     ]
    }
   ],
   "source": [
    "n = 20\n",
    "p_n ,ci = run_sim(n, N)\n",
    "print(f\"p_{n} = {p_n:<10.4f}\")\n",
    "print(f\"CI  = {ci}\")"
   ],
   "metadata": {
    "collapsed": false,
    "ExecuteTime": {
     "end_time": "2024-09-19T00:26:38.085858Z",
     "start_time": "2024-09-19T00:26:38.027427Z"
    }
   },
   "id": "6f07d8ded27aedb7",
   "execution_count": 205
  },
  {
   "cell_type": "markdown",
   "source": [
    "c.)"
   ],
   "metadata": {
    "collapsed": false
   },
   "id": "da39e3ea8589f1e3"
  },
  {
   "cell_type": "code",
   "outputs": [
    {
     "name": "stdout",
     "output_type": "stream",
     "text": [
      "p_30 = 0.7110    \n",
      "CI  = (0.710111536086045, 0.7390956958696523)\n"
     ]
    }
   ],
   "source": [
    "n = 30\n",
    "p_n ,ci = run_sim(n, N)\n",
    "print(f\"p_{n} = {p_n:<10.4f}\")\n",
    "print(f\"CI  = {ci}\")"
   ],
   "metadata": {
    "collapsed": false,
    "ExecuteTime": {
     "end_time": "2024-09-19T00:26:39.325725Z",
     "start_time": "2024-09-19T00:26:39.262380Z"
    }
   },
   "id": "1f09868c9a82d4d3",
   "execution_count": 206
  },
  {
   "cell_type": "markdown",
   "source": [
    "d.)"
   ],
   "metadata": {
    "collapsed": false
   },
   "id": "fe74435da3312c20"
  },
  {
   "cell_type": "code",
   "outputs": [
    {
     "name": "stdout",
     "output_type": "stream",
     "text": [
      "p_30 = 0.7140    \n",
      "CI  = (0.7131142968406966, 0.7420083931420565)\n"
     ]
    }
   ],
   "source": [
    "n = 30\n",
    "p_n ,ci = run_sim(n, N)\n",
    "print(f\"p_{n} = {p_n:<10.4f}\")\n",
    "print(f\"CI  = {ci}\")"
   ],
   "metadata": {
    "collapsed": false,
    "ExecuteTime": {
     "end_time": "2024-09-19T00:26:46.304045Z",
     "start_time": "2024-09-19T00:26:46.237961Z"
    }
   },
   "id": "768fdc8ffe9417c1",
   "execution_count": 207
  }
 ],
 "metadata": {
  "kernelspec": {
   "display_name": "Python 3",
   "language": "python",
   "name": "python3"
  },
  "language_info": {
   "codemirror_mode": {
    "name": "ipython",
    "version": 2
   },
   "file_extension": ".py",
   "mimetype": "text/x-python",
   "name": "python",
   "nbconvert_exporter": "python",
   "pygments_lexer": "ipython2",
   "version": "2.7.6"
  }
 },
 "nbformat": 4,
 "nbformat_minor": 5
}
