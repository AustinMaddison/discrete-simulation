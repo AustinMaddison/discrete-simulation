{
 "cells": [
  {
   "cell_type": "markdown",
   "source": [
    "#### Discrete Simulation HW1\n",
    "#### Problem 1\n",
    "Authored: Austin Jetrin Maddison 6481268"
   ],
   "metadata": {
    "collapsed": false
   },
   "id": "4471b0b8d5bebd2c"
  },
  {
   "cell_type": "code",
   "execution_count": 276,
   "id": "7adf188e169d19df",
   "metadata": {
    "collapsed": false,
    "ExecuteTime": {
     "end_time": "2024-09-19T15:07:53.013805Z",
     "start_time": "2024-09-19T15:07:53.007047Z"
    }
   },
   "outputs": [],
   "source": [
    "import numpy as np\n",
    "from matplotlib import pyplot as plt\n",
    "\n",
    "plt.rcParams['text.usetex'] = True\n",
    "plt.rcParams['text.latex.preamble'] = r'\\usepackage{amsmath}'  \n",
    "plt.rcParams['font.family'] = 'sans-serif'\n",
    "plt.rcParams['font.sans-serif'] = ['DejaVu Sans']"
   ]
  },
  {
   "cell_type": "code",
   "outputs": [],
   "source": [
    "DAYS_IN_YEAR = 365\n",
    "get_ci  = lambda mean, var, n : (mean-1.96 * np.sqrt(var)/n, mean+1.96 * np.sqrt(var/n) )\n",
    "np.random.seed(27)"
   ],
   "metadata": {
    "collapsed": true,
    "ExecuteTime": {
     "end_time": "2024-09-19T15:05:53.519947Z",
     "start_time": "2024-09-19T15:05:53.514321Z"
    }
   },
   "id": "initial_id",
   "execution_count": 266
  },
  {
   "cell_type": "code",
   "outputs": [],
   "source": [
    "def run_sim(n: int, N: int) -> tuple[float, tuple[float, float]]: \n",
    "    \n",
    "    bd_lst = np.random.randint(0, 365, size=(N, n))\n",
    "    \n",
    "    success_occurred = np.apply_along_axis(lambda x: np.unique(x).shape[0] < n, axis=1, arr=bd_lst)\n",
    "  \n",
    "    success_mean = np.mean(success_occurred)\n",
    "    success_var = np.var(success_occurred)\n",
    "    \n",
    "    ci = get_ci(success_mean, success_var, N)\n",
    "    return (success_mean, ci)"
   ],
   "metadata": {
    "collapsed": false,
    "ExecuteTime": {
     "end_time": "2024-09-19T15:05:53.541442Z",
     "start_time": "2024-09-19T15:05:53.523246Z"
    }
   },
   "id": "f2a8bc755c89d8e8",
   "execution_count": 267
  },
  {
   "cell_type": "markdown",
   "source": [
    "Setting N"
   ],
   "metadata": {
    "collapsed": false
   },
   "id": "3efbb835862a381a"
  },
  {
   "cell_type": "code",
   "outputs": [],
   "source": [
    "N = 100_000"
   ],
   "metadata": {
    "collapsed": false,
    "ExecuteTime": {
     "end_time": "2024-09-19T15:05:53.566826Z",
     "start_time": "2024-09-19T15:05:53.542455Z"
    }
   },
   "id": "7c4fe12008120c43",
   "execution_count": 268
  },
  {
   "cell_type": "markdown",
   "source": [
    "a.)"
   ],
   "metadata": {
    "collapsed": false
   },
   "id": "ddfd78d3cc79e4a6"
  },
  {
   "cell_type": "code",
   "outputs": [
    {
     "name": "stdout",
     "output_type": "stream",
     "text": [
      "p_10 = 0.1169    \n",
      "CI  = (0.11685370343356169, 0.11885114913836368)\n"
     ]
    }
   ],
   "source": [
    "n = 10\n",
    "p_n ,ci = run_sim(n, N)\n",
    "print(f\"p_{n} = {p_n:<10.4f}\")\n",
    "print(f\"CI  = {ci}\")"
   ],
   "metadata": {
    "collapsed": false,
    "ExecuteTime": {
     "end_time": "2024-09-19T15:05:54.612913Z",
     "start_time": "2024-09-19T15:05:53.569838Z"
    }
   },
   "id": "5013e736fb4da9d1",
   "execution_count": 269
  },
  {
   "cell_type": "markdown",
   "source": [
    "b.)"
   ],
   "metadata": {
    "collapsed": false
   },
   "id": "78c2e2ce8af8b2c5"
  },
  {
   "cell_type": "code",
   "outputs": [
    {
     "name": "stdout",
     "output_type": "stream",
     "text": [
      "p_20 = 0.4113    \n",
      "CI  = (0.4112503555808057, 0.41430983313634673)\n"
     ]
    }
   ],
   "source": [
    "n = 20\n",
    "p_n ,ci = run_sim(n, N)\n",
    "print(f\"p_{n} = {p_n:<10.4f}\")\n",
    "print(f\"CI  = {ci}\")    "
   ],
   "metadata": {
    "collapsed": false,
    "ExecuteTime": {
     "end_time": "2024-09-19T15:05:55.418265Z",
     "start_time": "2024-09-19T15:05:54.613924Z"
    }
   },
   "id": "6f07d8ded27aedb7",
   "execution_count": 270
  },
  {
   "cell_type": "markdown",
   "source": [
    "c.)"
   ],
   "metadata": {
    "collapsed": false
   },
   "id": "da39e3ea8589f1e3"
  },
  {
   "cell_type": "code",
   "outputs": [
    {
     "name": "stdout",
     "output_type": "stream",
     "text": [
      "p_30 = 0.7059    \n",
      "CI  = (0.7059410699552646, 0.7087739280970945)\n"
     ]
    }
   ],
   "source": [
    "n = 30\n",
    "p_n ,ci = run_sim(n, N)\n",
    "print(f\"p_{n} = {p_n:<10.4f}\")\n",
    "print(f\"CI  = {ci}\")"
   ],
   "metadata": {
    "collapsed": false,
    "ExecuteTime": {
     "end_time": "2024-09-19T15:05:56.260507Z",
     "start_time": "2024-09-19T15:05:55.420277Z"
    }
   },
   "id": "1f09868c9a82d4d3",
   "execution_count": 271
  },
  {
   "cell_type": "markdown",
   "source": [
    "d.)"
   ],
   "metadata": {
    "collapsed": false
   },
   "id": "fe74435da3312c20"
  },
  {
   "cell_type": "code",
   "outputs": [],
   "source": [
    "ns = np.linspace(0, 50, 51, dtype=int)\n",
    "ps = np.zeros((51, 1))\n",
    "\n",
    "for n in ns:\n",
    "    p_n ,ci = run_sim(n+1, N)   \n",
    "    ps[n] = p_n"
   ],
   "metadata": {
    "collapsed": false,
    "ExecuteTime": {
     "end_time": "2024-09-19T15:06:39.817182Z",
     "start_time": "2024-09-19T15:05:56.262535Z"
    }
   },
   "id": "b67d745edf83e1b0",
   "execution_count": 272
  },
  {
   "cell_type": "markdown",
   "source": [
    "Find intersection of p(n) = ps and p(n) = 0.5"
   ],
   "metadata": {
    "collapsed": false
   },
   "id": "ff0141f3fea0d483"
  },
  {
   "cell_type": "code",
   "outputs": [
    {
     "name": "stdout",
     "output_type": "stream",
     "text": [
      "p_23 = 0.53788\n"
     ]
    }
   ],
   "source": [
    "n = np.argmin(np.abs((np.ones((51, 1)) * 0.5) - ps)) + 1\n",
    "intersection  = (n, ps[n].item())\n",
    "print(f'p_{intersection[0]} = {intersection[1]}')"
   ],
   "metadata": {
    "collapsed": false,
    "ExecuteTime": {
     "end_time": "2024-09-19T15:12:11.950860Z",
     "start_time": "2024-09-19T15:12:11.946793Z"
    }
   },
   "id": "768fdc8ffe9417c1",
   "execution_count": 285
  },
  {
   "cell_type": "code",
   "outputs": [
    {
     "data": {
      "text/plain": "Text(0, 0.5, '$p$')"
     },
     "execution_count": 286,
     "metadata": {},
     "output_type": "execute_result"
    },
    {
     "data": {
      "text/plain": "<Figure size 600x400 with 1 Axes>",
      "image/png": "[encoded data removed]"
     },
     "metadata": {},
     "output_type": "display_data"
    }
   ],
   "source": [
    "plt.figure(figsize=(6, 4))\n",
    "# plt.axvline(intersection[0], alpha=0.3, color='k')\n",
    "# plt.axhline(intersection[1], alpha=0.3, color='k')\n",
    "plt.plot(ns, ps, 'k')\n",
    "plt.grid()\n",
    "plt.scatter(intersection[0], intersection[1], s=20, color='k')\n",
    "plt.annotate(f\"$p_{{{n}}} = {{{intersection[1]:.2f}}} $\",(intersection[0]-8, intersection[1]+0.05), fontsize=12)\n",
    "plt.xticks(np.arange(0, 51, 5, dtype=int))\n",
    "plt.yticks(np.arange(0, 1.1, 0.1, dtype=float))\n",
    "plt.xlim(0, 50)\n",
    "plt.ylim(0, 1)\n",
    "plt.title(\"$\\\\mathbf{ \\\\textbf{n such that }p_{n} \\le 0.5}$\", fontsize=12)\n",
    "plt.xlabel(\"$n$\", fontsize=12)\n",
    "plt.ylabel(\"$p$\", fontsize=12)"
   ],
   "metadata": {
    "collapsed": false,
    "ExecuteTime": {
     "end_time": "2024-09-19T15:12:41.421612Z",
     "start_time": "2024-09-19T15:12:41.167075Z"
    }
   },
   "id": "dc3fe37d7074caab",
   "execution_count": 286
  }
 ],
 "metadata": {
  "kernelspec": {
   "display_name": "Python 3",
   "language": "python",
   "name": "python3"
  },
  "language_info": {
   "codemirror_mode": {
    "name": "ipython",
    "version": 2
   },
   "file_extension": ".py",
   "mimetype": "text/x-python",
   "name": "python",
   "nbconvert_exporter": "python",
   "pygments_lexer": "ipython2",
   "version": "2.7.6"
  }
 },
 "nbformat": 4,
 "nbformat_minor": 5
}
