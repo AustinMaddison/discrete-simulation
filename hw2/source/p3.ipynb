{
 "cells": [
  {
   "cell_type": "markdown",
   "source": [
    "#### Discrete Simulation HW2\n",
    "#### Problem 3\n",
    "Authored: Austin Jetrin Maddison 6481268"
   ],
   "metadata": {
    "collapsed": false
   },
   "id": "bde4534c3511e36"
  },
  {
   "cell_type": "code",
   "execution_count": 1,
   "id": "initial_id",
   "metadata": {
    "collapsed": true,
    "ExecuteTime": {
     "end_time": "2024-10-08T15:41:12.020431Z",
     "start_time": "2024-10-08T15:41:11.469683Z"
    }
   },
   "outputs": [],
   "source": [
    "from my_settings import *"
   ]
  },
  {
   "cell_type": "markdown",
   "source": [
    "a.)"
   ],
   "metadata": {
    "collapsed": false
   },
   "id": "bee79ed94571963a"
  },
  {
   "cell_type": "code",
   "outputs": [],
   "source": [
    "def monty_hall(N, max_doors=3, max_cars=1, switch=True):\n",
    "    max_cars = min(max_cars, max_doors)\n",
    "    correct = np.zeros(N, dtype=bool)\n",
    "    doors = np.arange(max_doors)\n",
    "    \n",
    "    for i in range(N):\n",
    "        cars = np.random.choice(doors, size=max_cars, replace=False)\n",
    "        my_choice = [np.random.randint(0, max_doors)]\n",
    "        available_doors = np.setdiff1d(doors, np.union1d(cars, my_choice))\n",
    "\n",
    "        host_open = np.random.choice(available_doors, size=1, replace=False)\n",
    "        \n",
    "        if switch:\n",
    "            remaining_doors = np.setdiff1d(doors, host_open )\n",
    "            remaining_doors = np.setdiff1d(remaining_doors, my_choice)\n",
    "            \n",
    "            my_choice = np.random.choice(remaining_doors, size=1, replace=False)\n",
    "            \n",
    "        correct[i] = my_choice in cars\n",
    "    \n",
    "    return np.mean(correct)"
   ],
   "metadata": {
    "collapsed": false,
    "ExecuteTime": {
     "end_time": "2024-10-08T15:54:35.398398Z",
     "start_time": "2024-10-08T15:54:35.391066Z"
    }
   },
   "id": "65d5d1ad54b2def8",
   "execution_count": 59
  },
  {
   "cell_type": "code",
   "outputs": [
    {
     "data": {
      "text/plain": "0.667056"
     },
     "execution_count": 60,
     "metadata": {},
     "output_type": "execute_result"
    }
   ],
   "source": [
    "monty_hall(500000, max_doors=3, max_cars=1)"
   ],
   "metadata": {
    "collapsed": false,
    "ExecuteTime": {
     "end_time": "2024-10-08T15:56:18.401650Z",
     "start_time": "2024-10-08T15:54:48.423329Z"
    }
   },
   "id": "c44b439c8ca780b4",
   "execution_count": 60
  },
  {
   "cell_type": "code",
   "outputs": [
    {
     "data": {
      "text/plain": "0.5333"
     },
     "execution_count": 61,
     "metadata": {},
     "output_type": "execute_result"
    }
   ],
   "source": [
    "monty_hall(500000, max_doors=5, max_cars=2)"
   ],
   "metadata": {
    "collapsed": false,
    "ExecuteTime": {
     "end_time": "2024-10-08T15:58:07.217276Z",
     "start_time": "2024-10-08T15:56:18.403657Z"
    }
   },
   "id": "8654bace24014d70",
   "execution_count": 61
  },
  {
   "cell_type": "code",
   "outputs": [],
   "source": [
    "import itertools\n",
    "import pandas as pd\n",
    "\n",
    "def calc_perms(input):\n",
    "  \n",
    "    return list(set(itertools.permutations(input)))\n",
    "\n",
    "def generate_truth_table(input):\n",
    "    perms = calc_perms(input)\n",
    "    table = []\n",
    "\n",
    "    for perm in perms:\n",
    "        is_car = [int(char == 'c') for char in perm]  # 1 if 'c', otherwise 0\n",
    "        table.append(is_car)\n",
    "    print(table)\n",
    "    \n",
    "    df = pd.DataFrame(table, index=perms, columns=[f'Door {i+1}' for i in range(len(input))])\n",
    "    return df.transpose()"
   ],
   "metadata": {
    "collapsed": false,
    "ExecuteTime": {
     "end_time": "2024-10-09T05:44:22.849666Z",
     "start_time": "2024-10-09T05:44:22.843629Z"
    }
   },
   "id": "1d119f05af1b78bc",
   "execution_count": 70
  },
  {
   "cell_type": "code",
   "outputs": [],
   "source": [
    "\n",
    "for x in calc_perms('ccggg'):\n",
    "    s = ''\n",
    "    for c in x:\n",
    "        s += c\n",
    "    print(s, end='\\t')\n",
    "        \n",
    "        "
   ],
   "metadata": {
    "collapsed": false
   },
   "id": "74fb4fd643501d47",
   "execution_count": null
  },
  {
   "cell_type": "code",
   "outputs": [
    {
     "name": "stdout",
     "output_type": "stream",
     "text": [
      "ccg\tgcc\tcgc\t"
     ]
    }
   ],
   "source": [
    "\n",
    "for x in calc_perms('ccg'):\n",
    "    s = ''\n",
    "    for c in x:\n",
    "        s += c\n",
    "    print(s, end='\\t')\n",
    "        "
   ],
   "metadata": {
    "collapsed": false,
    "ExecuteTime": {
     "end_time": "2024-10-09T05:48:02.640547Z",
     "start_time": "2024-10-09T05:48:02.635408Z"
    }
   },
   "id": "a3b6a063fbf89d58",
   "execution_count": 90
  },
  {
   "cell_type": "code",
   "outputs": [
    {
     "name": "stdout",
     "output_type": "stream",
     "text": [
      "gcg\tcgg\tggc\t"
     ]
    }
   ],
   "source": [
    "\n",
    "for x in calc_perms('cgg'):\n",
    "    s = ''\n",
    "    for c in x:\n",
    "        s += c\n",
    "    print(s, end='\\t')"
   ],
   "metadata": {
    "collapsed": false,
    "ExecuteTime": {
     "end_time": "2024-10-09T05:48:00.630198Z",
     "start_time": "2024-10-09T05:48:00.625045Z"
    }
   },
   "id": "ca3fc1463f7c8ac9",
   "execution_count": 89
  },
  {
   "cell_type": "code",
   "outputs": [
    {
     "name": "stdout",
     "output_type": "stream",
     "text": [
      "[[0, 0, 0, 1, 1], [1, 1, 0, 0, 0], [0, 1, 1, 0, 0], [0, 1, 0, 0, 1], [0, 0, 1, 0, 1], [1, 0, 0, 0, 1], [0, 0, 1, 1, 0], [0, 1, 0, 1, 0], [1, 0, 0, 1, 0], [1, 0, 1, 0, 0]]\n"
     ]
    },
    {
     "data": {
      "text/plain": "        (g, g, g, c, c)  (c, c, g, g, g)  (g, c, c, g, g)  (g, c, g, g, c)  \\\nDoor 1                0                1                0                0   \nDoor 2                0                1                1                1   \nDoor 3                0                0                1                0   \nDoor 4                1                0                0                0   \nDoor 5                1                0                0                1   \n\n        (g, g, c, g, c)  (c, g, g, g, c)  (g, g, c, c, g)  (g, c, g, c, g)  \\\nDoor 1                0                1                0                0   \nDoor 2                0                0                0                1   \nDoor 3                1                0                1                0   \nDoor 4                0                0                1                1   \nDoor 5                1                1                0                0   \n\n        (c, g, g, c, g)  (c, g, c, g, g)  \nDoor 1                1                1  \nDoor 2                0                0  \nDoor 3                0                1  \nDoor 4                1                0  \nDoor 5                0                0  ",
      "text/html": "<div>\n<style scoped>\n    .dataframe tbody tr th:only-of-type {\n        vertical-align: middle;\n    }\n\n    .dataframe tbody tr th {\n        vertical-align: top;\n    }\n\n    .dataframe thead th {\n        text-align: right;\n    }\n</style>\n<table border=\"1\" class=\"dataframe\">\n  <thead>\n    <tr style=\"text-align: right;\">\n      <th></th>\n      <th>(g, g, g, c, c)</th>\n      <th>(c, c, g, g, g)</th>\n      <th>(g, c, c, g, g)</th>\n      <th>(g, c, g, g, c)</th>\n      <th>(g, g, c, g, c)</th>\n      <th>(c, g, g, g, c)</th>\n      <th>(g, g, c, c, g)</th>\n      <th>(g, c, g, c, g)</th>\n      <th>(c, g, g, c, g)</th>\n      <th>(c, g, c, g, g)</th>\n    </tr>\n  </thead>\n  <tbody>\n    <tr>\n      <th>Door 1</th>\n      <td>0</td>\n      <td>1</td>\n      <td>0</td>\n      <td>0</td>\n      <td>0</td>\n      <td>1</td>\n      <td>0</td>\n      <td>0</td>\n      <td>1</td>\n      <td>1</td>\n    </tr>\n    <tr>\n      <th>Door 2</th>\n      <td>0</td>\n      <td>1</td>\n      <td>1</td>\n      <td>1</td>\n      <td>0</td>\n      <td>0</td>\n      <td>0</td>\n      <td>1</td>\n      <td>0</td>\n      <td>0</td>\n    </tr>\n    <tr>\n      <th>Door 3</th>\n      <td>0</td>\n      <td>0</td>\n      <td>1</td>\n      <td>0</td>\n      <td>1</td>\n      <td>0</td>\n      <td>1</td>\n      <td>0</td>\n      <td>0</td>\n      <td>1</td>\n    </tr>\n    <tr>\n      <th>Door 4</th>\n      <td>1</td>\n      <td>0</td>\n      <td>0</td>\n      <td>0</td>\n      <td>0</td>\n      <td>0</td>\n      <td>1</td>\n      <td>1</td>\n      <td>1</td>\n      <td>0</td>\n    </tr>\n    <tr>\n      <th>Door 5</th>\n      <td>1</td>\n      <td>0</td>\n      <td>0</td>\n      <td>1</td>\n      <td>1</td>\n      <td>1</td>\n      <td>0</td>\n      <td>0</td>\n      <td>0</td>\n      <td>0</td>\n    </tr>\n  </tbody>\n</table>\n</div>"
     },
     "execution_count": 78,
     "metadata": {},
     "output_type": "execute_result"
    }
   ],
   "source": [
    "df = generate_truth_table('ccggg')\n",
    "df"
   ],
   "metadata": {
    "collapsed": false,
    "ExecuteTime": {
     "end_time": "2024-10-09T05:45:31.265166Z",
     "start_time": "2024-10-09T05:45:31.253067Z"
    }
   },
   "id": "2d0c026ad9e11c5a",
   "execution_count": 78
  },
  {
   "cell_type": "code",
   "outputs": [
    {
     "name": "stdout",
     "output_type": "stream",
     "text": [
      "# picked C 1st outcomes = 20\n",
      "# picked G 1st outcomes = 30\n",
      "# total outcomes = 50\n"
     ]
    }
   ],
   "source": [
    "total_outcomes = df.size\n",
    "picked_car_outcomes = df.sum().sum()\n",
    "print('# picked C 1st outcomes =', picked_car_outcomes)\n",
    "print('# picked G 1st outcomes =', total_outcomes - picked_car_outcomes)\n",
    "print('# total outcomes =', total_outcomes)"
   ],
   "metadata": {
    "collapsed": false,
    "ExecuteTime": {
     "end_time": "2024-10-09T05:45:32.977442Z",
     "start_time": "2024-10-09T05:45:32.971028Z"
    }
   },
   "id": "90e48b4ff192e6c0",
   "execution_count": 79
  },
  {
   "cell_type": "code",
   "outputs": [
    {
     "name": "stdout",
     "output_type": "stream",
     "text": [
      "[[0, 1, 0], [1, 0, 0], [0, 0, 1]]\n",
      "# picked C 1st outcomes = 3\n",
      "# picked G 1st outcomes = 6\n",
      "# total outcomes = 9\n"
     ]
    },
    {
     "data": {
      "text/plain": "        (g, c, g)  (c, g, g)  (g, g, c)\nDoor 1          0          1          0\nDoor 2          1          0          0\nDoor 3          0          0          1",
      "text/html": "<div>\n<style scoped>\n    .dataframe tbody tr th:only-of-type {\n        vertical-align: middle;\n    }\n\n    .dataframe tbody tr th {\n        vertical-align: top;\n    }\n\n    .dataframe thead th {\n        text-align: right;\n    }\n</style>\n<table border=\"1\" class=\"dataframe\">\n  <thead>\n    <tr style=\"text-align: right;\">\n      <th></th>\n      <th>(g, c, g)</th>\n      <th>(c, g, g)</th>\n      <th>(g, g, c)</th>\n    </tr>\n  </thead>\n  <tbody>\n    <tr>\n      <th>Door 1</th>\n      <td>0</td>\n      <td>1</td>\n      <td>0</td>\n    </tr>\n    <tr>\n      <th>Door 2</th>\n      <td>1</td>\n      <td>0</td>\n      <td>0</td>\n    </tr>\n    <tr>\n      <th>Door 3</th>\n      <td>0</td>\n      <td>0</td>\n      <td>1</td>\n    </tr>\n  </tbody>\n</table>\n</div>"
     },
     "execution_count": 85,
     "metadata": {},
     "output_type": "execute_result"
    }
   ],
   "source": [
    "df = generate_truth_table('cgg')\n",
    "\n",
    "total_outcomes = df.size\n",
    "picked_car_outcomes = df.sum().sum()\n",
    "print('# picked C 2nd outcomes =', picked_car_outcomes)\n",
    "print('# picked G 2nd outcomes =', total_outcomes - picked_car_outcomes)\n",
    "print('# total outcomes =', total_outcomes)\n",
    "df"
   ],
   "metadata": {
    "collapsed": false,
    "ExecuteTime": {
     "end_time": "2024-10-09T05:46:28.383957Z",
     "start_time": "2024-10-09T05:46:28.371986Z"
    }
   },
   "id": "cd55d73e29fac98b",
   "execution_count": 85
  },
  {
   "cell_type": "code",
   "outputs": [
    {
     "name": "stdout",
     "output_type": "stream",
     "text": [
      "[[1, 1, 0], [0, 1, 1], [1, 0, 1]]\n",
      "# picked C 2nd outcomes = 6\n",
      "# picked G 2nd outcomes = 3\n",
      "# total outcomes = 9\n"
     ]
    },
    {
     "data": {
      "text/plain": "        (c, c, g)  (g, c, c)  (c, g, c)\nDoor 1          1          0          1\nDoor 2          1          1          0\nDoor 3          0          1          1",
      "text/html": "<div>\n<style scoped>\n    .dataframe tbody tr th:only-of-type {\n        vertical-align: middle;\n    }\n\n    .dataframe tbody tr th {\n        vertical-align: top;\n    }\n\n    .dataframe thead th {\n        text-align: right;\n    }\n</style>\n<table border=\"1\" class=\"dataframe\">\n  <thead>\n    <tr style=\"text-align: right;\">\n      <th></th>\n      <th>(c, c, g)</th>\n      <th>(g, c, c)</th>\n      <th>(c, g, c)</th>\n    </tr>\n  </thead>\n  <tbody>\n    <tr>\n      <th>Door 1</th>\n      <td>1</td>\n      <td>0</td>\n      <td>1</td>\n    </tr>\n    <tr>\n      <th>Door 2</th>\n      <td>1</td>\n      <td>1</td>\n      <td>0</td>\n    </tr>\n    <tr>\n      <th>Door 3</th>\n      <td>0</td>\n      <td>1</td>\n      <td>1</td>\n    </tr>\n  </tbody>\n</table>\n</div>"
     },
     "execution_count": 87,
     "metadata": {},
     "output_type": "execute_result"
    }
   ],
   "source": [
    "df = generate_truth_table('ccg')\n",
    "\n",
    "total_outcomes = df.size\n",
    "picked_car_outcomes = df.sum().sum()\n",
    "print('# picked C 2nd outcomes =', picked_car_outcomes)\n",
    "print('# picked G 2nd outcomes =', total_outcomes - picked_car_outcomes)\n",
    "print('# total outcomes =', total_outcomes)\n",
    "df"
   ],
   "metadata": {
    "collapsed": false,
    "ExecuteTime": {
     "end_time": "2024-10-09T05:47:14.785625Z",
     "start_time": "2024-10-09T05:47:14.774331Z"
    }
   },
   "id": "bfc9f4c48cb453c1",
   "execution_count": 87
  }
 ],
 "metadata": {
  "kernelspec": {
   "display_name": "Python 3",
   "language": "python",
   "name": "python3"
  },
  "language_info": {
   "codemirror_mode": {
    "name": "ipython",
    "version": 2
   },
   "file_extension": ".py",
   "mimetype": "text/x-python",
   "name": "python",
   "nbconvert_exporter": "python",
   "pygments_lexer": "ipython2",
   "version": "2.7.6"
  }
 },
 "nbformat": 4,
 "nbformat_minor": 5
}
