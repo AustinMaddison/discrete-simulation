{
 "cells": [
  {
   "cell_type": "markdown",
   "source": [
    "#### Discrete Simulation HW2\n",
    "#### Problem 6\n",
    "Authored: Austin Jetrin Maddison 6481268"
   ],
   "metadata": {
    "collapsed": false
   },
   "id": "bde4534c3511e36"
  },
  {
   "cell_type": "code",
   "execution_count": 38,
   "id": "initial_id",
   "metadata": {
    "collapsed": true,
    "ExecuteTime": {
     "end_time": "2024-10-10T01:34:25.534390Z",
     "start_time": "2024-10-10T01:34:25.528955Z"
    }
   },
   "outputs": [],
   "source": [
    "from my_settings import *"
   ]
  },
  {
   "cell_type": "code",
   "outputs": [],
   "source": [
    "def BinSearch(a, b, epsilon = 10E-10, f = lambda x: x):\n",
    "    l = a\n",
    "    u = b\n",
    "    while u - l  >= epsilon:\n",
    "        m = (l + u) / 2\n",
    "        if f(m) >= 0: \n",
    "            u = m\n",
    "        else:\n",
    "            l = m\n",
    "            \n",
    "    return [l, u]"
   ],
   "metadata": {
    "collapsed": false,
    "ExecuteTime": {
     "end_time": "2024-10-10T01:12:26.804656Z",
     "start_time": "2024-10-10T01:12:26.798411Z"
    }
   },
   "id": "bfc9f4c48cb453c1",
   "execution_count": 7
  },
  {
   "cell_type": "markdown",
   "source": [
    "a.)"
   ],
   "metadata": {
    "collapsed": false
   },
   "id": "bee79ed94571963a"
  },
  {
   "cell_type": "code",
   "outputs": [],
   "source": [
    "def NewtonsMethod(a, f, fp, n, print_iter=False):\n",
    "    x = a\n",
    "    if print_iter: print(f'x_{0:2} = {x}')\n",
    "    \n",
    "    for i in range(n):\n",
    "        fp_ = fp(x)\n",
    "        if fp_ == 0: return -9999\n",
    "        x = x - f(x)/fp_\n",
    "        if print_iter: print(f'x_{i+1:2} = {x}')\n",
    "    return x"
   ],
   "metadata": {
    "collapsed": false,
    "ExecuteTime": {
     "end_time": "2024-10-10T01:12:26.826077Z",
     "start_time": "2024-10-10T01:12:26.806664Z"
    }
   },
   "id": "3c4ce19245c9cf7c",
   "execution_count": 8
  },
  {
   "cell_type": "code",
   "outputs": [
    {
     "name": "stdout",
     "output_type": "stream",
     "text": [
      "x_ 0 = 1\n",
      "x_ 1 = 1.3763419561557513\n",
      "x_ 2 = 1.3183092602000348\n",
      "x_ 3 = 1.3169350677999723\n",
      "x_ 4 = 1.3169342886239903\n",
      "x_ 5 = 1.3169342886237398\n",
      "x_ 6 = 1.3169342886237398\n",
      "x_ 7 = 1.3169342886237398\n",
      "x_ 8 = 1.3169342886237398\n",
      "x_ 9 = 1.3169342886237398\n",
      "x_10 = 1.3169342886237398\n"
     ]
    },
    {
     "data": {
      "text/plain": "1.3169342886237398"
     },
     "execution_count": 57,
     "metadata": {},
     "output_type": "execute_result"
    }
   ],
   "source": [
    "f = lambda x: x**2 - np.sin(x+1) -1\n",
    "fp = lambda x: 2*x - np.cos(x+1)\n",
    "NewtonsMethod(1, f, fp, 10, print_iter=True)"
   ],
   "metadata": {
    "collapsed": false,
    "ExecuteTime": {
     "end_time": "2024-10-10T01:41:42.139374Z",
     "start_time": "2024-10-10T01:41:42.129986Z"
    }
   },
   "id": "165ff759601cb94c",
   "execution_count": 57
  },
  {
   "cell_type": "markdown",
   "source": [
    "b.) It looks like `NewtonsMethod` converges to a solution faster than `BinSerach()`. Lets test that by comparing average execution time."
   ],
   "metadata": {
    "collapsed": false
   },
   "id": "bee78ee4a0652e4a"
  },
  {
   "cell_type": "code",
   "outputs": [],
   "source": [
    "N = 100000\n",
    "time_newton = timeit.timeit(lambda: NewtonsMethod(1, f, fp, 10), number=N) / N\n",
    "time_bin = timeit.timeit(lambda: BinSearch(1, 1.5, 10E-10, f), number=N) / N"
   ],
   "metadata": {
    "collapsed": false,
    "ExecuteTime": {
     "end_time": "2024-10-10T01:36:20.627809Z",
     "start_time": "2024-10-10T01:36:10.865238Z"
    }
   },
   "id": "8b208c19e63b5c99",
   "execution_count": 40
  },
  {
   "cell_type": "code",
   "outputs": [
    {
     "name": "stdout",
     "output_type": "stream",
     "text": [
      "NewtonsMethod() avg execution time = 4.161467899999934e-05\n",
      "BinSearch()     avg execution time = 5.5944318000001655e-05\n"
     ]
    }
   ],
   "source": [
    "print(f'NewtonsMethod() avg execution time = {time_newton:20}')\n",
    "print(f'BinSearch()     avg execution time = {time_bin:20}')"
   ],
   "metadata": {
    "collapsed": false,
    "ExecuteTime": {
     "end_time": "2024-10-10T01:41:54.921341Z",
     "start_time": "2024-10-10T01:41:54.914125Z"
    }
   },
   "id": "52fc45d24b0a9e32",
   "execution_count": 58
  },
  {
   "cell_type": "markdown",
   "source": [
    "c.)"
   ],
   "metadata": {
    "collapsed": false
   },
   "id": "f3ca879bad107920"
  },
  {
   "cell_type": "code",
   "outputs": [
    {
     "name": "stdout",
     "output_type": "stream",
     "text": [
      "NewtonsMenthod()\n",
      "guess =    [1,..., N]\n",
      "solution = [1,..., N]\n"
     ]
    },
    {
     "data": {
      "text/plain": "array([[21.28607053, 40.72918702, 36.76986451, 43.40015999, 19.16903864,\n        48.97283161, 44.65971734, 10.48575849, 37.09138237, 33.15716596,\n        44.34007307, 42.90063561, 37.46311069, 43.507236  ,  9.33779217,\n        16.27833585, 18.64687175, 39.68565125,  7.55301348,  8.49713495,\n         4.05845465, 15.25876708, 39.16449009,  8.1453091 ,  3.53206479,\n        35.05355864,  9.04899396, 29.94586252, 20.76318246, 25.67861245,\n        11.03280865, 36.27865038, 42.47174742, 46.4446414 , 36.79700198,\n        23.82936204, 24.64464866, 29.72601359,  3.80184827,  5.87384597,\n        48.3232833 , 29.16611452,  4.62109569,  0.68147508, 41.84650542,\n        45.73939497, 35.22931304, 19.35032988, 35.28469525, 46.16555783],\n       [ 1.31693429,  1.31693429,  1.31693429,  1.31693429,  1.31693429,\n         1.31693429,  1.31693429,  1.31693429,  1.31693429,  1.31693429,\n         1.31693429,  1.31693429,  1.31693429,  1.31693429,  1.31693429,\n         1.31693429,  1.31693429,  1.31693429,  1.31693429,  1.31693429,\n         1.31693429,  1.31693429,  1.31693429,  1.31693429,  1.31693429,\n         1.31693429,  1.31693429,  1.31693429,  1.31693429,  1.31693429,\n         1.31693429,  1.31693429,  1.31693429,  1.31693429,  1.31693429,\n         1.31693429,  1.31693429,  1.31693429,  1.31693429,  1.31693429,\n         1.31693429,  1.31693429,  1.31693429,  1.31693429,  1.31693429,\n         1.31693429,  1.31693429,  1.31693429,  1.31693429,  1.31693429]])"
     },
     "execution_count": 11,
     "metadata": {},
     "output_type": "execute_result"
    }
   ],
   "source": [
    "N = 50\n",
    "np.random.seed(27)\n",
    "guesses = np.random.ranf(N) * 50\n",
    "func = np.vectorize(lambda x: NewtonsMethod(x, f, fp, 20))\n",
    "\n",
    "res = func(guesses)\n",
    "print(f'NewtonsMenthod()')\n",
    "print('guess =    [1,..., N]\\n'\n",
    "      'solution = [1,..., N]')\n",
    "np.concatenate(([guesses], [res]), axis=0)"
   ],
   "metadata": {
    "collapsed": false,
    "ExecuteTime": {
     "end_time": "2024-10-10T01:12:27.892250Z",
     "start_time": "2024-10-10T01:12:27.859008Z"
    }
   },
   "id": "fdecf7b504377d70",
   "execution_count": 11
  },
  {
   "cell_type": "markdown",
   "source": [
    "d.)"
   ],
   "metadata": {
    "collapsed": false
   },
   "id": "195a0d863f6eadd2"
  },
  {
   "cell_type": "markdown",
   "source": [
    "Looking from my answer for Q.6b) Execution time is faster for `NewtonsMethod()`. `NewtonsMethod()` converges to the solution sooner in `10 iterations` than `BinSearch()` with `10E-10`. This is interesting because `BinSearch()` initial state `L=1` and `U=1.5` `(U+L)/2 = 1.25` is closer to the solution than `NewtonsMethod()` initial state `a=1` and the solution sits around `1.31...`. "
   ],
   "metadata": {
    "collapsed": false
   },
   "id": "f52fbf67c7ad0c5c"
  },
  {
   "cell_type": "code",
   "outputs": [],
   "source": [
    "res_newton = NewtonsMethod(1, f, fp, 10)\n",
    "res_bin = BinSearch(1, 1.5, 10E-10, f)"
   ],
   "metadata": {
    "collapsed": false,
    "ExecuteTime": {
     "end_time": "2024-10-10T01:28:39.144610Z",
     "start_time": "2024-10-10T01:28:39.139932Z"
    }
   },
   "id": "e0a8203a1b3bfe75",
   "execution_count": 36
  },
  {
   "cell_type": "code",
   "outputs": [
    {
     "name": "stdout",
     "output_type": "stream",
     "text": [
      "NewtonsMethod() avg execution time = 4.161467899999934e-05\n",
      "BinSearch()     avg execution time = 5.5944318000001655e-05\n"
     ]
    }
   ],
   "source": [
    "print(f'NewtonsMethod() avg execution time = {time_newton:20}')\n",
    "print(f'BinSearch()     avg execution time = {time_bin:20}')"
   ],
   "metadata": {
    "collapsed": false,
    "ExecuteTime": {
     "end_time": "2024-10-10T01:38:11.070544Z",
     "start_time": "2024-10-10T01:38:11.065450Z"
    }
   },
   "id": "4e0ed7b024d40c60",
   "execution_count": 43
  },
  {
   "cell_type": "code",
   "outputs": [
    {
     "name": "stdout",
     "output_type": "stream",
     "text": [
      "BinSearch() solution     = [1.3169342884793878, 1.3169342894107103] \n",
      "\n",
      "BinSearch() solution avg = 1.316934288945049\n",
      "NewtonsMethod() solution = 1.3169342886237398\n",
      "Absolute Diff            = 3.213092014675567e-10\n"
     ]
    }
   ],
   "source": [
    "print(f'BinSearch() solution     =', res_bin, '\\n')\n",
    "print(f'BinSearch() solution avg =', np.mean(res_bin))\n",
    "print(f'NewtonsMethod() solution =', res_newton)\n",
    "print(f'Absolute Diff            =', abs(np.mean(res_bin) - res_newton))"
   ],
   "metadata": {
    "collapsed": false,
    "ExecuteTime": {
     "end_time": "2024-10-10T01:40:03.709804Z",
     "start_time": "2024-10-10T01:40:03.703212Z"
    }
   },
   "id": "a94caa044a30cf4c",
   "execution_count": 56
  },
  {
   "cell_type": "markdown",
   "source": [
    "Notice that `BinSearch()` and `NewtonsMethod()` are `10E-10` away from each other, which makes perfect sense as BinSearch is constrained by this. Reducing epislon for BinSearch will make its execution time unbearibly slow, as it has to ping pong to cone into the true solution. Newton's on the other hand can adaptivley move along the search space using the gradient, thus overshooting doesn't happen thus less work is used to compensate for misteps when wanting to scope to a more accurate solution."
   ],
   "metadata": {
    "collapsed": false
   },
   "id": "7e18c62e15937219"
  }
 ],
 "metadata": {
  "kernelspec": {
   "display_name": "Python 3",
   "language": "python",
   "name": "python3"
  },
  "language_info": {
   "codemirror_mode": {
    "name": "ipython",
    "version": 2
   },
   "file_extension": ".py",
   "mimetype": "text/x-python",
   "name": "python",
   "nbconvert_exporter": "python",
   "pygments_lexer": "ipython2",
   "version": "2.7.6"
  }
 },
 "nbformat": 4,
 "nbformat_minor": 5
}
