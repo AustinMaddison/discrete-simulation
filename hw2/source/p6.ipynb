{
 "cells": [
  {
   "cell_type": "markdown",
   "source": [
    "#### Discrete Simulation HW2\n",
    "#### Problem 6\n",
    "Authored: Austin Jetrin Maddison 6481268"
   ],
   "metadata": {
    "collapsed": false
   },
   "id": "bde4534c3511e36"
  },
  {
   "cell_type": "code",
   "execution_count": 1,
   "id": "initial_id",
   "metadata": {
    "collapsed": true,
    "ExecuteTime": {
     "end_time": "2024-11-09T17:49:03.294122Z",
     "start_time": "2024-11-09T17:49:02.356199Z"
    }
   },
   "outputs": [],
   "source": [
    "import numpy as np\n",
    "\n",
    "from my_settings import *"
   ]
  },
  {
   "cell_type": "code",
   "outputs": [],
   "source": [
    "def BinSearch(a, b, epsilon = 10E-10, f = lambda x: x):\n",
    "    l = a\n",
    "    u = b\n",
    "    while u - l  >= epsilon:\n",
    "        m = (l + u) / 2\n",
    "        if f(m) >= 0: \n",
    "            u = m\n",
    "        else:\n",
    "            l = m\n",
    "            \n",
    "    return [l, u]"
   ],
   "metadata": {
    "collapsed": false,
    "ExecuteTime": {
     "end_time": "2024-11-09T17:49:03.300396Z",
     "start_time": "2024-11-09T17:49:03.295130Z"
    }
   },
   "id": "bfc9f4c48cb453c1",
   "execution_count": 2
  },
  {
   "cell_type": "markdown",
   "source": [
    "a.)"
   ],
   "metadata": {
    "collapsed": false
   },
   "id": "bee79ed94571963a"
  },
  {
   "cell_type": "code",
   "outputs": [],
   "source": [
    "def NewtonsMethod(a, f, fp, n, print_iter=False):\n",
    "    x = a\n",
    "    if print_iter: print(f'x_{0:2} = {x}')\n",
    "    \n",
    "    for i in range(n):\n",
    "        fp_ = fp(x)\n",
    "        if fp_ == 0: return -9999\n",
    "        x = x - f(x)/fp_\n",
    "        if print_iter: print(f'x_{i+1:2} = {x}')\n",
    "    return x"
   ],
   "metadata": {
    "collapsed": false,
    "ExecuteTime": {
     "end_time": "2024-11-09T17:49:03.324094Z",
     "start_time": "2024-11-09T17:49:03.301406Z"
    }
   },
   "id": "3c4ce19245c9cf7c",
   "execution_count": 3
  },
  {
   "cell_type": "code",
   "outputs": [
    {
     "name": "stdout",
     "output_type": "stream",
     "text": [
      "x_ 0 = 1\n",
      "x_ 1 = 1.3763419561557513\n",
      "x_ 2 = 1.3183092602000348\n",
      "x_ 3 = 1.3169350677999723\n",
      "x_ 4 = 1.3169342886239903\n",
      "x_ 5 = 1.3169342886237398\n",
      "x_ 6 = 1.3169342886237398\n",
      "x_ 7 = 1.3169342886237398\n",
      "x_ 8 = 1.3169342886237398\n",
      "x_ 9 = 1.3169342886237398\n",
      "x_10 = 1.3169342886237398\n"
     ]
    },
    {
     "data": {
      "text/plain": "1.3169342886237398"
     },
     "execution_count": 4,
     "metadata": {},
     "output_type": "execute_result"
    }
   ],
   "source": [
    "f = lambda x: x**2 - np.sin(x+1) -1\n",
    "fp = lambda x: 2*x - np.cos(x+1)\n",
    "NewtonsMethod(1, f, fp, 10, print_iter=True)"
   ],
   "metadata": {
    "collapsed": false,
    "ExecuteTime": {
     "end_time": "2024-11-09T17:49:03.350545Z",
     "start_time": "2024-11-09T17:49:03.325572Z"
    }
   },
   "id": "165ff759601cb94c",
   "execution_count": 4
  },
  {
   "cell_type": "markdown",
   "source": [
    "b.) It looks like `NewtonsMethod` converges to a solution faster than `BinSerach()`. Lets test that by comparing average execution time."
   ],
   "metadata": {
    "collapsed": false
   },
   "id": "bee78ee4a0652e4a"
  },
  {
   "cell_type": "code",
   "outputs": [],
   "source": [
    "N = 100000\n",
    "time_newton = timeit.timeit(lambda: NewtonsMethod(1, f, fp, 10), number=N) / N\n",
    "time_bin = timeit.timeit(lambda: BinSearch(1, 1.5, 10E-10, f), number=N) / N"
   ],
   "metadata": {
    "collapsed": false,
    "ExecuteTime": {
     "end_time": "2024-11-09T17:49:08.303099Z",
     "start_time": "2024-11-09T17:49:03.352553Z"
    }
   },
   "id": "8b208c19e63b5c99",
   "execution_count": 5
  },
  {
   "cell_type": "code",
   "outputs": [
    {
     "name": "stdout",
     "output_type": "stream",
     "text": [
      "NewtonsMethod() avg execution time = 2.0550234000002092e-05\n",
      "BinSearch()     avg execution time = 2.8718388000015694e-05\n"
     ]
    }
   ],
   "source": [
    "print(f'NewtonsMethod() avg execution time = {time_newton:20}')\n",
    "print(f'BinSearch()     avg execution time = {time_bin:20}')"
   ],
   "metadata": {
    "collapsed": false,
    "ExecuteTime": {
     "end_time": "2024-11-09T17:49:08.309064Z",
     "start_time": "2024-11-09T17:49:08.305104Z"
    }
   },
   "id": "52fc45d24b0a9e32",
   "execution_count": 6
  },
  {
   "cell_type": "markdown",
   "source": [
    "c.)"
   ],
   "metadata": {
    "collapsed": false
   },
   "id": "f3ca879bad107920"
  },
  {
   "cell_type": "code",
   "outputs": [
    {
     "name": "stdout",
     "output_type": "stream",
     "text": [
      "NewtonsMenthod()\n",
      "guess =    [1,..., N]\n",
      "solution = [1,..., N]\n"
     ]
    },
    {
     "data": {
      "text/plain": "array([[ 0.        ,  0.002002  ,  0.004004  , ...,  1.995996  ,\n         1.997998  ,  2.        ],\n       [-1.        , -1.        , -1.        , ...,  1.31693429,\n         1.31693429,  1.31693429]])"
     },
     "execution_count": 7,
     "metadata": {},
     "output_type": "execute_result"
    }
   ],
   "source": [
    "N = 50\n",
    "np.random.seed(27)\n",
    "guesses = np.linspace(0, 2, 1000)\n",
    "func = np.vectorize(lambda x: NewtonsMethod(x, f, fp, 20))\n",
    "\n",
    "res = func(guesses)\n",
    "print(f'NewtonsMenthod()')\n",
    "print('guess =    [1,..., N]\\n'\n",
    "      'solution = [1,..., N]')\n",
    "np.concatenate(([guesses], [res]), axis=0)"
   ],
   "metadata": {
    "collapsed": false,
    "ExecuteTime": {
     "end_time": "2024-11-09T17:49:08.382073Z",
     "start_time": "2024-11-09T17:49:08.311081Z"
    }
   },
   "id": "fdecf7b504377d70",
   "execution_count": 7
  },
  {
   "cell_type": "markdown",
   "source": [
    "d.)"
   ],
   "metadata": {
    "collapsed": false
   },
   "id": "195a0d863f6eadd2"
  },
  {
   "cell_type": "markdown",
   "source": [
    "Looking from my answer for Q.6b) Execution time is faster for `NewtonsMethod()`. `NewtonsMethod()` converges to the solution sooner in `10 iterations` than `BinSearch()` with `10E-10`. This is interesting because `BinSearch()` initial state `L=1` and `U=1.5` `(U+L)/2 = 1.25` is closer to the solution than `NewtonsMethod()` initial state `a=1` and the solution sits around `1.31...`. "
   ],
   "metadata": {
    "collapsed": false
   },
   "id": "f52fbf67c7ad0c5c"
  },
  {
   "cell_type": "code",
   "outputs": [],
   "source": [
    "res_newton = NewtonsMethod(1, f, fp, 10)\n",
    "res_bin = BinSearch(1, 1.5, 10E-10, f)"
   ],
   "metadata": {
    "collapsed": false,
    "ExecuteTime": {
     "end_time": "2024-11-09T17:49:08.387681Z",
     "start_time": "2024-11-09T17:49:08.383607Z"
    }
   },
   "id": "e0a8203a1b3bfe75",
   "execution_count": 8
  },
  {
   "cell_type": "code",
   "outputs": [
    {
     "name": "stdout",
     "output_type": "stream",
     "text": [
      "NewtonsMethod() avg execution time = 2.0550234000002092e-05\n",
      "BinSearch()     avg execution time = 2.8718388000015694e-05\n"
     ]
    }
   ],
   "source": [
    "print(f'NewtonsMethod() avg execution time = {time_newton:20}')\n",
    "print(f'BinSearch()     avg execution time = {time_bin:20}')"
   ],
   "metadata": {
    "collapsed": false,
    "ExecuteTime": {
     "end_time": "2024-11-09T17:49:08.400800Z",
     "start_time": "2024-11-09T17:49:08.389694Z"
    }
   },
   "id": "4e0ed7b024d40c60",
   "execution_count": 9
  },
  {
   "cell_type": "code",
   "outputs": [
    {
     "name": "stdout",
     "output_type": "stream",
     "text": [
      "BinSearch() solution     = [1.3169342884793878, 1.3169342894107103] \n",
      "\n",
      "BinSearch() solution avg = 1.316934288945049\n",
      "NewtonsMethod() solution = 1.3169342886237398\n",
      "Absolute Diff            = 3.213092014675567e-10\n"
     ]
    }
   ],
   "source": [
    "print(f'BinSearch() solution     =', res_bin, '\\n')\n",
    "print(f'BinSearch() solution avg =', np.mean(res_bin))\n",
    "print(f'NewtonsMethod() solution =', res_newton)\n",
    "print(f'Absolute Diff            =', abs(np.mean(res_bin) - res_newton))"
   ],
   "metadata": {
    "collapsed": false,
    "ExecuteTime": {
     "end_time": "2024-11-09T17:49:08.433350Z",
     "start_time": "2024-11-09T17:49:08.402809Z"
    }
   },
   "id": "a94caa044a30cf4c",
   "execution_count": 10
  },
  {
   "cell_type": "markdown",
   "source": [
    "Notice that `BinSearch()` and `NewtonsMethod()` are `10E-10` away from each other, which makes perfect sense as BinSearch is constrained by this. Reducing epislon for BinSearch will make its execution time unbearibly slow, as it has to ping pong to cone into the true solution. Newton's on the other hand can adaptivley move along the search space using the gradient, thus overshooting doesn't happen thus less work is used to compensate for misteps when wanting to scope to a more accurate solution."
   ],
   "metadata": {
    "collapsed": false
   },
   "id": "7e18c62e15937219"
  }
 ],
 "metadata": {
  "kernelspec": {
   "display_name": "Python 3",
   "language": "python",
   "name": "python3"
  },
  "language_info": {
   "codemirror_mode": {
    "name": "ipython",
    "version": 2
   },
   "file_extension": ".py",
   "mimetype": "text/x-python",
   "name": "python",
   "nbconvert_exporter": "python",
   "pygments_lexer": "ipython2",
   "version": "2.7.6"
  }
 },
 "nbformat": 4,
 "nbformat_minor": 5
}
