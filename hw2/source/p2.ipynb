{
 "cells": [
  {
   "cell_type": "markdown",
   "source": [
    "#### Discrete Simulation HW1\n",
    "#### Problem 2\n",
    "Authored: Austin Jetrin Maddison 6481268"
   ],
   "metadata": {
    "collapsed": false
   },
   "id": "bde4534c3511e36"
  },
  {
   "cell_type": "code",
   "execution_count": 130,
   "id": "initial_id",
   "metadata": {
    "collapsed": true,
    "ExecuteTime": {
     "end_time": "2024-10-03T08:42:47.522187Z",
     "start_time": "2024-10-03T08:42:47.518621Z"
    }
   },
   "outputs": [],
   "source": [
    "import math\n",
    "\n",
    "import numpy as np\n",
    "from my_settings import *"
   ]
  },
  {
   "cell_type": "markdown",
   "source": [
    "a.)"
   ],
   "metadata": {
    "collapsed": false
   },
   "id": "bee79ed94571963a"
  },
  {
   "cell_type": "code",
   "outputs": [
    {
     "name": "stdout",
     "output_type": "stream",
     "text": [
      "1.4142909169379279\n"
     ]
    }
   ],
   "source": [
    "def square_root_two_approx_taylor():\n",
    "    x = 2\n",
    "    an = 1\n",
    "    bn = 1/2\n",
    "    sum = 0\n",
    "    for i in range(150):\n",
    "        sum += (an * (x-1) ** bn)  * (x-1)**i / math.factorial(i)\n",
    "        an *= bn\n",
    "        bn -= 1\n",
    "    \n",
    "    return sum\n",
    "print(square_root_two_approx_taylor())"
   ],
   "metadata": {
    "collapsed": false,
    "ExecuteTime": {
     "end_time": "2024-10-03T15:08:13.160961Z",
     "start_time": "2024-10-03T15:08:13.141559Z"
    }
   },
   "id": "c44b439c8ca780b4",
   "execution_count": 158
  },
  {
   "cell_type": "code",
   "outputs": [
    {
     "name": "stdout",
     "output_type": "stream",
     "text": [
      "1.414932\n"
     ]
    }
   ],
   "source": [
    "def square_root_two_approx_sampling(n = 1000000, x=2):\n",
    "    xs = np.random.ranf(n) * x\n",
    "    ys = xs**2\n",
    "    count = ys <= x\n",
    "    return np.mean(count) * x\n",
    "\n",
    "print(square_root_two_approx_sampling())\n"
   ],
   "metadata": {
    "collapsed": false,
    "ExecuteTime": {
     "end_time": "2024-10-03T08:13:27.971112Z",
     "start_time": "2024-10-03T08:13:27.940684Z"
    }
   },
   "id": "e1aafe560b67b153",
   "execution_count": 54
  }
 ],
 "metadata": {
  "kernelspec": {
   "display_name": "Python 3",
   "language": "python",
   "name": "python3"
  },
  "language_info": {
   "codemirror_mode": {
    "name": "ipython",
    "version": 2
   },
   "file_extension": ".py",
   "mimetype": "text/x-python",
   "name": "python",
   "nbconvert_exporter": "python",
   "pygments_lexer": "ipython2",
   "version": "2.7.6"
  }
 },
 "nbformat": 4,
 "nbformat_minor": 5
}
