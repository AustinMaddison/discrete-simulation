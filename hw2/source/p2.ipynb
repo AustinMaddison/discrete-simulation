{
 "cells": [
  {
   "cell_type": "markdown",
   "source": [
    "#### Discrete Simulation HW2\n",
    "#### Problem 2\n",
    "Authored: Austin Jetrin Maddison 6481268"
   ],
   "metadata": {
    "collapsed": false
   },
   "id": "bde4534c3511e36"
  },
  {
   "cell_type": "code",
   "execution_count": 3,
   "id": "initial_id",
   "metadata": {
    "collapsed": true,
    "ExecuteTime": {
     "end_time": "2024-10-09T06:11:52.121802Z",
     "start_time": "2024-10-09T06:11:51.434233Z"
    }
   },
   "outputs": [],
   "source": [
    "from my_settings import *"
   ]
  },
  {
   "cell_type": "markdown",
   "source": [
    "a.)"
   ],
   "metadata": {
    "collapsed": false
   },
   "id": "bee79ed94571963a"
  },
  {
   "cell_type": "code",
   "outputs": [
    {
     "name": "stdout",
     "output_type": "stream",
     "text": [
      "1.4142909169379279\n"
     ]
    }
   ],
   "source": [
    "def square_root_two_approx_taylor(n=150):\n",
    "    x = 2\n",
    "    sum = 0\n",
    "    an = 1\n",
    "    bn = 1/2\n",
    "    \n",
    "    for i in range(n):\n",
    "        term = (an * (x - 1) ** bn) * (x - 1) ** i / math.factorial(i)\n",
    "        sum += term\n",
    "        \n",
    "        an *= bn\n",
    "        bn -= 1\n",
    "   \n",
    "    return sum\n",
    "\n",
    "print(square_root_two_approx_taylor())"
   ],
   "metadata": {
    "collapsed": false,
    "ExecuteTime": {
     "end_time": "2024-10-09T06:11:53.778818Z",
     "start_time": "2024-10-09T06:11:53.772936Z"
    }
   },
   "id": "c44b439c8ca780b4",
   "execution_count": 4
  },
  {
   "cell_type": "code",
   "outputs": [
    {
     "name": "stdout",
     "output_type": "stream",
     "text": [
      "1.41544\n",
      "CI= [1.4136571436558303, 1.4172228563441698]\n"
     ]
    }
   ],
   "source": [
    "def square_root_two_approx_sampling(n = 1000000, x=2):\n",
    "    xs = np.random.ranf(n) * x\n",
    "    ys = xs**2\n",
    "    count = ys <= x\n",
    "    res = np.mean(count) * x\n",
    "    std = np.std(count) * x\n",
    "    \n",
    "    calc_ci = lambda x, std, n, z = 1.96 : [x - z * (std / np.sqrt(n)), x + z * (std / np.sqrt(n))]\n",
    "    return res, calc_ci(res, std, n)\n",
    "    \n",
    "res, ci = square_root_two_approx_sampling()\n",
    "\n",
    "print(res)\n",
    "print('CI=', ci)\n"
   ],
   "metadata": {
    "collapsed": false,
    "ExecuteTime": {
     "end_time": "2024-10-09T06:11:56.610052Z",
     "start_time": "2024-10-09T06:11:56.573387Z"
    }
   },
   "id": "e1aafe560b67b153",
   "execution_count": 5
  },
  {
   "cell_type": "code",
   "outputs": [],
   "source": [
    "\n",
    "x = 2\n",
    "n = 100\n",
    "xs = np.random.ranf(n) * x\n",
    "ys = xs**2\n",
    "count = ys <= x\n",
    "res = np.mean(count) * x\n",
    "\n",
    "std = np.std(count) * x\n",
    "calc_ci = lambda x, std, n, z = 1.96 : [x - z * (std / np.sqrt(n)), x + z * (std / np.sqrt(n))]\n"
   ],
   "metadata": {
    "collapsed": false,
    "ExecuteTime": {
     "end_time": "2024-10-09T06:21:56.010685Z",
     "start_time": "2024-10-09T06:21:56.003285Z"
    }
   },
   "id": "451ea6dba74bfefa",
   "execution_count": 19
  },
  {
   "cell_type": "code",
   "outputs": [
    {
     "data": {
      "text/plain": "<Figure size 400x400 with 1 Axes>",
      "image/png": "[encoded data removed]"
     },
     "metadata": {},
     "output_type": "display_data"
    }
   ],
   "source": [
    "plt.figure(figsize=(4, 4))\n",
    "# plt.grid(zorder=0)\n",
    "\n",
    "plt.axhline(2, alpha=0.5, color=\"k\", linestyle=\"--\", linewidth=1)\n",
    "\n",
    "# mask = ps < 0.5\n",
    "        \n",
    "plt.scatter(xs[count], ys[count], s=5, color=(0.0, 0.0, 0.0), marker='o', zorder=4, alpha= 0.4)\n",
    "plt.scatter(xs[~count], ys[~count], s=5, color=(0.4, 0.4, 0.4), marker='o', zorder=4, alpha=0.8)\n",
    "# plt.scatter(xs[~mask], ps[~mask], s=5, color=\"k\", marker='o', zorder=4)\n",
    "# plt.vlines(xs, ymax = (mask) * ps, ymin=np.zeros(mask.size), color='k', alpha = 0.2)\n",
    "# plt.vlines(xs, ymax = (~mask) * ps, ymin=np.zeros((~mask).size), color='k', alpha = 0.8)\n",
    "\n",
    "# plt.scatter(intersection[0], intersection[1], s=20, color='k', marker='o')\n",
    "\n",
    "# plt.annotate(f\"$p_{{{n}}} = {{{intersection[1]:.3f}}} $\",(intersection[0] -12, intersection[1]+ 0.01), fontsize=12)\n",
    "# plt.xticks(np.arange(0, 51, 5, dtype=int))\n",
    "# plt.yticks(np.arange(0, 1.1, 0.1, dtype=float))\n",
    "# plt.xlim(0, 50)\n",
    "# plt.ylim(0, 1)\n",
    "plt.title(\"$\\\\mathbf{ \\\\textbf{x such that } x^2 \\le 2}$\", fontsize=12)\n",
    "plt.xlabel(\"$n$\", fontsize=12)\n",
    "plt.ylabel(\"$p$\", fontsize=12)\n",
    "plt.savefig(\"../drawings/p2_2.pdf\")"
   ],
   "metadata": {
    "collapsed": false,
    "ExecuteTime": {
     "end_time": "2024-10-09T06:22:56.529768Z",
     "start_time": "2024-10-09T06:22:54.240935Z"
    }
   },
   "id": "4b8f00f1f2679dba",
   "execution_count": 23
  }
 ],
 "metadata": {
  "kernelspec": {
   "display_name": "Python 3",
   "language": "python",
   "name": "python3"
  },
  "language_info": {
   "codemirror_mode": {
    "name": "ipython",
    "version": 2
   },
   "file_extension": ".py",
   "mimetype": "text/x-python",
   "name": "python",
   "nbconvert_exporter": "python",
   "pygments_lexer": "ipython2",
   "version": "2.7.6"
  }
 },
 "nbformat": 4,
 "nbformat_minor": 5
}
