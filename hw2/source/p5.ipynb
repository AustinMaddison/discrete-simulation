{
 "cells": [
  {
   "cell_type": "markdown",
   "source": [
    "#### Discrete Simulation HW2\n",
    "#### Problem 5\n",
    "Authored: Austin Jetrin Maddison 6481268"
   ],
   "metadata": {
    "collapsed": false
   },
   "id": "bde4534c3511e36"
  },
  {
   "cell_type": "code",
   "execution_count": 1,
   "id": "initial_id",
   "metadata": {
    "collapsed": true,
    "ExecuteTime": {
     "end_time": "2024-10-09T22:34:02.385362Z",
     "start_time": "2024-10-09T22:34:01.405623Z"
    }
   },
   "outputs": [],
   "source": [
    "from my_settings import *"
   ]
  },
  {
   "cell_type": "markdown",
   "source": [
    "a.)"
   ],
   "metadata": {
    "collapsed": false
   },
   "id": "bee79ed94571963a"
  },
  {
   "cell_type": "code",
   "outputs": [],
   "source": [
    "def BinSearch(a, b, epsilon = 10E-10, f = lambda x: x):\n",
    "    l = a\n",
    "    u = b\n",
    "    while u - l  >= epsilon:\n",
    "        m = (l + u) / 2\n",
    "        if f(m) >= 0: \n",
    "            u = m\n",
    "        else:\n",
    "            l = m\n",
    "            \n",
    "    return [l, u]"
   ],
   "metadata": {
    "collapsed": false,
    "ExecuteTime": {
     "end_time": "2024-10-09T22:48:04.653928Z",
     "start_time": "2024-10-09T22:48:04.648995Z"
    }
   },
   "id": "bfc9f4c48cb453c1",
   "execution_count": 3
  },
  {
   "cell_type": "code",
   "outputs": [
    {
     "data": {
      "text/plain": "[1.2599210496991873, 1.2599210506305099]"
     },
     "execution_count": 4,
     "metadata": {},
     "output_type": "execute_result"
    }
   ],
   "source": [
    "f = lambda x : x**3 -2\n",
    "a = 1\n",
    "b = 2\n",
    "e = 10E-10\n",
    "BinSearch(a, b, e, f)\n"
   ],
   "metadata": {
    "collapsed": false,
    "ExecuteTime": {
     "end_time": "2024-10-09T22:48:06.124790Z",
     "start_time": "2024-10-09T22:48:06.115222Z"
    }
   },
   "id": "165ff759601cb94c",
   "execution_count": 4
  },
  {
   "cell_type": "markdown",
   "source": [
    "b.)"
   ],
   "metadata": {
    "collapsed": false
   },
   "id": "e8d377209b4e3dd1"
  },
  {
   "cell_type": "code",
   "outputs": [],
   "source": [
    "def p(n, x): \n",
    "    sum = 0\n",
    "    for k in range(1, n+1):\n",
    "        res = ((-1)**(k+1)) * (x**(2*k-1))\n",
    "        res = res / ((math.factorial(2*k -1)) * (6**(2*k-1)))\n",
    "        sum += res\n",
    "    return sum   "
   ],
   "metadata": {
    "collapsed": false,
    "ExecuteTime": {
     "end_time": "2024-10-09T23:17:47.588173Z",
     "start_time": "2024-10-09T23:17:47.583257Z"
    }
   },
   "id": "532c9ff62f1a1972",
   "execution_count": 78
  },
  {
   "cell_type": "code",
   "outputs": [
    {
     "data": {
      "text/plain": "0.16589506172839505"
     },
     "execution_count": 83,
     "metadata": {},
     "output_type": "execute_result"
    }
   ],
   "source": [
    "p(1, 1)\n",
    "p(2, 1)"
   ],
   "metadata": {
    "collapsed": false,
    "ExecuteTime": {
     "end_time": "2024-10-09T23:18:22.122774Z",
     "start_time": "2024-10-09T23:18:22.116915Z"
    }
   },
   "id": "f6590582243177e7",
   "execution_count": 83
  },
  {
   "cell_type": "code",
   "outputs": [
    {
     "name": "stdout",
     "output_type": "stream",
     "text": [
      "n=1, res=[2.9999999990686774, 3.0]\n",
      "n=2, res=[3.1438583824783564, 3.143858383409679]\n",
      "n=3, res=[3.1415778789669275, 3.14157787989825]\n",
      "n=4, res=[3.1415927093476057, 3.1415927102789283]\n",
      "n=5, res=[3.1415926525369287, 3.1415926534682512]\n",
      "n=6, res=[3.1415926534682512, 3.141592654399574]\n",
      "n=7, res=[3.1415926534682512, 3.141592654399574]\n",
      "n=8, res=[3.1415926534682512, 3.141592654399574]\n"
     ]
    }
   ],
   "source": [
    "for n in range(1, 8+1):\n",
    "    f = lambda x : 2 * p(n, x) - 1\n",
    "    res = BinSearch(0, 4, 10E-10, f)\n",
    "    print(f'n={n}, res={res}')"
   ],
   "metadata": {
    "collapsed": false,
    "ExecuteTime": {
     "end_time": "2024-10-09T23:17:56.044596Z",
     "start_time": "2024-10-09T23:17:56.037403Z"
    }
   },
   "id": "1af6562cea3b0de9",
   "execution_count": 82
  }
 ],
 "metadata": {
  "kernelspec": {
   "display_name": "Python 3",
   "language": "python",
   "name": "python3"
  },
  "language_info": {
   "codemirror_mode": {
    "name": "ipython",
    "version": 2
   },
   "file_extension": ".py",
   "mimetype": "text/x-python",
   "name": "python",
   "nbconvert_exporter": "python",
   "pygments_lexer": "ipython2",
   "version": "2.7.6"
  }
 },
 "nbformat": 4,
 "nbformat_minor": 5
}
