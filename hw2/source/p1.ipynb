{
 "cells": [
  {
   "cell_type": "code",
   "execution_count": 20,
   "id": "initial_id",
   "metadata": {
    "collapsed": true,
    "ExecuteTime": {
     "end_time": "2024-10-06T05:12:45.284756Z",
     "start_time": "2024-10-06T05:12:44.337743Z"
    }
   },
   "outputs": [],
   "source": [
    "import numpy as np\n",
    "\n",
    "from my_settings import *"
   ]
  },
  {
   "cell_type": "code",
   "outputs": [
    {
     "ename": "SyntaxError",
     "evalue": "invalid syntax (989408801.py, line 1)",
     "output_type": "error",
     "traceback": [
      "\u001B[1;36m  Cell \u001B[1;32mIn[21], line 1\u001B[1;36m\u001B[0m\n\u001B[1;33m    p3 = np.sin(np.pi/)\u001B[0m\n\u001B[1;37m                      ^\u001B[0m\n\u001B[1;31mSyntaxError\u001B[0m\u001B[1;31m:\u001B[0m invalid syntax\n"
     ]
    }
   ],
   "source": [
    "p3 = np.sin(np.pi/) \n",
    "P3 = \n",
    "\n",
    "def pi_approx_archimedes(Pn, n, i):\n",
    "    if i == 0:\n",
    "        return Pn\n",
    "    P2n = (2 * Pn) / (1 + np.sqrt(1 + (Pn / n)**2))\n",
    "    return pi_approx_archimedes(P2n, n * 2, i - 1)\n",
    "\n",
    "# n = 3\n",
    "# pi_approx_archimedes(np.sqrt(n)*2*n, 4, n)"
   ],
   "metadata": {
    "collapsed": false,
    "ExecuteTime": {
     "end_time": "2024-10-06T05:12:45.292794Z",
     "start_time": "2024-10-06T05:12:45.285765Z"
    }
   },
   "id": "c44b439c8ca780b4",
   "execution_count": 21
  },
  {
   "cell_type": "code",
   "outputs": [],
   "source": [
    "def approx_square_root_two(n =100000):\n",
    "    # x = 2 * np.pi * 0.25\n",
    "    \n",
    "    # error = np.arange(x, 2, 0.1)\n",
    "    # error =  np.mean(error) - x\n",
    "    # \n",
    "    # # error = 0\n",
    "    # for i in np.arange(1, n + 1, 1, dtype=int):\n",
    "    #     d = (error /2 * np.pi * 0.25 /i)\n",
    "    #     # error -= -d if i % 2 == 0 else d \n",
    "    #     # error += d \n",
    "    #     \n",
    "    # \n",
    "    # return x - error\n",
    "\n",
    "\n",
    "# print(np.sqrt(2), approx_square_root_two())"
   ],
   "metadata": {
    "collapsed": false
   },
   "id": "e1aafe560b67b153",
   "execution_count": null
  },
  {
   "cell_type": "code",
   "outputs": [],
   "source": [
    "dict hash = {}\n",
    "\n",
    "def ones(n):\n",
    "    if n in hash:\n",
    "        return hash[n]\n",
    "    \n",
    "    if n <= 0:\n",
    "        return []\n",
    "    \n",
    "    res = ones(n - 1)+[1]\n",
    "    hash[n] = res\n",
    "    return hash[n] \n",
    "\n",
    "\n",
    "def odd_case(xs, n):\n",
    "    if n <= 1:\n",
    "        return xs\n",
    "    \n",
    "    if n == 3:\n",
    "\n",
    "        return xs + odd_case(res, n-2)  \n",
    "        return xs + odd_case(res, n-2)  \n",
    "        \n",
    "\n",
    "    h = n//2    \n",
    "    m = h \n",
    "    l = m-1\n",
    "    r = m + 1\n",
    "    \n",
    "    collapse = xs[0][m] + xs[0][l] + xs[0][r]\n",
    "    res = [ones(n//2 -1 ) + [collapse] + ones(n//2 -1)]\n",
    "    return xs + odd_case(res, n-2)  \n",
    "    \n",
    "    \n",
    "def even_case(n):\n",
    "    pass\n",
    "\n",
    "def g(n):\n",
    "    if n <= 3:\n",
    "        return [ones(n)]\n",
    "    if n % 2 == 1:\n",
    "        return odd_case([ones(n)], n)   \n",
    "    if n % 2 == 0:\n",
    "        return even_case(ones(n))\n",
    "\n",
    "g(9)\n",
    "    "
   ],
   "metadata": {
    "collapsed": false,
    "ExecuteTime": {
     "start_time": "2024-10-06T05:12:45.297824Z"
    }
   },
   "id": "819b3209ca453fcc",
   "execution_count": null
  },
  {
   "cell_type": "code",
   "outputs": [
    {
     "name": "stdout",
     "output_type": "stream",
     "text": [
      "2\n"
     ]
    },
    {
     "data": {
      "text/plain": "[[4], [2, 2], [1, 2, 1], [1, 1, 1, 1]]"
     },
     "execution_count": 43,
     "metadata": {},
     "output_type": "execute_result"
    }
   ],
   "source": [
    "def f(xs, end_n):\n",
    "    \n",
    "    n = len(xs[-1])\n",
    "    \n",
    "    if end_n <= 3:\n",
    "        return xs+ [ones(end_n)]\n",
    "    \n",
    "    if n == end_n:\n",
    "        return  xs[-1]\n",
    "    \n",
    "    if n == end_n -1:\n",
    "        return xs + [ones(n+1)]\n",
    "    \n",
    "    if n == 1:\n",
    "        print(xs[-1][0] // 2)\n",
    "        val = xs[-1][0] // 2\n",
    "        return xs + f([ [val , val] ], end_n)\n",
    "    \n",
    "    if n == 2:\n",
    "        \n",
    "        if xs[-1][0] % 2 == 0:\n",
    "            \n",
    "            val = xs[-1][n//2]\n",
    "            l = val // 2\n",
    "            r = val // 2\n",
    "            m = val // 2 + 1\n",
    "            \n",
    "            return xs + f([[l, m, r]], end_n)\n",
    "\n",
    "        if xs[-1][0] % 2 == 1:\n",
    "            l = n//2 + 1\n",
    "            r = n//2 + 1\n",
    "            m = n//2 + 1\n",
    "            return xs + f([[l, m, r]], end_n)\n",
    "        \n",
    "        \n",
    "n = 4\n",
    "f([[n]], n)\n",
    "        "
   ],
   "metadata": {
    "collapsed": false,
    "ExecuteTime": {
     "end_time": "2024-10-06T05:16:49.804237Z",
     "start_time": "2024-10-06T05:16:49.789051Z"
    }
   },
   "id": "e138cf06968d51d6",
   "execution_count": 43
  },
  {
   "cell_type": "code",
   "outputs": [],
   "source": [
    "# n=1\n",
    "# [[1]] \n",
    "\n",
    "# n=2\n",
    "# [11]\n",
    "# [2]\n",
    "\n",
    "# n =3\n",
    "# [3]\n",
    "# [111]\n",
    "\n",
    "# n=4\n",
    "# [4]\n",
    "# [22]\n",
    "# [121]\n",
    "# [1111]\n",
    "\n",
    "# n=5\n",
    "# [5] \n",
    "# [212]\n",
    "# [131]\n",
    "# [11111]\n",
    "\n",
    "\n",
    "# n=6\n",
    "# [6]\n",
    "# [33]\n",
    "# [222]\n",
    "# [2112]\n",
    "# [11211]\n",
    "# [111111]\n",
    "\n",
    "# n = 7 \n",
    "# [7]\n",
    "# [151]\n",
    "# [12121]\n",
    "# [11311]"
   ],
   "metadata": {
    "collapsed": false
   },
   "id": "3978b48ef5079c1b",
   "execution_count": null
  },
  {
   "cell_type": "code",
   "outputs": [],
   "source": [],
   "metadata": {
    "collapsed": false,
    "ExecuteTime": {
     "start_time": "2024-10-06T05:12:45.303289Z"
    }
   },
   "id": "88321f6cae23d73b",
   "execution_count": null
  },
  {
   "cell_type": "code",
   "outputs": [],
   "source": [],
   "metadata": {
    "collapsed": false,
    "ExecuteTime": {
     "start_time": "2024-10-06T05:12:45.305289Z"
    }
   },
   "id": "39ad1a085629a332"
  }
 ],
 "metadata": {
  "kernelspec": {
   "display_name": "Python 3",
   "language": "python",
   "name": "python3"
  },
  "language_info": {
   "codemirror_mode": {
    "name": "ipython",
    "version": 2
   },
   "file_extension": ".py",
   "mimetype": "text/x-python",
   "name": "python",
   "nbconvert_exporter": "python",
   "pygments_lexer": "ipython2",
   "version": "2.7.6"
  }
 },
 "nbformat": 4,
 "nbformat_minor": 5
}
