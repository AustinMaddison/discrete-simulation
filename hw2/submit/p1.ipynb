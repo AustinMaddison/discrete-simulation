{
 "cells": [
  {
   "cell_type": "markdown",
   "source": [
    "#### Discrete Simulation HW2\n",
    "#### Problem 1\n",
    "Authored: Austin Jetrin Maddison 6481268"
   ],
   "metadata": {
    "collapsed": false
   },
   "id": "9b0370462cadec96"
  },
  {
   "cell_type": "code",
   "execution_count": 2,
   "id": "initial_id",
   "metadata": {
    "collapsed": true,
    "ExecuteTime": {
     "end_time": "2024-10-08T15:59:35.982826Z",
     "start_time": "2024-10-08T15:59:35.374944Z"
    }
   },
   "outputs": [],
   "source": [
    "from my_settings import *"
   ]
  },
  {
   "cell_type": "code",
   "outputs": [],
   "source": [
    "def pi_approx_archimedes(p, P, n, max_n):\n",
    "    if n >= max_n:\n",
    "        return (p + P)/2\n",
    "    \n",
    "    P2 = 2 * p * P / (p + P)\n",
    "    p2 = np.sqrt(p * P2)\n",
    "    \n",
    "    return pi_approx_archimedes(p2, P2, n*2, max_n)\n",
    "\n",
    "def count_matching_digits(float1, float2, precision=100):\n",
    "    format_str = f\"{{:.{precision}f}}\"\n",
    "    str1 = format_str.format(float1)\n",
    "    str2 = format_str.format(float2)\n",
    "    \n",
    "    str1 = str1.replace('.', '')\n",
    "    str2 = str2.replace('.', '')\n",
    "    \n",
    "    count = 0\n",
    "    for digit1, digit2 in zip(str1, str2):\n",
    "        if digit1 == digit2:\n",
    "            count += 1\n",
    "        else:\n",
    "            break  \n",
    "    \n",
    "    return count\n",
    "\n",
    "n = 3\n",
    "p = np.sin(np.pi / (2*n)) * (2*n)\n",
    "P = np.tan(np.pi / (2*n)) * (2*n)\n",
    "pi_approx_archimedes(p, P, n, 96)\n",
    "f = lambda end_n: pi_approx_archimedes(np.sin(np.pi / (2*n)) * (2*n), np.tan(np.pi / (2*n)) * (2*n), 3, end_n) \n"
   ],
   "metadata": {
    "collapsed": false,
    "ExecuteTime": {
     "end_time": "2024-10-08T16:29:14.097727Z",
     "start_time": "2024-10-08T16:29:14.087526Z"
    }
   },
   "id": "b28e28731475fabb",
   "execution_count": 105
  },
  {
   "cell_type": "code",
   "outputs": [
    {
     "name": "stdout",
     "output_type": "stream",
     "text": [
      "P_6 , p_6  pi approx = 3.14614428  \n",
      "pi                   = 3.14159265  \n",
      "number of matching digits = 3\n",
      "\n",
      "P_12, p_12 pi approx = 3.14187328  \n",
      "pi                   = 3.14159265  \n",
      "number of matching digits = 4\n",
      "\n",
      "P_24, p_24 pi approx = 3.14161018  \n",
      "pi                   = 3.14159265  \n",
      "number of matching digits = 4\n",
      "\n",
      "P_48, p_48 pi approx = 3.14159375  \n",
      "pi                   = 3.14159265  \n",
      "number of matching digits = 6\n",
      "\n",
      "P_96, p_96 pi approx = 3.14159272  \n",
      "pi                   = 3.14159265  \n",
      "number of matching digits = 7\n",
      "\n",
      "P_192, p_192 pi approx = 3.14159266  \n",
      "pi                   = 3.14159265  \n",
      "number of matching digits = 9\n"
     ]
    }
   ],
   "source": [
    "\n",
    "n = 3\n",
    "for i in range(6):\n",
    "    n *=2\n",
    "    res = f(n)\n",
    "    count = count_matching_digits(res, np.pi)\n",
    "    print(f'P_{n:<2}, p_{n:<2} pi approx = {res:<12.8f}')\n",
    "    print(f'{\"pi\":20} = {np.pi:<12.8f}')\n",
    "     \n",
    "    print(f'number of matching digits = {count}')\n",
    "    print()\n",
    "\n",
    "\n"
   ],
   "metadata": {
    "collapsed": false,
    "ExecuteTime": {
     "end_time": "2024-10-08T16:31:08.737639Z",
     "start_time": "2024-10-08T16:31:08.732972Z"
    }
   },
   "id": "c44b439c8ca780b4",
   "execution_count": 110
  }
 ],
 "metadata": {
  "kernelspec": {
   "display_name": "Python 3",
   "language": "python",
   "name": "python3"
  },
  "language_info": {
   "codemirror_mode": {
    "name": "ipython",
    "version": 2
   },
   "file_extension": ".py",
   "mimetype": "text/x-python",
   "name": "python",
   "nbconvert_exporter": "python",
   "pygments_lexer": "ipython2",
   "version": "2.7.6"
  }
 },
 "nbformat": 4,
 "nbformat_minor": 5
}
