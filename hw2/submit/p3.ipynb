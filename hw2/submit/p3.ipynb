{
 "cells": [
  {
   "cell_type": "markdown",
   "source": [
    "#### Discrete Simulation HW2\n",
    "#### Problem 3\n",
    "Authored: Austin Jetrin Maddison 6481268"
   ],
   "metadata": {
    "collapsed": false
   },
   "id": "bde4534c3511e36"
  },
  {
   "cell_type": "code",
   "execution_count": 1,
   "id": "initial_id",
   "metadata": {
    "collapsed": true,
    "ExecuteTime": {
     "end_time": "2024-10-08T15:41:12.020431Z",
     "start_time": "2024-10-08T15:41:11.469683Z"
    }
   },
   "outputs": [],
   "source": [
    "from my_settings import *"
   ]
  },
  {
   "cell_type": "markdown",
   "source": [
    "a.)"
   ],
   "metadata": {
    "collapsed": false
   },
   "id": "bee79ed94571963a"
  },
  {
   "cell_type": "code",
   "outputs": [],
   "source": [
    "def monty_hall(N, max_doors=3, max_cars=1, switch=True):\n",
    "    max_cars = min(max_cars, max_doors)\n",
    "    correct = np.zeros(N, dtype=bool)\n",
    "    doors = np.arange(max_doors)\n",
    "    \n",
    "    for i in range(N):\n",
    "        cars = np.random.choice(doors, size=max_cars, replace=False)\n",
    "        my_choice = [np.random.randint(0, max_doors)]\n",
    "        available_doors = np.setdiff1d(doors, np.union1d(cars, my_choice))\n",
    "\n",
    "        host_open = np.random.choice(available_doors, size=1, replace=False)\n",
    "        \n",
    "        if switch:\n",
    "            remaining_doors = np.setdiff1d(doors, host_open )\n",
    "            remaining_doors = np.setdiff1d(remaining_doors, my_choice)\n",
    "            \n",
    "            my_choice = np.random.choice(remaining_doors, size=1, replace=False)\n",
    "            \n",
    "        correct[i] = my_choice in cars\n",
    "    \n",
    "    return np.mean(correct)"
   ],
   "metadata": {
    "collapsed": false,
    "ExecuteTime": {
     "end_time": "2024-10-08T15:54:35.398398Z",
     "start_time": "2024-10-08T15:54:35.391066Z"
    }
   },
   "id": "65d5d1ad54b2def8",
   "execution_count": 59
  },
  {
   "cell_type": "code",
   "outputs": [
    {
     "data": {
      "text/plain": "0.667056"
     },
     "execution_count": 60,
     "metadata": {},
     "output_type": "execute_result"
    }
   ],
   "source": [
    "monty_hall(500000, max_doors=3, max_cars=1)"
   ],
   "metadata": {
    "collapsed": false,
    "ExecuteTime": {
     "end_time": "2024-10-08T15:56:18.401650Z",
     "start_time": "2024-10-08T15:54:48.423329Z"
    }
   },
   "id": "c44b439c8ca780b4",
   "execution_count": 60
  },
  {
   "cell_type": "code",
   "outputs": [
    {
     "data": {
      "text/plain": "0.5333"
     },
     "execution_count": 61,
     "metadata": {},
     "output_type": "execute_result"
    }
   ],
   "source": [
    "monty_hall(500000, max_doors=5, max_cars=2)"
   ],
   "metadata": {
    "collapsed": false,
    "ExecuteTime": {
     "end_time": "2024-10-08T15:58:07.217276Z",
     "start_time": "2024-10-08T15:56:18.403657Z"
    }
   },
   "id": "8654bace24014d70",
   "execution_count": 61
  }
 ],
 "metadata": {
  "kernelspec": {
   "display_name": "Python 3",
   "language": "python",
   "name": "python3"
  },
  "language_info": {
   "codemirror_mode": {
    "name": "ipython",
    "version": 2
   },
   "file_extension": ".py",
   "mimetype": "text/x-python",
   "name": "python",
   "nbconvert_exporter": "python",
   "pygments_lexer": "ipython2",
   "version": "2.7.6"
  }
 },
 "nbformat": 4,
 "nbformat_minor": 5
}
