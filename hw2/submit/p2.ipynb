{
 "cells": [
  {
   "cell_type": "markdown",
   "source": [
    "#### Discrete Simulation HW2\n",
    "#### Problem 2\n",
    "Authored: Austin Jetrin Maddison 6481268"
   ],
   "metadata": {
    "collapsed": false
   },
   "id": "bde4534c3511e36"
  },
  {
   "cell_type": "code",
   "execution_count": 2,
   "id": "initial_id",
   "metadata": {
    "collapsed": true,
    "ExecuteTime": {
     "end_time": "2024-10-08T16:35:53.856319Z",
     "start_time": "2024-10-08T16:35:53.195312Z"
    }
   },
   "outputs": [],
   "source": [
    "from my_settings import *"
   ]
  },
  {
   "cell_type": "markdown",
   "source": [
    "a.)"
   ],
   "metadata": {
    "collapsed": false
   },
   "id": "bee79ed94571963a"
  },
  {
   "cell_type": "code",
   "outputs": [
    {
     "name": "stdout",
     "output_type": "stream",
     "text": [
      "1.4142909169379279\n"
     ]
    }
   ],
   "source": [
    "def square_root_two_approx_taylor(n=150):\n",
    "    x = 2\n",
    "    sum = 0\n",
    "    an = 1\n",
    "    bn = 1/2\n",
    "    \n",
    "    for i in range(n):\n",
    "        term = (an * (x - 1) ** bn) * (x - 1) ** i / math.factorial(i)\n",
    "        sum += term\n",
    "        \n",
    "        an *= bn\n",
    "        bn -= 1\n",
    "   \n",
    "    return sum\n",
    "\n",
    "print(square_root_two_approx_taylor())"
   ],
   "metadata": {
    "collapsed": false,
    "ExecuteTime": {
     "end_time": "2024-10-08T16:38:57.422149Z",
     "start_time": "2024-10-08T16:38:57.417194Z"
    }
   },
   "id": "c44b439c8ca780b4",
   "execution_count": 53
  },
  {
   "cell_type": "code",
   "outputs": [
    {
     "name": "stdout",
     "output_type": "stream",
     "text": [
      "1.41529\n",
      "CI= [1.4135070094100637, 1.4170729905899362]\n"
     ]
    }
   ],
   "source": [
    "def square_root_two_approx_sampling(n = 1000000, x=2):\n",
    "    xs = np.random.ranf(n) * x\n",
    "    ys = xs**2\n",
    "    count = ys <= x\n",
    "    res = np.mean(count) * x\n",
    "    std = np.std(count) * x\n",
    "    \n",
    "    calc_ci = lambda x, std, n, z = 1.96 : [x - z * (std / np.sqrt(n)), x + z * (std / np.sqrt(n))]\n",
    "    return res, calc_ci(res, std, n)\n",
    "    \n",
    "res, ci = square_root_two_approx_sampling()\n",
    "\n",
    "print(res)\n",
    "print('CI=', ci)\n"
   ],
   "metadata": {
    "collapsed": false,
    "ExecuteTime": {
     "end_time": "2024-10-08T15:11:10.848499Z",
     "start_time": "2024-10-08T15:11:10.814773Z"
    }
   },
   "id": "e1aafe560b67b153",
   "execution_count": 8
  }
 ],
 "metadata": {
  "kernelspec": {
   "display_name": "Python 3",
   "language": "python",
   "name": "python3"
  },
  "language_info": {
   "codemirror_mode": {
    "name": "ipython",
    "version": 2
   },
   "file_extension": ".py",
   "mimetype": "text/x-python",
   "name": "python",
   "nbconvert_exporter": "python",
   "pygments_lexer": "ipython2",
   "version": "2.7.6"
  }
 },
 "nbformat": 4,
 "nbformat_minor": 5
}
