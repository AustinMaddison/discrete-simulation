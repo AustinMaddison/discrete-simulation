{
 "cells": [
  {
   "cell_type": "markdown",
   "source": [
    "#### Discrete Simulation \n",
    "#### Inclass L4\n",
    "Authored: Austin Jetrin Maddison 6481268"
   ],
   "metadata": {
    "collapsed": false
   },
   "id": "4471b0b8d5bebd2c"
  },
  {
   "cell_type": "code",
   "execution_count": 2,
   "id": "7adf188e169d19df",
   "metadata": {
    "collapsed": false,
    "ExecuteTime": {
     "end_time": "2024-10-10T09:17:01.590042Z",
     "start_time": "2024-10-10T09:17:00.518530Z"
    }
   },
   "outputs": [],
   "source": [
    "import matplotlib.pyplot as plt\n",
    "import numpy as np\n",
    "\n",
    "from my_settings import *"
   ]
  },
  {
   "cell_type": "code",
   "outputs": [],
   "source": [
    "np.random.seed(27)"
   ],
   "metadata": {
    "collapsed": false,
    "ExecuteTime": {
     "end_time": "2024-10-10T09:17:02.303095Z",
     "start_time": "2024-10-10T09:17:02.154161Z"
    }
   },
   "id": "9a7f6d7cf1399a8b",
   "execution_count": 3
  },
  {
   "cell_type": "code",
   "outputs": [],
   "source": [
    "fract = lambda x: x - np.floor(x)"
   ],
   "metadata": {
    "collapsed": false,
    "ExecuteTime": {
     "end_time": "2024-10-10T09:24:40.228502Z",
     "start_time": "2024-10-10T09:24:40.223727Z"
    }
   },
   "id": "9e515beea157f37e",
   "execution_count": 29
  },
  {
   "cell_type": "markdown",
   "source": [
    "THm: Bohl Serphinirki-Wehyl Equadistribution"
   ],
   "metadata": {
    "collapsed": false
   },
   "id": "ca22affdf5003d76"
  },
  {
   "cell_type": "code",
   "outputs": [],
   "source": [
    "n = 100"
   ],
   "metadata": {
    "collapsed": false
   },
   "id": "239bf9548d97c3d",
   "execution_count": null
  },
  {
   "cell_type": "code",
   "outputs": [
    {
     "data": {
      "text/plain": "(array([10., 10., 10., 10., 11., 10., 10.,  9., 10., 10.]),\n array([0.00714267, 0.10592334, 0.20470401, 0.30348468, 0.40226535,\n        0.50104602, 0.59982669, 0.69860736, 0.79738803, 0.8961687 ,\n        0.99494937]),\n <BarContainer object of 10 artists>)"
     },
     "execution_count": 30,
     "metadata": {},
     "output_type": "execute_result"
    },
    {
     "data": {
      "text/plain": "<Figure size 640x480 with 1 Axes>",
      "image/png": "[encoded data removed]"
     },
     "metadata": {},
     "output_type": "display_data"
    }
   ],
   "source": [
    "xs = np.ones(n) * 2\n",
    "ns = np.arange(1, n+1)\n",
    "f = lambda x: x**0.5\n",
    "\n",
    "\n",
    "res = fract(f(xs) * ns)\n",
    "plt.hist(res)\n"
   ],
   "metadata": {
    "collapsed": false,
    "ExecuteTime": {
     "end_time": "2024-10-10T09:24:41.572627Z",
     "start_time": "2024-10-10T09:24:41.315558Z"
    }
   },
   "id": "836ffa9dfd1b51b3",
   "execution_count": 30
  },
  {
   "cell_type": "code",
   "outputs": [
    {
     "data": {
      "text/plain": "(array([3333.,    0.,    0.,    0., 3333.,    0.,    0.,    0.,    0.,\n        3334.]),\n array([0.        , 0.06666667, 0.13333333, 0.2       , 0.26666667,\n        0.33333333, 0.4       , 0.46666667, 0.53333333, 0.6       ,\n        0.66666667]),\n <BarContainer object of 10 artists>)"
     },
     "execution_count": 31,
     "metadata": {},
     "output_type": "execute_result"
    },
    {
     "data": {
      "text/plain": "<Figure size 640x480 with 1 Axes>",
      "image/png": "[encoded data removed]"
     },
     "metadata": {},
     "output_type": "display_data"
    }
   ],
   "source": [
    "xs = np.ones(n) * 2\n",
    "ns = np.arange(1, n+1)\n",
    "f = lambda x: x*1/3\n",
    "\n",
    "res = fract(f(xs) * ns)\n",
    "plt.hist(res)"
   ],
   "metadata": {
    "collapsed": false,
    "ExecuteTime": {
     "end_time": "2024-10-10T09:24:43.852316Z",
     "start_time": "2024-10-10T09:24:43.552026Z"
    }
   },
   "id": "dde515807d04790c",
   "execution_count": 31
  },
  {
   "cell_type": "code",
   "outputs": [
    {
     "data": {
      "text/plain": "(array([1000., 1000.,  999., 1001., 1001.,  998.,  999., 1001., 1001.,\n        1000.]),\n array([1.05283172e-04, 1.00088990e-01, 2.00072697e-01, 3.00056404e-01,\n        4.00040112e-01, 5.00023819e-01, 6.00007526e-01, 6.99991233e-01,\n        7.99974940e-01, 8.99958647e-01, 9.99942354e-01]),\n <BarContainer object of 10 artists>)"
     },
     "execution_count": 32,
     "metadata": {},
     "output_type": "execute_result"
    },
    {
     "data": {
      "text/plain": "<Figure size 640x480 with 1 Axes>",
      "image/png": "[encoded data removed]"
     },
     "metadata": {},
     "output_type": "display_data"
    }
   ],
   "source": [
    "xs = np.ones(n) * 2\n",
    "ns = np.arange(1, n+1)\n",
    "f = lambda x: x*np.e\n",
    "\n",
    "res = fract(f(xs) * ns)\n",
    "plt.hist(res)"
   ],
   "metadata": {
    "collapsed": false,
    "ExecuteTime": {
     "end_time": "2024-10-10T09:36:20.505522Z",
     "start_time": "2024-10-10T09:36:20.221741Z"
    }
   },
   "id": "e6bbdd67395daed6",
   "execution_count": 32
  },
  {
   "cell_type": "markdown",
   "source": [
    "C-Finite, \n",
    "### The objective is to say whether somthing is **CFinite or not CFinite**\n",
    "- Arithmetic\n",
    "- Geometric\n",
    "- Constant-Recursive\n",
    "<p align=\"center\">\n",
    "<img height=400 src=\"img.png\"/>\n",
    "</p>"
   ],
   "metadata": {
    "collapsed": false
   },
   "id": "6996dfd77164860f"
  },
  {
   "cell_type": "code",
   "outputs": [],
   "source": [
    "def CFinite(n, cs, ss):\n",
    "    \n",
    "    d = xs\n",
    "    d = len(cs)"
   ],
   "metadata": {
    "collapsed": false
   },
   "id": "e0ef670de1117c2d"
  },
  {
   "cell_type": "markdown",
   "source": [
    "Try to fit the polynomial, Guess Polynomial"
   ],
   "metadata": {
    "collapsed": false
   },
   "id": "e3886ef3115cbcb8"
  },
  {
   "cell_type": "code",
   "outputs": [],
   "source": [
    "import sympy as sp"
   ],
   "metadata": {
    "collapsed": false,
    "ExecuteTime": {
     "end_time": "2024-10-10T09:58:04.671946Z",
     "start_time": "2024-10-10T09:58:03.528814Z"
    }
   },
   "id": "fc56740a4372985d",
   "execution_count": 34
  },
  {
   "cell_type": "code",
   "outputs": [],
   "source": [
    "c = sp.symbols('c')"
   ],
   "metadata": {
    "collapsed": false,
    "ExecuteTime": {
     "end_time": "2024-10-10T10:05:33.574247Z",
     "start_time": "2024-10-10T10:05:33.567814Z"
    }
   },
   "id": "8e0eb714b332fbc5",
   "execution_count": 54
  },
  {
   "cell_type": "code",
   "outputs": [
    {
     "data": {
      "text/plain": "i*(i + 1)/2",
      "text/latex": "$\\displaystyle \\frac{i \\left(i + 1\\right)}{2}$"
     },
     "execution_count": 55,
     "metadata": {},
     "output_type": "execute_result"
    }
   ],
   "source": [
    "i = sp.symbols('i')\n",
    "\n",
    "exp = (i * (i + 1)) / 2\n",
    "exp"
   ],
   "metadata": {
    "collapsed": false,
    "ExecuteTime": {
     "end_time": "2024-10-10T10:05:35.007266Z",
     "start_time": "2024-10-10T10:05:34.998155Z"
    }
   },
   "id": "1ec1255a961fd457",
   "execution_count": 55
  },
  {
   "cell_type": "code",
   "outputs": [
    {
     "data": {
      "text/plain": "220",
      "text/latex": "$\\displaystyle 220$"
     },
     "execution_count": 57,
     "metadata": {},
     "output_type": "execute_result"
    }
   ],
   "source": [
    "sp.summation(exp, (i, 1, 10))"
   ],
   "metadata": {
    "collapsed": false,
    "ExecuteTime": {
     "end_time": "2024-10-10T10:05:38.846859Z",
     "start_time": "2024-10-10T10:05:38.834031Z"
    }
   },
   "id": "a65e15af0338b11f",
   "execution_count": 57
  },
  {
   "cell_type": "code",
   "outputs": [],
   "source": [
    "\n",
    "def GuessPol(A, n):\n",
    "    deg = 0\n",
    "    sol = set()\n",
    "    eq = None\n",
    "    c = 0\n",
    "    \n",
    "    sol = set()\n",
    "    \n",
    "    while sol is set():\n",
    "        eq = np.arange()\n",
    "        \n",
    "        ## Somthing somthing\n",
    "        \n",
    "    "
   ],
   "metadata": {
    "collapsed": false
   },
   "id": "6b3d9dda0262befb"
  },
  {
   "cell_type": "markdown",
   "source": [
    "Given Sequence $a_n + c_1 a_{n-1} + ... + c_d a_{n-d} = 0$ -> then we solve for $c_0, c_1, ..., c_d$"
   ],
   "metadata": {
    "collapsed": false
   },
   "id": "c009bdab0c5ac486"
  }
 ],
 "metadata": {
  "kernelspec": {
   "display_name": "Python 3",
   "language": "python",
   "name": "python3"
  },
  "language_info": {
   "codemirror_mode": {
    "name": "ipython",
    "version": 2
   },
   "file_extension": ".py",
   "mimetype": "text/x-python",
   "name": "python",
   "nbconvert_exporter": "python",
   "pygments_lexer": "ipython2",
   "version": "2.7.6"
  }
 },
 "nbformat": 4,
 "nbformat_minor": 5
}
