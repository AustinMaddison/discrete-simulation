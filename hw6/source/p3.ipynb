{
 "cells": [
  {
   "cell_type": "markdown",
   "source": [
    "#### Discrete Simulation HW7\n",
    "#### Problem 3\n",
    "Authored: Austin Jetrin Maddison 6481268"
   ],
   "metadata": {
    "collapsed": false
   },
   "id": "9b0370462cadec96"
  },
  {
   "cell_type": "code",
   "id": "initial_id",
   "metadata": {
    "collapsed": true,
    "ExecuteTime": {
     "end_time": "2024-12-14T22:43:35.917280Z",
     "start_time": "2024-12-14T22:43:33.992178Z"
    }
   },
   "source": [
    "import matplotlib.pyplot as plt\n",
    "import numpy as np\n",
    "from sympy.physics.control.control_plots import matplotlib\n",
    "\n",
    "from my_settings import *"
   ],
   "outputs": [],
   "execution_count": 1
  },
  {
   "metadata": {},
   "cell_type": "markdown",
   "source": "",
   "id": "b41102592d552a9c"
  },
  {
   "metadata": {},
   "cell_type": "code",
   "source": "from my_settings import *",
   "id": "a74631e09bed1b58",
   "outputs": [],
   "execution_count": null
  },
  {
   "metadata": {
    "ExecuteTime": {
     "end_time": "2024-12-14T22:43:35.927658Z",
     "start_time": "2024-12-14T22:43:35.923659Z"
    }
   },
   "cell_type": "code",
   "outputs": [],
   "execution_count": 2,
   "source": [
    "def walk(n=50, p=0.50, ):\n",
    "    rand = np.random.uniform(size=n + 1)\n",
    "    vectors = np.zeros(n + 1, dtype=np.longdouble)\n",
    "    vectors[1:] = 2 * ((rand[1:] <= p) - 0.5)\n",
    "    displacement = vectors.cumsum()\n",
    "    return (np.abs(displacement) > 1.96 * np.sqrt(np.arange(n + 1))).mean()\n"
   ],
   "id": "b3e293bf71cfcea"
  },
  {
   "metadata": {
    "ExecuteTime": {
     "end_time": "2024-12-14T22:43:36.002562Z",
     "start_time": "2024-12-14T22:43:35.998732Z"
    }
   },
   "cell_type": "code",
   "outputs": [],
   "execution_count": 3,
   "source": [
    "N = 5_000_000\n",
    "f = np.vectorize(lambda x: walk(n=int(x)))"
   ],
   "id": "28b0f69d4241698f"
  },
  {
   "metadata": {
    "ExecuteTime": {
     "end_time": "2024-12-15T20:24:22.965154Z",
     "start_time": "2024-12-15T20:24:14.726585Z"
    }
   },
   "cell_type": "code",
   "outputs": [
    {
     "ename": "KeyboardInterrupt",
     "evalue": "",
     "output_type": "error",
     "traceback": [
      "\u001B[1;31m---------------------------------------------------------------------------\u001B[0m",
      "\u001B[1;31mKeyboardInterrupt\u001B[0m                         Traceback (most recent call last)",
      "Cell \u001B[1;32mIn[9], line 1\u001B[0m\n\u001B[1;32m----> 1\u001B[0m \u001B[38;5;28mprint\u001B[39m(\u001B[38;5;124mf\u001B[39m\u001B[38;5;124m'\u001B[39m\u001B[38;5;124ma) W_3 = \u001B[39m\u001B[38;5;132;01m{\u001B[39;00mf(np\u001B[38;5;241m.\u001B[39mones(N)\u001B[38;5;250m \u001B[39m\u001B[38;5;241m*\u001B[39m\u001B[38;5;250m \u001B[39m\u001B[38;5;241m3\u001B[39m)\u001B[38;5;241m.\u001B[39mmean()\u001B[38;5;132;01m}\u001B[39;00m\u001B[38;5;124m'\u001B[39m)\n",
      "File \u001B[1;32m~\\anaconda3\\Lib\\site-packages\\numpy\\lib\\function_base.py:2372\u001B[0m, in \u001B[0;36mvectorize.__call__\u001B[1;34m(self, *args, **kwargs)\u001B[0m\n\u001B[0;32m   2369\u001B[0m     \u001B[38;5;28mself\u001B[39m\u001B[38;5;241m.\u001B[39m_init_stage_2(\u001B[38;5;241m*\u001B[39margs, \u001B[38;5;241m*\u001B[39m\u001B[38;5;241m*\u001B[39mkwargs)\n\u001B[0;32m   2370\u001B[0m     \u001B[38;5;28;01mreturn\u001B[39;00m \u001B[38;5;28mself\u001B[39m\n\u001B[1;32m-> 2372\u001B[0m \u001B[38;5;28;01mreturn\u001B[39;00m \u001B[38;5;28mself\u001B[39m\u001B[38;5;241m.\u001B[39m_call_as_normal(\u001B[38;5;241m*\u001B[39margs, \u001B[38;5;241m*\u001B[39m\u001B[38;5;241m*\u001B[39mkwargs)\n",
      "File \u001B[1;32m~\\anaconda3\\Lib\\site-packages\\numpy\\lib\\function_base.py:2365\u001B[0m, in \u001B[0;36mvectorize._call_as_normal\u001B[1;34m(self, *args, **kwargs)\u001B[0m\n\u001B[0;32m   2362\u001B[0m     vargs \u001B[38;5;241m=\u001B[39m [args[_i] \u001B[38;5;28;01mfor\u001B[39;00m _i \u001B[38;5;129;01min\u001B[39;00m inds]\n\u001B[0;32m   2363\u001B[0m     vargs\u001B[38;5;241m.\u001B[39mextend([kwargs[_n] \u001B[38;5;28;01mfor\u001B[39;00m _n \u001B[38;5;129;01min\u001B[39;00m names])\n\u001B[1;32m-> 2365\u001B[0m \u001B[38;5;28;01mreturn\u001B[39;00m \u001B[38;5;28mself\u001B[39m\u001B[38;5;241m.\u001B[39m_vectorize_call(func\u001B[38;5;241m=\u001B[39mfunc, args\u001B[38;5;241m=\u001B[39mvargs)\n",
      "File \u001B[1;32m~\\anaconda3\\Lib\\site-packages\\numpy\\lib\\function_base.py:2455\u001B[0m, in \u001B[0;36mvectorize._vectorize_call\u001B[1;34m(self, func, args)\u001B[0m\n\u001B[0;32m   2452\u001B[0m \u001B[38;5;66;03m# Convert args to object arrays first\u001B[39;00m\n\u001B[0;32m   2453\u001B[0m inputs \u001B[38;5;241m=\u001B[39m [asanyarray(a, dtype\u001B[38;5;241m=\u001B[39m\u001B[38;5;28mobject\u001B[39m) \u001B[38;5;28;01mfor\u001B[39;00m a \u001B[38;5;129;01min\u001B[39;00m args]\n\u001B[1;32m-> 2455\u001B[0m outputs \u001B[38;5;241m=\u001B[39m ufunc(\u001B[38;5;241m*\u001B[39minputs)\n\u001B[0;32m   2457\u001B[0m \u001B[38;5;28;01mif\u001B[39;00m ufunc\u001B[38;5;241m.\u001B[39mnout \u001B[38;5;241m==\u001B[39m \u001B[38;5;241m1\u001B[39m:\n\u001B[0;32m   2458\u001B[0m     res \u001B[38;5;241m=\u001B[39m asanyarray(outputs, dtype\u001B[38;5;241m=\u001B[39motypes[\u001B[38;5;241m0\u001B[39m])\n",
      "Cell \u001B[1;32mIn[3], line 2\u001B[0m, in \u001B[0;36m<lambda>\u001B[1;34m(x)\u001B[0m\n\u001B[0;32m      1\u001B[0m N \u001B[38;5;241m=\u001B[39m \u001B[38;5;241m5_000_000\u001B[39m\n\u001B[1;32m----> 2\u001B[0m f \u001B[38;5;241m=\u001B[39m np\u001B[38;5;241m.\u001B[39mvectorize(\u001B[38;5;28;01mlambda\u001B[39;00m x: walk(n\u001B[38;5;241m=\u001B[39m\u001B[38;5;28mint\u001B[39m(x)))\n",
      "Cell \u001B[1;32mIn[2], line 12\u001B[0m, in \u001B[0;36mwalk\u001B[1;34m(n, p)\u001B[0m\n\u001B[0;32m     10\u001B[0m vectors[\u001B[38;5;241m1\u001B[39m:] \u001B[38;5;241m=\u001B[39m \u001B[38;5;241m2\u001B[39m \u001B[38;5;241m*\u001B[39m ((rand[\u001B[38;5;241m1\u001B[39m:] \u001B[38;5;241m<\u001B[39m\u001B[38;5;241m=\u001B[39m p) \u001B[38;5;241m-\u001B[39m \u001B[38;5;241m0.5\u001B[39m)\n\u001B[0;32m     11\u001B[0m displacement \u001B[38;5;241m=\u001B[39m vectors\u001B[38;5;241m.\u001B[39mcumsum()\n\u001B[1;32m---> 12\u001B[0m \u001B[38;5;28;01mreturn\u001B[39;00m (np\u001B[38;5;241m.\u001B[39mabs(displacement) \u001B[38;5;241m>\u001B[39m \u001B[38;5;241m1.96\u001B[39m \u001B[38;5;241m*\u001B[39m np\u001B[38;5;241m.\u001B[39msqrt(np\u001B[38;5;241m.\u001B[39marange(n \u001B[38;5;241m+\u001B[39m \u001B[38;5;241m1\u001B[39m)))\u001B[38;5;241m.\u001B[39mmean()\n",
      "\u001B[1;31mKeyboardInterrupt\u001B[0m: "
     ]
    }
   ],
   "execution_count": 9,
   "source": "print(f'a) W_3 = {f(np.ones(N) * 3).mean()}')",
   "id": "cb9cf06a3fa63a21"
  },
  {
   "metadata": {
    "ExecuteTime": {
     "end_time": "2024-12-14T22:46:39.998492Z",
     "start_time": "2024-12-14T22:45:02.557843Z"
    }
   },
   "cell_type": "code",
   "outputs": [
    {
     "name": "stdout",
     "output_type": "stream",
     "text": [
      "b) W_4 = 0.024973480000000006\n"
     ]
    }
   ],
   "execution_count": 5,
   "source": "print(f'b) W_4 = {f(np.ones(N) * 4).mean()}')",
   "id": "eb32eb2213ea468e"
  },
  {
   "metadata": {
    "ExecuteTime": {
     "end_time": "2024-12-14T22:48:14.259449Z",
     "start_time": "2024-12-14T22:46:40.062564Z"
    }
   },
   "cell_type": "code",
   "outputs": [
    {
     "name": "stdout",
     "output_type": "stream",
     "text": [
      "c) W_10 = 0.03323483636363634\n"
     ]
    }
   ],
   "execution_count": 6,
   "source": "print(f'c) W_10 = {f(np.ones(N) * 10).mean()}')",
   "id": "4faacd34adcb45d5"
  },
  {
   "metadata": {
    "ExecuteTime": {
     "end_time": "2024-12-14T22:49:54.297813Z",
     "start_time": "2024-12-14T22:48:14.324988Z"
    }
   },
   "cell_type": "code",
   "outputs": [
    {
     "name": "stdout",
     "output_type": "stream",
     "text": [
      "d) W_100 = 0.0483666297029703\n"
     ]
    }
   ],
   "execution_count": 7,
   "source": "print(f'd) W_100 = {f(np.ones(N) * 100).mean()}')",
   "id": "6d81bec12e320f69"
  },
  {
   "metadata": {
    "ExecuteTime": {
     "end_time": "2024-12-14T22:52:41.580435Z",
     "start_time": "2024-12-14T22:49:54.345929Z"
    }
   },
   "cell_type": "code",
   "outputs": [
    {
     "name": "stdout",
     "output_type": "stream",
     "text": [
      "e) W_1000 = 0.04978845074925076\n"
     ]
    }
   ],
   "execution_count": 8,
   "source": "print(f'e) W_1000 = {f(np.ones(N) * 1000).mean()}')",
   "id": "6fcb70a323a0c0cd"
  }
 ],
 "metadata": {
  "kernelspec": {
   "display_name": "Python 3",
   "language": "python",
   "name": "python3"
  },
  "language_info": {
   "codemirror_mode": {
    "name": "ipython",
    "version": 2
   },
   "file_extension": ".py",
   "mimetype": "text/x-python",
   "name": "python",
   "nbconvert_exporter": "python",
   "pygments_lexer": "ipython2",
   "version": "2.7.6"
  }
 },
 "nbformat": 4,
 "nbformat_minor": 5
}
