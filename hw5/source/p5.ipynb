{
 "cells": [
  {
   "cell_type": "markdown",
   "source": [
    "#### Discrete Simulation HW5\n",
    "#### Problem 5\n",
    "Authored: Austin Jetrin Maddison 6481268"
   ],
   "metadata": {
    "collapsed": false
   },
   "id": "9b0370462cadec96"
  },
  {
   "cell_type": "code",
   "id": "initial_id",
   "metadata": {
    "collapsed": true,
    "ExecuteTime": {
     "end_time": "2024-11-24T20:36:13.810867Z",
     "start_time": "2024-11-24T20:36:11.856595Z"
    }
   },
   "source": "from my_settings import *",
   "outputs": [],
   "execution_count": 4
  },
  {
   "cell_type": "code",
   "source": [
    "def gambler_ruins(p, win=120, lost=80, starting_balance=100):\n",
    "    balance = starting_balance\n",
    "\n",
    "    while lost < balance < win:\n",
    "        balance += 1 - (np.random.ranf() < 1 - p)*2\n",
    "\n",
    "    return balance == win"
   ],
   "metadata": {
    "ExecuteTime": {
     "end_time": "2024-11-24T20:53:09.289328Z",
     "start_time": "2024-11-24T20:53:09.284330Z"
    }
   },
   "id": "cd40612e1c5fd5b5",
   "outputs": [],
   "execution_count": 255
  },
  {
   "metadata": {
    "ExecuteTime": {
     "end_time": "2024-11-24T20:55:35.999366Z",
     "start_time": "2024-11-24T20:55:35.995366Z"
    }
   },
   "cell_type": "code",
   "source": [
    "N = 1_000_000\n",
    "f = np.vectorize(lambda x : gambler_ruins(x))"
   ],
   "id": "9cd9673042999c7e",
   "outputs": [],
   "execution_count": 263
  },
  {
   "metadata": {
    "ExecuteTime": {
     "end_time": "2024-11-24T20:58:49.311834Z",
     "start_time": "2024-11-24T20:55:38.407197Z"
    }
   },
   "cell_type": "code",
   "source": [
    "#a\n",
    "p_a = f(np.ones(N)*0.5)\n",
    "p_a.mean()"
   ],
   "id": "e110412280e9b21f",
   "outputs": [
    {
     "data": {
      "text/plain": [
       "0.500581"
      ]
     },
     "execution_count": 264,
     "metadata": {},
     "output_type": "execute_result"
    }
   ],
   "execution_count": 264
  },
  {
   "metadata": {
    "ExecuteTime": {
     "end_time": "2024-11-24T20:59:46.271286Z",
     "start_time": "2024-11-24T20:58:49.334690Z"
    }
   },
   "cell_type": "code",
   "source": [
    "#b\n",
    "p_b = f(np.ones(N)*0.4)\n",
    "p_b.mean()"
   ],
   "id": "cd1476ef2310413a",
   "outputs": [
    {
     "data": {
      "text/plain": [
       "0.00032"
      ]
     },
     "execution_count": 265,
     "metadata": {},
     "output_type": "execute_result"
    }
   ],
   "execution_count": 265
  }
 ],
 "metadata": {
  "kernelspec": {
   "display_name": "Python 3",
   "language": "python",
   "name": "python3"
  },
  "language_info": {
   "codemirror_mode": {
    "name": "ipython",
    "version": 2
   },
   "file_extension": ".py",
   "mimetype": "text/x-python",
   "name": "python",
   "nbconvert_exporter": "python",
   "pygments_lexer": "ipython2",
   "version": "2.7.6"
  }
 },
 "nbformat": 4,
 "nbformat_minor": 5
}
