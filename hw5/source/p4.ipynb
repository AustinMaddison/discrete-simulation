{
 "cells": [
  {
   "cell_type": "markdown",
   "source": [
    "#### Discrete Simulation HW6\n",
    "#### Problem 4\n",
    "Authored: Austin Jetrin Maddison 6481268"
   ],
   "metadata": {
    "collapsed": false
   },
   "id": "9b0370462cadec96"
  },
  {
   "cell_type": "code",
   "id": "initial_id",
   "metadata": {
    "collapsed": true,
    "ExecuteTime": {
     "end_time": "2024-11-24T20:09:55.048679Z",
     "start_time": "2024-11-24T20:09:52.825857Z"
    }
   },
   "source": [
    "import math\n",
    "\n",
    "import matplotlib.pyplot as plt\n",
    "import numpy as np\n",
    "import pandas as pd\n",
    "from mpmath import arange\n",
    "from sympy.physics.quantum.density import Density\n",
    "\n",
    "from my_settings import *"
   ],
   "outputs": [],
   "execution_count": 2
  },
  {
   "metadata": {
    "ExecuteTime": {
     "end_time": "2024-11-24T21:34:33.805122Z",
     "start_time": "2024-11-24T21:34:33.800217Z"
    }
   },
   "cell_type": "code",
   "source": [
    "gen_perm = lambda n: np.random.permutation(np.arange(n))\n",
    "\n",
    "def random_var():\n",
    "    perm = gen_perm(20)\n",
    "    desc = perm[:-1] > perm[1:]\n",
    "    return desc.sum()"
   ],
   "id": "bec5939529bf71e1",
   "outputs": [],
   "execution_count": 79
  },
  {
   "metadata": {
    "ExecuteTime": {
     "end_time": "2024-11-24T21:40:15.631218Z",
     "start_time": "2024-11-24T21:40:15.625250Z"
    }
   },
   "cell_type": "code",
   "source": [
    "#test\n",
    "np.random.seed(27)\n",
    "perm = gen_perm(20)\n",
    "desc = perm[:-1] > perm[1:]\n",
    "print(perm)\n",
    "print(desc.astype(int))\n",
    "print(desc.sum())\n",
    "\n",
    "np.random.seed(27)\n",
    "print(random_var())"
   ],
   "id": "5d617c65e8514be7",
   "outputs": [
    {
     "name": "stdout",
     "output_type": "stream",
     "text": [
      "[ 7 15  0 11 17  3  6  4 14 12 10  2  1 13  9 18  5 16  8 19]\n",
      "[0 1 0 0 1 0 1 0 1 1 1 1 0 1 0 1 0 1 0]\n",
      "10\n",
      "10\n"
     ]
    }
   ],
   "execution_count": 104
  },
  {
   "metadata": {
    "ExecuteTime": {
     "end_time": "2024-11-24T21:41:43.457944Z",
     "start_time": "2024-11-24T21:41:37.627168Z"
    }
   },
   "cell_type": "code",
   "source": [
    "N = 1_000_000\n",
    "f = np.vectorize(lambda x : random_var())\n",
    "res = (f(np.zeros(N)) + 2)**5\n",
    "res.mean()"
   ],
   "id": "8fc302740b77e648",
   "outputs": [
    {
     "data": {
      "text/plain": [
       "228154.707451"
      ]
     },
     "execution_count": 108,
     "metadata": {},
     "output_type": "execute_result"
    }
   ],
   "execution_count": 108
  }
 ],
 "metadata": {
  "kernelspec": {
   "display_name": "Python 3",
   "language": "python",
   "name": "python3"
  },
  "language_info": {
   "codemirror_mode": {
    "name": "ipython",
    "version": 2
   },
   "file_extension": ".py",
   "mimetype": "text/x-python",
   "name": "python",
   "nbconvert_exporter": "python",
   "pygments_lexer": "ipython2",
   "version": "2.7.6"
  }
 },
 "nbformat": 4,
 "nbformat_minor": 5
}
