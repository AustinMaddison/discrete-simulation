{
 "cells": [
  {
   "cell_type": "markdown",
   "source": [
    "#### Discrete Simulation HW5\n",
    "#### Problem 1, 2\n",
    "Authored: Austin Jetrin Maddison 6481268"
   ],
   "metadata": {
    "collapsed": false
   },
   "id": "9b0370462cadec96"
  },
  {
   "cell_type": "code",
   "id": "initial_id",
   "metadata": {
    "collapsed": true,
    "ExecuteTime": {
     "end_time": "2024-11-24T19:39:57.090710Z",
     "start_time": "2024-11-24T19:39:53.306926Z"
    }
   },
   "source": "from my_settings import *",
   "outputs": [],
   "execution_count": 2
  },
  {
   "cell_type": "code",
   "source": [
    "def toilet_distribution(n):\n",
    "    dist_sorted =  np.arange(n, dtype=float)[::-1]\n",
    "    dist_sorted *= 1.0/dist_sorted.sum() # normalize\n",
    "    dist_perm = np.random.permutation(dist_sorted)\n",
    "    return dist_sorted, dist_perm\n",
    "\n",
    "def toilet_rank(n, k):\n",
    "    t_sorted, t_perm = toilet_distribution(n)\n",
    "\n",
    "    learn_mask = np.zeros(t_sorted.size, dtype=bool)\n",
    "    learn_mask[:k] = True\n",
    "    best = np.max(t_perm * learn_mask) # best in learning phase\n",
    "\n",
    "    # candidates are better toilets than best k+1...n\n",
    "    candidates = (t_perm >= best) & ~learn_mask\n",
    "    first_candidate = np.argmax(candidates)\n",
    "\n",
    "    # possible ranks\n",
    "    rank_candidate_exists =  np.argmax(t_perm[first_candidate] == t_sorted)\n",
    "    rank_candidate_not_exist =  np.argmax(t_perm[n-1] == t_sorted)\n",
    "\n",
    "    return rank_candidate_not_exist + (candidates.sum() > 0) * ( rank_candidate_exists - rank_candidate_not_exist )\n",
    "\n",
    "def ToiletDistribution(n, k, N, density=True):\n",
    "    f = np.vectorize(lambda x: toilet_rank(n, k) )\n",
    "    samples = f(np.zeros(N, dtype=int))\n",
    "    return  np.bincount(samples, minlength=n-1) / N if density else np.bincount(samples, minlength=n-1)"
   ],
   "metadata": {
    "ExecuteTime": {
     "end_time": "2024-11-24T19:39:57.106734Z",
     "start_time": "2024-11-24T19:39:57.099716Z"
    }
   },
   "id": "e110412280e9b21f",
   "outputs": [],
   "execution_count": 3
  },
  {
   "metadata": {
    "collapsed": false,
    "ExecuteTime": {
     "end_time": "2024-11-24T19:39:57.165217Z",
     "start_time": "2024-11-24T19:39:57.156219Z"
    }
   },
   "cell_type": "code",
   "source": [
    "# distrib equals 1\n",
    "toilet_distribution(100)[0].sum()"
   ],
   "id": "b17ab1c1ac8f5563",
   "outputs": [
    {
     "data": {
      "text/plain": [
       "1.0000000000000002"
      ]
     },
     "execution_count": 4,
     "metadata": {},
     "output_type": "execute_result"
    }
   ],
   "execution_count": 4
  },
  {
   "metadata": {
    "ExecuteTime": {
     "end_time": "2024-11-24T19:39:59.899963Z",
     "start_time": "2024-11-24T19:39:57.178833Z"
    }
   },
   "cell_type": "code",
   "source": [
    "np.random.seed(27)\n",
    "res = ToiletDistribution(100, 37, N= 100_000)\n",
    "res"
   ],
   "id": "8acec788d5a89c2e",
   "outputs": [
    {
     "data": {
      "text/plain": [
       "array([0.3704 , 0.13956, 0.06473, 0.03361, 0.01906, 0.01199, 0.00799,\n",
       "       0.00589, 0.00481, 0.00463, 0.00414, 0.00349, 0.0042 , 0.00413,\n",
       "       0.00349, 0.00359, 0.00371, 0.00374, 0.00399, 0.00341, 0.00391,\n",
       "       0.00374, 0.00344, 0.00383, 0.00353, 0.00379, 0.004  , 0.0039 ,\n",
       "       0.00359, 0.00386, 0.00363, 0.00363, 0.00366, 0.00399, 0.00333,\n",
       "       0.00402, 0.00326, 0.00383, 0.00372, 0.00382, 0.00388, 0.00413,\n",
       "       0.00392, 0.00399, 0.00383, 0.00351, 0.00367, 0.00385, 0.00364,\n",
       "       0.00367, 0.00398, 0.00372, 0.00369, 0.00366, 0.00369, 0.00388,\n",
       "       0.0035 , 0.00386, 0.0034 , 0.0036 , 0.00364, 0.00374, 0.00373,\n",
       "       0.00374, 0.00364, 0.00397, 0.0035 , 0.0036 , 0.00401, 0.00397,\n",
       "       0.0038 , 0.0039 , 0.00382, 0.00383, 0.00316, 0.00393, 0.00414,\n",
       "       0.00389, 0.00394, 0.00379, 0.00371, 0.00363, 0.0038 , 0.00327,\n",
       "       0.00395, 0.00341, 0.00344, 0.00393, 0.00356, 0.0034 , 0.00376,\n",
       "       0.00389, 0.00396, 0.00369, 0.00382, 0.00366, 0.00396, 0.004  ,\n",
       "       0.00367, 0.00364])"
      ]
     },
     "execution_count": 5,
     "metadata": {},
     "output_type": "execute_result"
    }
   ],
   "execution_count": 5
  },
  {
   "metadata": {},
   "cell_type": "markdown",
   "source": "### P1",
   "id": "974e1cfb1fa9b870"
  },
  {
   "cell_type": "code",
   "source": [
    "hist = res\n",
    "edge = np.arange(1, 101)\n",
    "\n",
    "plt.figure(figsize=(10, 4))\n",
    "plt.scatter(edge, hist, s=11, color=\"k\", marker='o', zorder=4)\n",
    "plt.vlines(edge, ymax=hist, ymin=np.zeros(hist.size), color='k', alpha=0.8, linewidth=1)\n",
    "plt.xticks(np.linspace(1, 100, 11, dtype=int))\n",
    "\n",
    "plt.grid(alpha=0.5)\n",
    "\n",
    "plt.title(\"ToiletDistribution(100,37)\", fontsize=10)\n",
    "plt.xlabel(\"rank\", fontsize=12)\n",
    "plt.ylabel(\"p\", fontsize=12)\n",
    "plt.tight_layout(pad=0.2)\n",
    "\n",
    "plt.tight_layout(pad=0.2)\n",
    "plt.savefig(\"../drawings/p1.pdf\")"
   ],
   "metadata": {
    "collapsed": false,
    "ExecuteTime": {
     "end_time": "2024-11-24T19:40:02.187255Z",
     "start_time": "2024-11-24T19:39:59.911430Z"
    }
   },
   "id": "f941365ef08f642d",
   "outputs": [
    {
     "data": {
      "text/plain": [
       "<Figure size 1000x400 with 1 Axes>"
      ],
      "image/png": "[encoded data removed]"
     },
     "metadata": {},
     "output_type": "display_data"
    }
   ],
   "execution_count": 6
  },
  {
   "metadata": {},
   "cell_type": "markdown",
   "source": "### P2",
   "id": "c68822e9f5a5a2f1"
  },
  {
   "metadata": {
    "ExecuteTime": {
     "end_time": "2024-11-24T20:03:41.101335Z",
     "start_time": "2024-11-24T19:59:01.614334Z"
    }
   },
   "cell_type": "code",
   "source": [
    "n = 100\n",
    "N = 100_000\n",
    "np.random.seed(27)\n",
    "ks = np.arange(0, n)\n",
    "\n",
    "def ToiletDistributionMean(n, k, N):\n",
    "    res = ToiletDistribution(n, k, N, density=False)\n",
    "    res = res * np.arange(1, res.size+1)\n",
    "    return res.mean()\n",
    "\n",
    "f = np.vectorize(lambda x : ( ToiletDistributionMean(n, x, N=N) ))\n",
    "xs = f(ks)"
   ],
   "id": "e57b98cfad554567",
   "outputs": [],
   "execution_count": 10
  },
  {
   "metadata": {
    "ExecuteTime": {
     "end_time": "2024-11-24T21:02:08.846Z",
     "start_time": "2024-11-24T21:02:08.841920Z"
    }
   },
   "cell_type": "code",
   "source": [
    "n = np.argmin(xs)\n",
    "intersection = (n, xs[n].item())\n",
    "print(f'k = {intersection[0]}, mean rank = {intersection[1]}')"
   ],
   "id": "9ec88f6f4e7c9af6",
   "outputs": [
    {
     "name": "stdout",
     "output_type": "stream",
     "text": [
      "k = 9, mean rank = 9618.7\n"
     ]
    }
   ],
   "execution_count": 13
  },
  {
   "metadata": {
    "ExecuteTime": {
     "end_time": "2024-11-24T21:15:36.664285Z",
     "start_time": "2024-11-24T21:15:35.700792Z"
    }
   },
   "cell_type": "code",
   "source": [
    "hist = xs\n",
    "edge = np.arange(1, 101)\n",
    "\n",
    "plt.figure(figsize=(10, 4))\n",
    "plt.scatter(edge, hist, s=11, color=\"gray\", marker='o', zorder=4)\n",
    "plt.vlines(edge, ymax=hist, ymin=np.zeros(hist.size), color='gray', linewidth=1)\n",
    "plt.vlines(edge[intersection[0]-1], ymax=hist[intersection[0]], ymin=np.zeros(hist.size)[intersection[0]], color='k', linewidth=1)\n",
    "plt.xticks(np.linspace(1, 100, 11, dtype=int))\n",
    "\n",
    "\n",
    "plt.scatter(intersection[0], intersection[1], s=20, color='k', marker='o', zorder=100)\n",
    "plt.annotate(f\"$k={{{n}}}$\",(intersection[0]-2.25, intersection[1]+ 2000), fontsize=12)\n",
    "\n",
    "plt.grid(alpha=0.5)\n",
    "\n",
    "plt.title(\"Finding Optimal k\", fontsize=10)\n",
    "plt.xlabel(\"k\", fontsize=12)\n",
    "plt.ylabel(\"sum of mean ranks\", fontsize=12)\n",
    "plt.tight_layout(pad=0.2)\n",
    "\n",
    "plt.tight_layout(pad=0.2)\n",
    "plt.savefig(\"../drawings/p2.pdf\")"
   ],
   "id": "46f0bf91bf94cd98",
   "outputs": [
    {
     "data": {
      "text/plain": [
       "<Figure size 1000x400 with 1 Axes>"
      ],
      "image/png": "[encoded data removed]"
     },
     "metadata": {},
     "output_type": "display_data"
    }
   ],
   "execution_count": 50
  },
  {
   "metadata": {},
   "cell_type": "markdown",
   "source": "k=9 seems to yield the most optimal rank on average.",
   "id": "4e4d9d9061a09053"
  }
 ],
 "metadata": {
  "kernelspec": {
   "display_name": "Python 3",
   "language": "python",
   "name": "python3"
  },
  "language_info": {
   "codemirror_mode": {
    "name": "ipython",
    "version": 2
   },
   "file_extension": ".py",
   "mimetype": "text/x-python",
   "name": "python",
   "nbconvert_exporter": "python",
   "pygments_lexer": "ipython2",
   "version": "2.7.6"
  }
 },
 "nbformat": 4,
 "nbformat_minor": 5
}
