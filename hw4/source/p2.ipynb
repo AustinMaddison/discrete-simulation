{
 "cells": [
  {
   "cell_type": "markdown",
   "id": "9b0370462cadec96",
   "metadata": {
    "collapsed": false
   },
   "source": [
    "#### Discrete Simulation HW4\n",
    "#### Problem 2\n",
    "Authored: Austin Jetrin Maddison 6481268"
   ]
  },
  {
   "cell_type": "code",
   "execution_count": 266,
   "id": "initial_id",
   "metadata": {
    "ExecuteTime": {
     "end_time": "2024-11-09T14:20:20.006438Z",
     "start_time": "2024-11-09T14:20:19.928359Z"
    },
    "collapsed": true,
    "jupyter": {
     "outputs_hidden": true
    }
   },
   "outputs": [],
   "source": [
    "import math\n",
    "import os\n",
    "\n",
    "from prettytable import PrettyTable\n",
    "\n",
    "import matplotlib.pyplot as plt\n",
    "import numpy as np\n",
    "\n",
    "from my_settings import *"
   ]
  },
  {
   "cell_type": "code",
   "execution_count": 157,
   "id": "b17ab1c1ac8f5563",
   "metadata": {
    "ExecuteTime": {
     "end_time": "2024-11-09T13:46:35.411069Z",
     "start_time": "2024-11-09T13:46:35.405823Z"
    },
    "collapsed": false
   },
   "outputs": [],
   "source": [
    "def simulate_poisson_process(interval, lmd=2):\n",
    "    start, end = interval\n",
    "    count = 0\n",
    "    time = 0\n",
    "    \n",
    "    while time < end:\n",
    "        inter_arrival_time = np.random.exponential(1 / lmd)\n",
    "        time += inter_arrival_time\n",
    "        if start < time <= end:\n",
    "            count += 1\n",
    "    return count\n"
   ]
  },
  {
   "cell_type": "code",
   "execution_count": 221,
   "id": "144ed91774b4e1e1",
   "metadata": {
    "ExecuteTime": {
     "end_time": "2024-11-09T14:07:58.220561Z",
     "start_time": "2024-11-09T14:07:58.216093Z"
    },
    "collapsed": false
   },
   "outputs": [],
   "source": [
    "poisson = lambda lmd, t, k: ((lmd * t)**k * np.exp(-lmd * t)) / math.factorial(k)"
   ]
  },
  {
   "cell_type": "code",
   "execution_count": 115,
   "id": "d7e2ad627e8db008",
   "metadata": {
    "ExecuteTime": {
     "end_time": "2024-11-09T13:44:13.252272Z",
     "start_time": "2024-11-09T13:44:13.248399Z"
    },
    "collapsed": false
   },
   "outputs": [],
   "source": [
    "N = 100_000"
   ]
  },
  {
   "cell_type": "markdown",
   "id": "165467d191c2dac9",
   "metadata": {
    "collapsed": false
   },
   "source": [
    "a, b.)"
   ]
  },
  {
   "cell_type": "code",
   "outputs": [],
   "source": [
    "from reportlab.pdfgen import canvas\n",
    "from reportlab.lib.pagesizes import letter\n",
    "from reportlab.lib import colors"
   ],
   "metadata": {
    "collapsed": false,
    "ExecuteTime": {
     "end_time": "2024-11-10T06:14:18.903802Z",
     "start_time": "2024-11-10T06:14:18.822274Z"
    }
   },
   "id": "940bc42dac2aa0ac",
   "execution_count": 297
  },
  {
   "cell_type": "code",
   "execution_count": 304,
   "id": "79e7bba3ac8e9afd",
   "metadata": {
    "collapsed": false,
    "ExecuteTime": {
     "end_time": "2024-11-10T06:19:39.869682Z",
     "start_time": "2024-11-10T06:19:38.652640Z"
    }
   },
   "outputs": [
    {
     "name": "stdout",
     "output_type": "stream",
     "text": [
      "+---+--------------------+------------+---+----------+---------------------+------------------------+\n",
      "| Q | Method             | Lambda (λ) | k | Interval | Result              | Difference             |\n",
      "+---+--------------------+------------+---+----------+---------------------+------------------------+\n",
      "| a | Poisson Simulation | 2          | 2 | [0, 2)   | 0.14834             |                        |\n",
      "|   | Poisson Formula    | 2          | 2 | [0, 2)   | 0.14652511110987343 | 0.0018148888901265703  |\n",
      "| b | Poisson Simulation | 2          | 2 | [2, 4)   | 0.14606             |                        |\n",
      "|   | Poisson Formula    | 2          | 2 | [2, 4)   | 0.14652511110987343 | 0.00046511110987343396 |\n",
      "+---+--------------------+------------+---+----------+---------------------+------------------------+\n"
     ]
    }
   ],
   "source": [
    "table = PrettyTable()\n",
    "table.field_names = [\"Q\", \"Method\", \"Lambda (λ)\", \"k\", \"Interval\", \"Result\", \"Difference\"]\n",
    "\n",
    "table.align = 'l'\n",
    "\n",
    "for idx, interval in enumerate(intervals):\n",
    "    f = np.vectorize(lambda x: simulate_poisson_process(interval, lmd) == k)\n",
    "    \n",
    "    res = f(np.zeros(N)).mean()\n",
    "    theoretical_res = poisson(lmd, abs(interval[1] - interval[0]), k)\n",
    "    diff = abs(res - theoretical_res)\n",
    "\n",
    "    table.add_row([chr(ord(\"a\") + idx), \"Poisson Simulation\", lmd, k, f\"[{interval[0]}, {interval[1]})\", f\"{res}\", \"\"])\n",
    "    table.add_row([\"\", \"Poisson Formula\", lmd, k, f\"[{interval[0]}, {interval[1]})\", f\"{theoretical_res}\", f\"{diff}\"])\n",
    "    \n",
    "print(table)\n",
    "\n",
    "with open(\"table_data.csv\", \"w\", encoding=\"utf-8\") as file:\n",
    "    file.write(table.get_csv_string())"
   ]
  },
  {
   "cell_type": "markdown",
   "id": "2d517323ed823222",
   "metadata": {
    "collapsed": false
   },
   "source": [
    "c.) \n",
    "Notice that both simulations a and b have very similar results despite their intervals being different. This is due to the idea that both of their intervals have the same sized \"window\", the length of their intervals are the same. They effectivley have the equal chances in this scenario which is quite intuitive, reminds me of roulette wheels.\n",
    "\n",
    "Now comparing both simulations a and b to the poisson formula we can see that the formula seems to faithfully model the probability of the scenarios. This is really nice because computing the formula is way faster than iterativley computing the simulation."
   ]
  }
 ],
 "metadata": {
  "kernelspec": {
   "display_name": "Python 3 (ipykernel)",
   "language": "python",
   "name": "python3"
  },
  "language_info": {
   "codemirror_mode": {
    "name": "ipython",
    "version": 3
   },
   "file_extension": ".py",
   "mimetype": "text/x-python",
   "name": "python",
   "nbconvert_exporter": "python",
   "pygments_lexer": "ipython3",
   "version": "3.11.7"
  }
 },
 "nbformat": 4,
 "nbformat_minor": 5
}
