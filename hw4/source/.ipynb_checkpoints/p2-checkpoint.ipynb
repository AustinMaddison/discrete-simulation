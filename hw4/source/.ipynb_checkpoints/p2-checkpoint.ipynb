{
 "cells": [
  {
   "cell_type": "markdown",
   "source": [
    "#### Discrete Simulation HW4\n",
    "#### Problem 2\n",
    "Authored: Austin Jetrin Maddison 6481268"
   ],
   "metadata": {
    "collapsed": false
   },
   "id": "9b0370462cadec96"
  },
  {
   "cell_type": "code",
   "execution_count": 266,
   "id": "initial_id",
   "metadata": {
    "collapsed": true,
    "ExecuteTime": {
     "end_time": "2024-11-09T14:20:20.006438Z",
     "start_time": "2024-11-09T14:20:19.928359Z"
    }
   },
   "outputs": [],
   "source": [
    "import math\n",
    "from prettytable import PrettyTable\n",
    "\n",
    "import matplotlib.pyplot as plt\n",
    "import numpy as np\n",
    "\n",
    "from my_settings import *"
   ]
  },
  {
   "cell_type": "code",
   "outputs": [],
   "source": [
    "def simulate_poisson_process(interval, lmd=2):\n",
    "    start, end = interval\n",
    "    count = 0\n",
    "    time = 0\n",
    "    \n",
    "    while time < end:\n",
    "        inter_arrival_time = np.random.exponential(1 / lmd)\n",
    "        time += inter_arrival_time\n",
    "        if start < time <= end:\n",
    "            count += 1\n",
    "    return count\n"
   ],
   "metadata": {
    "collapsed": false,
    "ExecuteTime": {
     "end_time": "2024-11-09T13:46:35.411069Z",
     "start_time": "2024-11-09T13:46:35.405823Z"
    }
   },
   "id": "b17ab1c1ac8f5563",
   "execution_count": 157
  },
  {
   "cell_type": "code",
   "outputs": [],
   "source": [
    "poisson = lambda lmd, t, k: ((lmd * t)**k * np.exp(-lmd * t)) / math.factorial(k)"
   ],
   "metadata": {
    "collapsed": false,
    "ExecuteTime": {
     "end_time": "2024-11-09T14:07:58.220561Z",
     "start_time": "2024-11-09T14:07:58.216093Z"
    }
   },
   "id": "144ed91774b4e1e1",
   "execution_count": 221
  },
  {
   "cell_type": "code",
   "outputs": [],
   "source": [
    "N = 100_000"
   ],
   "metadata": {
    "collapsed": false,
    "ExecuteTime": {
     "end_time": "2024-11-09T13:44:13.252272Z",
     "start_time": "2024-11-09T13:44:13.248399Z"
    }
   },
   "id": "d7e2ad627e8db008",
   "execution_count": 115
  },
  {
   "cell_type": "markdown",
   "source": [
    "a, b.)"
   ],
   "metadata": {
    "collapsed": false
   },
   "id": "165467d191c2dac9"
  },
  {
   "cell_type": "code",
   "outputs": [],
   "source": [
    "intervals = [(0, 2), (2, 4)]\n",
    "lmd = 2\n",
    "k = 2"
   ],
   "metadata": {
    "collapsed": false,
    "ExecuteTime": {
     "end_time": "2024-11-09T13:56:43.479296Z",
     "start_time": "2024-11-09T13:56:43.475127Z"
    }
   },
   "id": "ec6c4bb3a909e916",
   "execution_count": 189
  },
  {
   "cell_type": "code",
   "outputs": [
    {
     "name": "stdout",
     "output_type": "stream",
     "text": [
      "+---+--------------------+------------+---+----------+---------------------+------------------------+\n",
      "| Q |       Method       | Lambda (λ) | k | Interval |        Result       |       Difference       |\n",
      "+---+--------------------+------------+---+----------+---------------------+------------------------+\n",
      "| a | Poisson Simulation |     2      | 2 |  [0, 2)  |       0.14669       |                        |\n",
      "|   |  Poisson Formula   |     2      | 2 |  [0, 2)  | 0.14652511110987343 | 0.00016488889012655772 |\n",
      "| b | Poisson Simulation |     2      | 2 |  [2, 4)  |       0.14775       |                        |\n",
      "|   |  Poisson Formula   |     2      | 2 |  [2, 4)  | 0.14652511110987343 |  0.001224888890126563  |\n",
      "+---+--------------------+------------+---+----------+---------------------+------------------------+\n"
     ]
    }
   ],
   "source": [
    "table = PrettyTable()\n",
    "table.field_names = [\"Q\", \"Method\", \"Lambda (λ)\", \"k\", \"Interval\", \"Result\", \"Difference\"]\n",
    "\n",
    "for idx, interval in enumerate(intervals):\n",
    "    f = np.vectorize(lambda x: simulate_poisson_process(interval, lmd) == k)\n",
    "    \n",
    "    res = f(np.zeros(N)).mean()\n",
    "    theoretical_res = poisson(lmd, abs(interval[1] - interval[0]), k)\n",
    "    diff = abs(res - theoretical_res)\n",
    "\n",
    "    table.add_row([chr(ord(\"a\") + idx), \"Poisson Simulation\", lmd, k, f\"[{interval[0]}, {interval[1]})\", f\"{res}\", \"\"])\n",
    "    table.add_row([\"\", \"Poisson Formula\", lmd, k, f\"[{interval[0]}, {interval[1]})\", f\"{theoretical_res}\", f\"{diff}\"])\n",
    "    \n",
    "print(table)"
   ],
   "metadata": {
    "collapsed": false,
    "ExecuteTime": {
     "end_time": "2024-11-10T05:10:45.257978Z",
     "start_time": "2024-11-10T05:10:44.191631Z"
    }
   },
   "id": "79e7bba3ac8e9afd",
   "execution_count": 291
  },
  {
   "cell_type": "markdown",
   "source": [
    "c.) \n",
    "Both simulations a and b show that indeed the poisson formula does faithfully model the probability of the scenario. This is really nice because computing the formula is way faster than iterativley computing the simulation.  "
   ],
   "metadata": {
    "collapsed": false
   },
   "id": "2d517323ed823222"
  }
 ],
 "metadata": {
  "kernelspec": {
   "display_name": "Python 3",
   "language": "python",
   "name": "python3"
  },
  "language_info": {
   "codemirror_mode": {
    "name": "ipython",
    "version": 2
   },
   "file_extension": ".py",
   "mimetype": "text/x-python",
   "name": "python",
   "nbconvert_exporter": "python",
   "pygments_lexer": "ipython2",
   "version": "2.7.6"
  }
 },
 "nbformat": 4,
 "nbformat_minor": 5
}
