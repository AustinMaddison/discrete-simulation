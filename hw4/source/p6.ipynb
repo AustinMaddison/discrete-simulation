{
 "cells": [
  {
   "cell_type": "markdown",
   "source": [
    "#### Discrete Simulation HW4\n",
    "#### Problem 6\n",
    "Authored: Austin Jetrin Maddison 6481268"
   ],
   "metadata": {
    "collapsed": false
   },
   "id": "9b0370462cadec96"
  },
  {
   "cell_type": "code",
   "execution_count": 213,
   "id": "initial_id",
   "metadata": {
    "collapsed": true,
    "ExecuteTime": {
     "end_time": "2024-11-11T09:40:14.311957Z",
     "start_time": "2024-11-11T09:40:14.308030Z"
    }
   },
   "outputs": [],
   "source": [
    "import math\n",
    "\n",
    "import matplotlib.pyplot as plt\n",
    "import numpy as np\n",
    "from prettytable import PrettyTable\n",
    "from my_settings import *"
   ]
  },
  {
   "cell_type": "markdown",
   "source": [
    "Code ported from handout pseudocode."
   ],
   "metadata": {
    "collapsed": false
   },
   "id": "572620de15e3315c"
  },
  {
   "cell_type": "code",
   "outputs": [],
   "source": [
    "def spooky_sim(iteration_max = 10_000, bus_max = 300, seed = 27, t = 163):\n",
    "    np.random.seed(seed)\n",
    "    \n",
    "    # progress data\n",
    "    avg_inter_time =  np.zeros(iteration_max)\n",
    "    spooky_time = np.zeros(iteration_max)\n",
    "    \n",
    "    for iter_idx in range(0, iteration_max):\n",
    "        bus_time = np.zeros(bus_max)\n",
    "        inter_time = np.zeros(bus_max-1)\n",
    "        \n",
    "        for sim_idx in range(1, bus_max):\n",
    "            u = np.random.ranf()\n",
    "            inter_time[sim_idx - 1] = -np.log(u)\n",
    "            bus_time[sim_idx] = bus_time[sim_idx - 1] + inter_time[sim_idx - 1]\n",
    "            \n",
    "        avg_inter_time[iter_idx] = inter_time.mean()\n",
    "        \n",
    "        a = np.argmax(bus_time > t)\n",
    "        spooky_time[iter_idx] = bus_time[a] - bus_time[a-1]\n",
    "        \n",
    "    return avg_inter_time, spooky_time"
   ],
   "metadata": {
    "collapsed": false,
    "ExecuteTime": {
     "end_time": "2024-11-11T09:40:14.356857Z",
     "start_time": "2024-11-11T09:40:14.326964Z"
    }
   },
   "id": "d548686f9582bd3e",
   "execution_count": 214
  },
  {
   "cell_type": "code",
   "outputs": [],
   "source": [
    "avg_inter_time, spooky_time = spooky_sim()"
   ],
   "metadata": {
    "collapsed": false,
    "ExecuteTime": {
     "end_time": "2024-11-11T09:40:19.519600Z",
     "start_time": "2024-11-11T09:40:14.365863Z"
    }
   },
   "id": "cdde5068284b7b6a",
   "execution_count": 215
  },
  {
   "cell_type": "code",
   "outputs": [
    {
     "data": {
      "text/plain": "array([0.91079088, 1.09820247, 0.99281021, ..., 1.00996421, 0.94980766,\n       1.14041555])"
     },
     "execution_count": 216,
     "metadata": {},
     "output_type": "execute_result"
    }
   ],
   "source": [
    "avg_inter_time"
   ],
   "metadata": {
    "collapsed": false,
    "ExecuteTime": {
     "end_time": "2024-11-11T09:40:19.527836Z",
     "start_time": "2024-11-11T09:40:19.521606Z"
    }
   },
   "id": "f248805c2ef9fae0",
   "execution_count": 216
  },
  {
   "cell_type": "code",
   "outputs": [
    {
     "data": {
      "text/plain": "array([0.40602169, 2.1720587 , 0.6973237 , ..., 1.71537095, 2.18844714,\n       3.97926872])"
     },
     "execution_count": 217,
     "metadata": {},
     "output_type": "execute_result"
    }
   ],
   "source": [
    "spooky_time"
   ],
   "metadata": {
    "collapsed": false,
    "ExecuteTime": {
     "end_time": "2024-11-11T09:40:19.581710Z",
     "start_time": "2024-11-11T09:40:19.529842Z"
    }
   },
   "id": "fd24c6e2b11162b3",
   "execution_count": 217
  },
  {
   "cell_type": "markdown",
   "source": [
    "6. i"
   ],
   "metadata": {
    "collapsed": false
   },
   "id": "4f3a9b668f4d39f"
  },
  {
   "cell_type": "code",
   "outputs": [
    {
     "name": "stdout",
     "output_type": "stream",
     "text": [
      "Average Interval-Time Mean: 0.999287450383942\n",
      "Average Interval-Time Var: 0.003348972072732149\n"
     ]
    }
   ],
   "source": [
    "print(f\"Average Interval-Time Mean:\", np.mean(avg_inter_time))\n",
    "print(f\"Average Interval-Time Var:\", np.var(avg_inter_time))"
   ],
   "metadata": {
    "collapsed": false,
    "ExecuteTime": {
     "end_time": "2024-11-11T09:40:19.629044Z",
     "start_time": "2024-11-11T09:40:19.583155Z"
    }
   },
   "id": "ec9db6af2a9b008a",
   "execution_count": 218
  },
  {
   "cell_type": "markdown",
   "source": [
    "6. ii"
   ],
   "metadata": {
    "collapsed": false
   },
   "id": "26fe3a9f3de8b3c2"
  },
  {
   "cell_type": "code",
   "outputs": [
    {
     "name": "stdout",
     "output_type": "stream",
     "text": [
      "Spooky Time Mean: 1.9929870517863757\n",
      "Spooky Time Var: 1.981517643804638\n"
     ]
    }
   ],
   "source": [
    "print(f\"Spooky Time Mean:\", np.mean(spooky_time))\n",
    "print(f\"Spooky Time Var:\", np.var(spooky_time))"
   ],
   "metadata": {
    "collapsed": false,
    "ExecuteTime": {
     "end_time": "2024-11-11T09:40:19.679188Z",
     "start_time": "2024-11-11T09:40:19.631050Z"
    }
   },
   "id": "57212bd9c2b42ea7",
   "execution_count": 219
  }
 ],
 "metadata": {
  "kernelspec": {
   "display_name": "Python 3",
   "language": "python",
   "name": "python3"
  },
  "language_info": {
   "codemirror_mode": {
    "name": "ipython",
    "version": 2
   },
   "file_extension": ".py",
   "mimetype": "text/x-python",
   "name": "python",
   "nbconvert_exporter": "python",
   "pygments_lexer": "ipython2",
   "version": "2.7.6"
  }
 },
 "nbformat": 4,
 "nbformat_minor": 5
}
