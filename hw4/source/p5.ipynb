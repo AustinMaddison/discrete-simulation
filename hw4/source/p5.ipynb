{
 "cells": [
  {
   "cell_type": "markdown",
   "id": "9b0370462cadec96",
   "metadata": {
    "collapsed": false
   },
   "source": [
    "#### Discrete Simulation HW4\n",
    "#### Problem 5\n",
    "Authored: Austin Jetrin Maddison 6481268"
   ]
  },
  {
   "cell_type": "code",
   "execution_count": 41,
   "id": "initial_id",
   "metadata": {
    "collapsed": true,
    "jupyter": {
     "outputs_hidden": true
    },
    "ExecuteTime": {
     "end_time": "2024-11-10T08:37:14.248888Z",
     "start_time": "2024-11-10T08:37:13.584079Z"
    }
   },
   "outputs": [],
   "source": [
    "import math\n",
    "import os\n",
    "\n",
    "from prettytable import PrettyTable\n",
    "\n",
    "import matplotlib.pyplot as plt\n",
    "import numpy as np\n",
    "\n",
    "from my_settings import *"
   ]
  },
  {
   "cell_type": "code",
   "outputs": [],
   "source": [
    "outcomes = [0, 0, 0, 1, 0, 0, 1, 1, 1, 1, 1, 0, 1, 0, 1, 1, 1, 0]\n",
    "\n",
    "# Ajarn pros\n",
    "outcomes_pro = [int(x) for x in list('011110000110000')]"
   ],
   "metadata": {
    "collapsed": false,
    "ExecuteTime": {
     "end_time": "2024-11-10T08:40:19.307409Z",
     "start_time": "2024-11-10T08:40:19.302974Z"
    }
   },
   "id": "36b5b4d71c8b9587",
   "execution_count": 53
  },
  {
   "cell_type": "code",
   "outputs": [],
   "source": [
    "def f(xs):\n",
    "    res = 0\n",
    "    for i, x in enumerate(xs + [1] ):\n",
    "        term = x/(2**(i+1))\n",
    "        # print(term)\n",
    "        res += term\n",
    "    return res"
   ],
   "metadata": {
    "collapsed": false
   },
   "id": "840bb1499c2fc7c6",
   "execution_count": null
  },
  {
   "cell_type": "code",
   "outputs": [],
   "source": [
    "print(\"Pro's\")\n",
    "print('u =', f(outcomes_pro))\n",
    "print('x ≈', round(-np.log(f(outcomes_pro)), 6) )\n",
    "print()"
   ],
   "metadata": {
    "collapsed": false
   },
   "id": "2e2569fd776be1da",
   "execution_count": null
  },
  {
   "cell_type": "code",
   "outputs": [
    {
     "name": "stdout",
     "output_type": "stream",
     "text": [
      "Pro's\n",
      "u = 0.4702301025390625\n",
      "x ≈ 0.754533\n",
      "\n",
      "Mine\n",
      "u = 0.07781410217285156\n",
      "x ≈ 2.553433\n"
     ]
    }
   ],
   "source": [
    "print('Mine')\n",
    "print('u =', f(outcomes))\n",
    "print('x ≈', round(-np.log(f(outcomes)), 6) )"
   ],
   "metadata": {
    "collapsed": false,
    "ExecuteTime": {
     "end_time": "2024-11-10T08:43:24.737598Z",
     "start_time": "2024-11-10T08:43:24.732710Z"
    }
   },
   "id": "cc9726d13d6056e5",
   "execution_count": 63
  }
 ],
 "metadata": {
  "kernelspec": {
   "display_name": "Python 3 (ipykernel)",
   "language": "python",
   "name": "python3"
  },
  "language_info": {
   "codemirror_mode": {
    "name": "ipython",
    "version": 3
   },
   "file_extension": ".py",
   "mimetype": "text/x-python",
   "name": "python",
   "nbconvert_exporter": "python",
   "pygments_lexer": "ipython3",
   "version": "3.11.7"
  }
 },
 "nbformat": 4,
 "nbformat_minor": 5
}
