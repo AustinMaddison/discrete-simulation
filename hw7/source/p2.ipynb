{
 "cells": [
  {
   "cell_type": "markdown",
   "source": [
    "#### Discrete Simulation HW7\n",
    "#### Problem 2\n",
    "Authored: Austin Jetrin Maddison 6481268"
   ],
   "metadata": {
    "collapsed": false
   },
   "id": "9b0370462cadec96"
  },
  {
   "cell_type": "code",
   "id": "initial_id",
   "metadata": {
    "collapsed": true,
    "ExecuteTime": {
     "end_time": "2024-12-15T17:58:01.680836Z",
     "start_time": "2024-12-15T17:57:59.406534Z"
    }
   },
   "source": [
    "import matplotlib.pyplot as plt\n",
    "import numpy as np\n",
    "from Demos.mmapfile_demo import offset\n",
    "from sympy.physics.control.control_plots import matplotlib\n",
    "\n",
    "from my_settings import *\n",
    "from tabulate import tabulate"
   ],
   "outputs": [],
   "execution_count": 2
  },
  {
   "metadata": {},
   "cell_type": "markdown",
   "source": "",
   "id": "b41102592d552a9c"
  },
  {
   "metadata": {
    "ExecuteTime": {
     "end_time": "2024-12-15T18:31:40.745859Z",
     "start_time": "2024-12-15T18:31:40.739494Z"
    }
   },
   "cell_type": "code",
   "source": [
    "def calc_xray(n):\n",
    "    sorted = np.arange(n) + 1\n",
    "    perm = np.random.permutation(sorted)\n",
    "    M = np.zeros((n,n), dtype=int)\n",
    "    M[sorted-1, perm-1] = 1\n",
    "\n",
    "    xray = np.zeros(n*2-1, dtype=int)\n",
    "    for idx, i in enumerate(np.arange(n*2-1) - n+1):\n",
    "        xray[idx] = np.diagonal(np.flipud(M), offset=i).sum()\n",
    "\n",
    "    return xray\n"
   ],
   "id": "98bf80a0fd013387",
   "outputs": [],
   "execution_count": 72
  },
  {
   "metadata": {
    "ExecuteTime": {
     "end_time": "2024-12-15T19:52:56.442702Z",
     "start_time": "2024-12-15T19:52:56.434615Z"
    }
   },
   "cell_type": "code",
   "source": [
    "np.random.seed(27)\n",
    "calc_xray(6)"
   ],
   "id": "6fcb70a323a0c0cd",
   "outputs": [
    {
     "data": {
      "text/plain": [
       "array([0, 1, 0, 1, 1, 0, 0, 2, 1, 0, 0])"
      ]
     },
     "execution_count": 80,
     "metadata": {},
     "output_type": "execute_result"
    }
   ],
   "execution_count": 80
  },
  {
   "metadata": {
    "ExecuteTime": {
     "end_time": "2024-12-15T20:20:10.549279Z",
     "start_time": "2024-12-15T20:20:10.542855Z"
    }
   },
   "cell_type": "code",
   "source": [
    "N = 100_000\n",
    "ns = np.arange(2,10)\n",
    "ns_N = np.tile(ns, (N,1))\n",
    "f = np.vectorize(lambda n: calc_xray(n)[n] == n-2)"
   ],
   "id": "154ca2eadea19986",
   "outputs": [],
   "execution_count": 146
  },
  {
   "metadata": {},
   "cell_type": "code",
   "source": "res = f(ns_N)",
   "id": "9f393254a36c54b9",
   "outputs": [],
   "execution_count": null
  },
  {
   "metadata": {
    "ExecuteTime": {
     "end_time": "2024-12-15T20:21:29.246620Z",
     "start_time": "2024-12-15T20:21:29.087934Z"
    }
   },
   "cell_type": "code",
   "source": [
    "np.set_printoptions(suppress=True, precision=5)\n",
    "plt.plot(ns, np.mean(res, axis=0), color='k')\n",
    "\n",
    "table = [[\"n\"] + ns.tolist(), [\"P(xray=n-1)\"] + np.mean(res, axis=0).tolist()]\n",
    "print(tabulate(table, headers=\"firstrow\", tablefmt=\"pretty\"))"
   ],
   "id": "52188783ef4369cc",
   "outputs": [
    {
     "name": "stdout",
     "output_type": "stream",
     "text": [
      "+-------------+---------+--------+---------+---------+---------+---------+---------+-------+\n",
      "|      n      |    2    |   3    |    4    |    5    |    6    |    7    |    8    |   9   |\n",
      "+-------------+---------+--------+---------+---------+---------+---------+---------+-------+\n",
      "| P(xray=n-1) | 0.49887 | 0.3314 | 0.12403 | 0.03251 | 0.00749 | 0.00125 | 0.00024 | 5e-05 |\n",
      "+-------------+---------+--------+---------+---------+---------+---------+---------+-------+\n"
     ]
    },
    {
     "data": {
      "text/plain": [
       "<Figure size 640x480 with 1 Axes>"
      ],
      "image/png": "[encoded data removed]"
     },
     "metadata": {},
     "output_type": "display_data"
    }
   ],
   "execution_count": 148
  }
 ],
 "metadata": {
  "kernelspec": {
   "display_name": "Python 3",
   "language": "python",
   "name": "python3"
  },
  "language_info": {
   "codemirror_mode": {
    "name": "ipython",
    "version": 2
   },
   "file_extension": ".py",
   "mimetype": "text/x-python",
   "name": "python",
   "nbconvert_exporter": "python",
   "pygments_lexer": "ipython2",
   "version": "2.7.6"
  }
 },
 "nbformat": 4,
 "nbformat_minor": 5
}
