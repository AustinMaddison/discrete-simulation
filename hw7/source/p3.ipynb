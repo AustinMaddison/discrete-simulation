{
 "cells": [
  {
   "cell_type": "markdown",
   "source": [
    "#### Discrete Simulation HW7\n",
    "#### Problem 3\n",
    "Authored: Austin Jetrin Maddison 6481268"
   ],
   "metadata": {
    "collapsed": false
   },
   "id": "9b0370462cadec96"
  },
  {
   "cell_type": "code",
   "id": "initial_id",
   "metadata": {
    "collapsed": true,
    "ExecuteTime": {
     "end_time": "2024-12-14T22:43:35.917280Z",
     "start_time": "2024-12-14T22:43:33.992178Z"
    }
   },
   "source": [
    "import matplotlib.pyplot as plt\n",
    "import numpy as np\n",
    "from dask.array.chunk import argmin\n",
    "from sympy.physics.control.control_plots import matplotlib\n",
    "\n",
    "from my_settings import *"
   ],
   "outputs": [],
   "execution_count": 1
  },
  {
   "metadata": {},
   "cell_type": "markdown",
   "source": "",
   "id": "b41102592d552a9c"
  },
  {
   "metadata": {
    "ExecuteTime": {
     "end_time": "2024-12-15T20:27:23.628503Z",
     "start_time": "2024-12-15T20:27:21.220603Z"
    }
   },
   "cell_type": "code",
   "source": "from my_settings import *",
   "id": "a74631e09bed1b58",
   "outputs": [],
   "execution_count": 2
  },
  {
   "metadata": {
    "ExecuteTime": {
     "end_time": "2024-12-15T20:45:11.655758Z",
     "start_time": "2024-12-15T20:45:11.648757Z"
    }
   },
   "cell_type": "code",
   "source": [
    "def guessX(N=100_000):\n",
    "\n",
    "    def coupon(n):\n",
    "        ps = (np.arange(n) + 1) / 28\n",
    "        roulette_wheel = ps.cumsum() / ps.sum()\n",
    "        sets = np.zeros(n, dtype=int)\n",
    "\n",
    "        while np.count_nonzero(sets) != n:\n",
    "\n",
    "            random_coupon = np.searchsorted(roulette_wheel, np.random.uniform())\n",
    "            sets[random_coupon] += 1\n",
    "\n",
    "        return sets.sum()\n",
    "\n",
    "    f = np.vectorize(lambda x: coupon(7))\n",
    "    return f(np.zeros(N)).mean()"
   ],
   "id": "80ea58e2681ebbb4",
   "outputs": [],
   "execution_count": 146
  },
  {
   "metadata": {
    "ExecuteTime": {
     "end_time": "2024-12-15T20:47:27.254655Z",
     "start_time": "2024-12-15T20:47:04.297496Z"
    }
   },
   "cell_type": "code",
   "source": [
    "np.random.seed(27)\n",
    "print(\"X=\", guessX())"
   ],
   "id": "b3e293bf71cfcea",
   "outputs": [
    {
     "name": "stdout",
     "output_type": "stream",
     "text": [
      "X= 35.04573\n"
     ]
    }
   ],
   "execution_count": 151
  },
  {
   "metadata": {},
   "cell_type": "markdown",
   "source": "Looks like you might need to open 35 boxes on average to get all 7 coupons.",
   "id": "a7fc4575527ee843"
  }
 ],
 "metadata": {
  "kernelspec": {
   "display_name": "Python 3",
   "language": "python",
   "name": "python3"
  },
  "language_info": {
   "codemirror_mode": {
    "name": "ipython",
    "version": 2
   },
   "file_extension": ".py",
   "mimetype": "text/x-python",
   "name": "python",
   "nbconvert_exporter": "python",
   "pygments_lexer": "ipython2",
   "version": "2.7.6"
  }
 },
 "nbformat": 4,
 "nbformat_minor": 5
}
