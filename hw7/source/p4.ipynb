{
 "cells": [
  {
   "cell_type": "markdown",
   "source": [
    "#### Discrete Simulation HW7\n",
    "#### Problem 3\n",
    "Authored: Austin Jetrin Maddison 6481268"
   ],
   "metadata": {
    "collapsed": false
   },
   "id": "9b0370462cadec96"
  },
  {
   "cell_type": "code",
   "id": "initial_id",
   "metadata": {
    "collapsed": true,
    "ExecuteTime": {
     "end_time": "2024-12-14T22:43:35.917280Z",
     "start_time": "2024-12-14T22:43:33.992178Z"
    }
   },
   "source": [
    "import matplotlib.pyplot as plt\n",
    "import numpy as np\n",
    "from dask.array.chunk import argmin\n",
    "from sympy.physics.control.control_plots import matplotlib\n",
    "\n",
    "from my_settings import *"
   ],
   "outputs": [],
   "execution_count": 1
  },
  {
   "metadata": {},
   "cell_type": "markdown",
   "source": "",
   "id": "b41102592d552a9c"
  },
  {
   "metadata": {
    "ExecuteTime": {
     "end_time": "2024-12-15T20:57:56.695853Z",
     "start_time": "2024-12-15T20:57:54.965884Z"
    }
   },
   "cell_type": "code",
   "source": "from my_settings import *",
   "id": "a74631e09bed1b58",
   "outputs": [],
   "execution_count": 4
  },
  {
   "metadata": {
    "ExecuteTime": {
     "end_time": "2024-12-15T21:04:53.613365Z",
     "start_time": "2024-12-15T21:04:52.287602Z"
    }
   },
   "cell_type": "code",
   "source": [
    "n= 693\n",
    "p= 0.001\n",
    "N = 100_000\n",
    "samples =  np.count_nonzero(np.random.exponential(1, size=(n, N)) < p, axis=0)\n",
    "p_atleast_ones = (samples>= 1).mean()\n",
    "p_atleast_ones"
   ],
   "id": "799fd0e8c63389bd",
   "outputs": [
    {
     "data": {
      "text/plain": [
       "0.5001"
      ]
     },
     "execution_count": 44,
     "metadata": {},
     "output_type": "execute_result"
    }
   ],
   "execution_count": 44
  },
  {
   "metadata": {
    "ExecuteTime": {
     "end_time": "2024-12-15T21:04:59.915340Z",
     "start_time": "2024-12-15T21:04:59.910264Z"
    }
   },
   "cell_type": "code",
   "source": [
    "#a\n",
    "print(f'{p_atleast_ones * 100:.0f}%')"
   ],
   "id": "80ea58e2681ebbb4",
   "outputs": [
    {
     "name": "stdout",
     "output_type": "stream",
     "text": [
      "50%\n"
     ]
    }
   ],
   "execution_count": 45
  },
  {
   "metadata": {
    "ExecuteTime": {
     "end_time": "2024-12-15T20:47:27.254655Z",
     "start_time": "2024-12-15T20:47:04.297496Z"
    }
   },
   "cell_type": "code",
   "source": "",
   "id": "b3e293bf71cfcea",
   "outputs": [
    {
     "name": "stdout",
     "output_type": "stream",
     "text": [
      "X= 35.04573\n"
     ]
    }
   ],
   "execution_count": 151
  },
  {
   "metadata": {},
   "cell_type": "markdown",
   "source": "Looks like you might need to open 35 boxes on average to get all 7 coupons.",
   "id": "a7fc4575527ee843"
  }
 ],
 "metadata": {
  "kernelspec": {
   "display_name": "Python 3",
   "language": "python",
   "name": "python3"
  },
  "language_info": {
   "codemirror_mode": {
    "name": "ipython",
    "version": 2
   },
   "file_extension": ".py",
   "mimetype": "text/x-python",
   "name": "python",
   "nbconvert_exporter": "python",
   "pygments_lexer": "ipython2",
   "version": "2.7.6"
  }
 },
 "nbformat": 4,
 "nbformat_minor": 5
}
