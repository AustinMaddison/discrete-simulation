{
 "cells": [
  {
   "cell_type": "markdown",
   "source": [
    "#### Discrete Simulation HW7\n",
    "#### Problem 1\n",
    "Authored: Austin Jetrin Maddison 6481268"
   ],
   "metadata": {
    "collapsed": false
   },
   "id": "9b0370462cadec96"
  },
  {
   "cell_type": "code",
   "id": "initial_id",
   "metadata": {
    "collapsed": true,
    "ExecuteTime": {
     "end_time": "2024-12-15T16:46:52.200094Z",
     "start_time": "2024-12-15T16:46:52.004472Z"
    }
   },
   "source": [
    "import matplotlib.pyplot as plt\n",
    "import numpy as np\n",
    "from duckdb.duckdb import dtype\n",
    "\n",
    "from my_settings import *"
   ],
   "outputs": [],
   "execution_count": 164
  },
  {
   "metadata": {},
   "cell_type": "markdown",
   "source": "a.)",
   "id": "b41102592d552a9c"
  },
  {
   "metadata": {
    "ExecuteTime": {
     "end_time": "2024-12-15T16:46:52.209614Z",
     "start_time": "2024-12-15T16:46:52.204615Z"
    }
   },
   "cell_type": "code",
   "source": [
    "def walk(n=12):\n",
    "    spots = np.zeros(n, dtype=bool)\n",
    "    enough_sets_exist = lambda x: np.count_nonzero(x) == n\n",
    "\n",
    "    positions = [0]\n",
    "    while not enough_sets_exist(spots):\n",
    "        positions += [(positions[-1] + (2 * (np.random.randint(0, 2)) - 1)) % n ]\n",
    "        spots[positions[-1]] = True\n",
    "\n",
    "    return positions"
   ],
   "id": "e82227b68b3dc42f",
   "outputs": [],
   "execution_count": 165
  },
  {
   "metadata": {
    "ExecuteTime": {
     "end_time": "2024-12-15T17:02:51.399212Z",
     "start_time": "2024-12-15T17:02:51.394148Z"
    }
   },
   "cell_type": "code",
   "source": [
    "# a\n",
    "res = walk(12)\n",
    "print(\"Walk Positions\", res)\n",
    "print(\"Second Last Spot\", res[-2])"
   ],
   "id": "da00712935a2188e",
   "outputs": [
    {
     "name": "stdout",
     "output_type": "stream",
     "text": [
      "Walk Positions [0, 11, 0, 1, 0, 1, 2, 1, 2, 3, 2, 3, 4, 5, 6, 5, 4, 5, 4, 5, 6, 5, 4, 3, 2, 1, 2, 1, 2, 1, 2, 1, 0, 1, 0, 11, 10, 9, 10, 11, 10, 9, 8, 9, 8, 7]\n",
      "Second Last Spot 8\n"
     ]
    }
   ],
   "execution_count": 172
  },
  {
   "metadata": {
    "ExecuteTime": {
     "end_time": "2024-12-15T16:47:11.841737Z",
     "start_time": "2024-12-15T16:46:52.250628Z"
    }
   },
   "cell_type": "code",
   "source": [
    "f = np.vectorize(lambda x: walk(12)[-2])\n",
    "N=100_000\n",
    "res_2nd_to_last = f(np.zeros(N, dtype=int))"
   ],
   "id": "5b6ac83f2973234b",
   "outputs": [],
   "execution_count": 167
  },
  {
   "metadata": {
    "ExecuteTime": {
     "end_time": "2024-12-15T16:47:12.446649Z",
     "start_time": "2024-12-15T16:47:11.852539Z"
    }
   },
   "cell_type": "code",
   "source": [
    "hist, edge = np.histogram(res_2nd_to_last, bins=np.arange(0, 12+1, 1, dtype=int), density=True)\n",
    "print(hist, edge)\n",
    "\n",
    "plt.figure(figsize=(6, 4))\n",
    "plt.scatter(edge[1:-1], hist[1:], s=15, color=\"k\", marker='o', zorder=4)\n",
    "plt.vlines(edge[1:-1], ymax=hist[1:], ymin=np.zeros(hist.size-1), color='k', alpha=0.8)\n",
    "\n",
    "\n",
    "plt.xticks(np.arange(1, 12, 1, dtype=int))\n",
    "# plt.yticks(np.arange(0, 1.1, 0.05, dtype=float))\n",
    "# plt.xlim(0.5, 9.5)\n",
    "# plt.ylim(0, 0.25)\n",
    "plt.grid()\n",
    "plt.title(\"Distribution of Second-To-Last Number\", fontsize=10)\n",
    "plt.xlabel(\"$n$\", fontsize=12)\n",
    "plt.ylabel(\"$p$\", fontsize=12)\n",
    "plt.savefig(\"../drawings/p1.pdf\")"
   ],
   "id": "5d0a92eeeec65cca",
   "outputs": [
    {
     "name": "stdout",
     "output_type": "stream",
     "text": [
      "[0.01535 0.06105 0.06116 0.10444 0.10394 0.10653 0.10609 0.10421 0.10821\n",
      " 0.10736 0.06076 0.0609 ] [ 0  1  2  3  4  5  6  7  8  9 10 11 12]\n"
     ]
    },
    {
     "data": {
      "text/plain": [
       "<Figure size 600x400 with 1 Axes>"
      ],
      "image/png": "[encoded data removed]"
     },
     "metadata": {},
     "output_type": "display_data"
    }
   ],
   "execution_count": 168
  },
  {
   "metadata": {},
   "cell_type": "markdown",
   "source": "b.)",
   "id": "60a3b0a53809cb3d"
  },
  {
   "metadata": {
    "ExecuteTime": {
     "end_time": "2024-12-15T16:47:31.736677Z",
     "start_time": "2024-12-15T16:47:12.471646Z"
    }
   },
   "cell_type": "code",
   "source": [
    "f = np.vectorize(lambda x: walk(12)[-1])\n",
    "N=100_000\n",
    "res_1st_to_last = f(np.zeros(N, dtype=int))"
   ],
   "id": "ffc1b5bee5fef445",
   "outputs": [],
   "execution_count": 169
  },
  {
   "metadata": {
    "ExecuteTime": {
     "end_time": "2024-12-15T16:47:32.402442Z",
     "start_time": "2024-12-15T16:47:31.750357Z"
    }
   },
   "cell_type": "code",
   "source": [
    "hist, edge = np.histogram(res_1st_to_last, bins=np.arange(0, 12+1, 1, dtype=int), density=True)\n",
    "print(hist, edge)\n",
    "\n",
    "plt.figure(figsize=(6, 4))\n",
    "plt.scatter(edge[1:-1], hist[1:], s=15, color=\"k\", marker='o', zorder=4)\n",
    "plt.vlines(edge[1:-1], ymax=hist[1:], ymin=np.zeros(hist.size-1), color='k', alpha=0.8)\n",
    "\n",
    "\n",
    "plt.xticks(np.arange(1, 12, 1, dtype=int))\n",
    "plt.grid()\n",
    "plt.title(\"Distribution of First-To-Last Number\", fontsize=10)\n",
    "plt.xlabel(\"$n$\", fontsize=12)\n",
    "plt.ylabel(\"$p$\", fontsize=12)\n",
    "plt.savefig(\"../drawings/p1.pdf\")"
   ],
   "id": "adc3f97255943fdf",
   "outputs": [
    {
     "name": "stdout",
     "output_type": "stream",
     "text": [
      "[0.09081 0.04632 0.09233 0.09038 0.09209 0.08985 0.08954 0.09122 0.09085\n",
      " 0.09011 0.09145 0.04505] [ 0  1  2  3  4  5  6  7  8  9 10 11 12]\n"
     ]
    },
    {
     "data": {
      "text/plain": [
       "<Figure size 600x400 with 1 Axes>"
      ],
      "image/png": "[encoded data removed]"
     },
     "metadata": {},
     "output_type": "display_data"
    }
   ],
   "execution_count": 170
  },
  {
   "metadata": {},
   "cell_type": "markdown",
   "source": "b) As we know from class, all positions excluding the starting position is equally as likely to be k. This works because the walk is circular meaning visiting all points is possible from both directions. Now the modified program where k is the second-to-last shows more concentration on the center. This makes sense as we are not counting the ends, thus more weight is given to the other positions hence the higher concentration.",
   "id": "b43e2eac7538dadb"
  }
 ],
 "metadata": {
  "kernelspec": {
   "display_name": "Python 3",
   "language": "python",
   "name": "python3"
  },
  "language_info": {
   "codemirror_mode": {
    "name": "ipython",
    "version": 2
   },
   "file_extension": ".py",
   "mimetype": "text/x-python",
   "name": "python",
   "nbconvert_exporter": "python",
   "pygments_lexer": "ipython2",
   "version": "2.7.6"
  }
 },
 "nbformat": 4,
 "nbformat_minor": 5
}
