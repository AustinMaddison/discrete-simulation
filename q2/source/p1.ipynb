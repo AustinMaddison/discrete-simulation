{
 "cells": [
  {
   "cell_type": "markdown",
   "source": [
    "#### Quiz 2 Problem 1 \n",
    "Authored: Austin Jetrin Maddison 6481268"
   ],
   "metadata": {
    "collapsed": false
   },
   "id": "9b0370462cadec96"
  },
  {
   "cell_type": "code",
   "execution_count": 1,
   "id": "initial_id",
   "metadata": {
    "collapsed": true,
    "ExecuteTime": {
     "end_time": "2024-11-17T11:29:41.426033Z",
     "start_time": "2024-11-17T11:29:39.703693Z"
    }
   },
   "outputs": [],
   "source": [
    "import matplotlib.pyplot as plt\n",
    "import numpy as np\n",
    "import pandas as pd\n",
    "\n",
    "from my_settings import *\n",
    "import pandas as pd"
   ]
  },
  {
   "cell_type": "code",
   "outputs": [],
   "source": [
    "def coin_tosses(tosses=2):\n",
    "    \n",
    "    p_h = 0.75\n",
    "    p_t = 1 - p_h\n",
    "    x = np.random.ranf(tosses)\n",
    "    heads = np.sum( x < p_h)\n",
    "     \n",
    "    return heads"
   ],
   "metadata": {
    "collapsed": false,
    "ExecuteTime": {
     "end_time": "2024-11-17T11:29:41.432019Z",
     "start_time": "2024-11-17T11:29:41.428048Z"
    }
   },
   "id": "d88df12ceb50bcb6",
   "execution_count": 2
  },
  {
   "cell_type": "code",
   "outputs": [],
   "source": [
    "f = np.vectorize(lambda x : coin_tosses())\n",
    "res = f(np.zeros(10_000, dtype=np.int8))"
   ],
   "metadata": {
    "collapsed": false,
    "ExecuteTime": {
     "end_time": "2024-11-17T11:29:41.514678Z",
     "start_time": "2024-11-17T11:29:41.433026Z"
    }
   },
   "id": "717bfba8565dd21c",
   "execution_count": 3
  },
  {
   "cell_type": "code",
   "outputs": [
    {
     "data": {
      "text/plain": "array([1, 2, 1, ..., 2, 2, 1])"
     },
     "execution_count": 4,
     "metadata": {},
     "output_type": "execute_result"
    }
   ],
   "source": [
    "res"
   ],
   "metadata": {
    "collapsed": false,
    "ExecuteTime": {
     "end_time": "2024-11-17T11:29:41.524661Z",
     "start_time": "2024-11-17T11:29:41.515693Z"
    }
   },
   "id": "acc40db3d1b7168d",
   "execution_count": 4
  },
  {
   "cell_type": "code",
   "outputs": [
    {
     "name": "stdout",
     "output_type": "stream",
     "text": [
      "Mean = 1.5064\n",
      "Var = 0.36895904000000007\n",
      "Var = 0.6074199865002797\n"
     ]
    }
   ],
   "source": [
    "print(f'Mean = {res.mean()}')\n",
    "print(f'Var = {res.var()}')\n",
    "print(f'Std = {res.std()}')"
   ],
   "metadata": {
    "collapsed": false,
    "ExecuteTime": {
     "end_time": "2024-11-17T11:29:41.564539Z",
     "start_time": "2024-11-17T11:29:41.526666Z"
    }
   },
   "id": "77c2cbe3213f99f9",
   "execution_count": 5
  },
  {
   "cell_type": "code",
   "outputs": [
    {
     "data": {
      "text/plain": "(array([ 625.,    0.,    0.,    0.,    0., 3719.,    0.,    0.,    0.,\n        5656.]),\n array([0. , 0.2, 0.4, 0.6, 0.8, 1. , 1.2, 1.4, 1.6, 1.8, 2. ]),\n <BarContainer object of 10 artists>)"
     },
     "execution_count": 66,
     "metadata": {},
     "output_type": "execute_result"
    },
    {
     "data": {
      "text/plain": "<Figure size 640x480 with 1 Axes>",
      "image/png": "[encoded data removed]"
     },
     "metadata": {},
     "output_type": "display_data"
    }
   ],
   "source": [
    "plt.hist(res)"
   ],
   "metadata": {
    "collapsed": false,
    "ExecuteTime": {
     "end_time": "2024-11-14T02:31:29.689106Z",
     "start_time": "2024-11-14T02:31:28.275854Z"
    }
   },
   "id": "b17ab1c1ac8f5563",
   "execution_count": 66
  },
  {
   "cell_type": "code",
   "outputs": [],
   "source": [
    "calc_x_bar = np.vectorize(lambda x : f(np.zeros(25, dtype=np.int8)).mean())"
   ],
   "metadata": {
    "collapsed": false,
    "ExecuteTime": {
     "end_time": "2024-11-17T11:56:19.619821Z",
     "start_time": "2024-11-17T11:56:19.616001Z"
    }
   },
   "id": "20f22661932d0753",
   "execution_count": 21
  },
  {
   "cell_type": "code",
   "outputs": [
    {
     "data": {
      "text/plain": "array([1.44, 1.44, 1.4 , ..., 1.52, 1.52, 1.56])"
     },
     "execution_count": 25,
     "metadata": {},
     "output_type": "execute_result"
    }
   ],
   "source": [
    "x_bars = calc_x_bar(np.zeros(10_000))\n",
    "x_bars"
   ],
   "metadata": {
    "collapsed": false,
    "ExecuteTime": {
     "end_time": "2024-11-17T12:01:11.203118Z",
     "start_time": "2024-11-17T12:01:09.457856Z"
    }
   },
   "id": "dbcde2e5f1610de0",
   "execution_count": 25
  },
  {
   "cell_type": "code",
   "outputs": [
    {
     "name": "stdout",
     "output_type": "stream",
     "text": [
      "Mean = 1.499932\n",
      "Var = 0.015156795376000003\n",
      "Std = 0.12311293748424657\n"
     ]
    }
   ],
   "source": [
    "np.random.seed(27)\n",
    "print(f'Mean = {x_bars.mean()}')\n",
    "print(f'Var = {x_bars.var()}')\n",
    "print(f'Std = {x_bars.std()}')"
   ],
   "metadata": {
    "collapsed": false,
    "ExecuteTime": {
     "end_time": "2024-11-17T12:08:14.276089Z",
     "start_time": "2024-11-17T12:08:14.269684Z"
    }
   },
   "id": "c3279fdee84c96d4",
   "execution_count": 35
  },
  {
   "cell_type": "code",
   "outputs": [
    {
     "data": {
      "text/plain": "(array([2.17391304e-03, 3.15217391e-02, 1.40217391e-01, 9.13043478e-01,\n        1.64239130e+00, 2.53478261e+00, 3.85652174e+00, 1.27391304e+00,\n        3.91304348e-01, 8.36956522e-02]),\n array([0.96 , 1.052, 1.144, 1.236, 1.328, 1.42 , 1.512, 1.604, 1.696,\n        1.788, 1.88 ]),\n <BarContainer object of 10 artists>)"
     },
     "execution_count": 29,
     "metadata": {},
     "output_type": "execute_result"
    },
    {
     "data": {
      "text/plain": "<Figure size 640x480 with 1 Axes>",
      "image/png": "[encoded data removed]"
     },
     "metadata": {},
     "output_type": "display_data"
    }
   ],
   "source": [
    "plt.hist(x_bars, density=True)"
   ],
   "metadata": {
    "collapsed": false,
    "ExecuteTime": {
     "end_time": "2024-11-17T12:01:44.139438Z",
     "start_time": "2024-11-17T12:01:43.976199Z"
    }
   },
   "id": "428de00d0df183a6",
   "execution_count": 29
  },
  {
   "cell_type": "markdown",
   "source": [
    "2"
   ],
   "metadata": {
    "collapsed": false
   },
   "id": "a6f0ad7e9548a1d9"
  },
  {
   "cell_type": "code",
   "outputs": [],
   "source": [
    "n = 200\n",
    "m = 200\n",
    "\n",
    "ns = np.arange(1, n+1)\n",
    "ms = np.arange(1, m+1)"
   ],
   "metadata": {
    "collapsed": false,
    "ExecuteTime": {
     "end_time": "2024-11-13T08:57:43.085441Z",
     "start_time": "2024-11-13T08:57:43.081338Z"
    }
   },
   "id": "bb6ac5efca6e0955",
   "execution_count": 84
  },
  {
   "cell_type": "code",
   "outputs": [
    {
     "data": {
      "text/plain": "array([1, 2, 3, ..., 3, 3, 4], dtype=uint32)"
     },
     "execution_count": 163,
     "metadata": {},
     "output_type": "execute_result"
    }
   ],
   "source": [
    "N, M = np.meshgrid(ns, ms)\n",
    "table = N * M\n",
    "\n",
    "leading_num = np.vectorize(lambda x: int(str(x)[0]))\n",
    "\n",
    "res: np.ndarray = leading_num(table.flatten())\n",
    "res = res.astype(np.uint32)\n",
    "res"
   ],
   "metadata": {
    "collapsed": false,
    "ExecuteTime": {
     "end_time": "2024-11-13T09:11:07.159530Z",
     "start_time": "2024-11-13T09:11:07.133491Z"
    }
   },
   "id": "5bedceb2dd824e3d",
   "execution_count": 163
  },
  {
   "cell_type": "code",
   "outputs": [
    {
     "data": {
      "text/plain": "<Figure size 500x250 with 1 Axes>",
      "image/png": "[encoded data removed]"
     },
     "metadata": {},
     "output_type": "display_data"
    }
   ],
   "source": [
    "hist, edge = np.histogram(res, density=True, bins=np.arange(0, 11, 1))\n",
    "\n",
    "plt.figure(figsize=(5, 2.5))\n",
    "plt.scatter(edge[1:-1], hist[1:], s=15, color=\"k\", marker='o', zorder=4)\n",
    "plt.vlines(edge[1:-1], ymax=hist[1:], ymin=np.zeros(hist.size-1), color='k', alpha=0.8)\n",
    "\n",
    "plt.tight_layout(pad=0.2)\n",
    "plt.grid(alpha=0.5)\n"
   ],
   "metadata": {
    "collapsed": false,
    "ExecuteTime": {
     "end_time": "2024-11-13T09:15:35.996737Z",
     "start_time": "2024-11-13T09:15:35.683895Z"
    }
   },
   "id": "9caa29c1cf78b99a",
   "execution_count": 184
  },
  {
   "cell_type": "markdown",
   "source": [
    "3\n"
   ],
   "metadata": {
    "collapsed": false
   },
   "id": "baac916175f9fbc2"
  },
  {
   "cell_type": "code",
   "outputs": [],
   "source": [
    "sim_expo = np.vectorize(lambda lmd : (-1/lmd) * np.log(1 - np.random.ranf()))"
   ],
   "metadata": {
    "collapsed": false,
    "ExecuteTime": {
     "end_time": "2024-11-13T23:34:35.287766Z",
     "start_time": "2024-11-13T23:34:35.283735Z"
    }
   },
   "id": "cd59d3b03fd5e9",
   "execution_count": 15
  },
  {
   "cell_type": "code",
   "outputs": [
    {
     "data": {
      "text/plain": "array([3.87544203, 3.01562567, 0.04717542, ..., 0.83904715, 0.2615383 ,\n       0.65992735])"
     },
     "execution_count": 69,
     "metadata": {},
     "output_type": "execute_result"
    }
   ],
   "source": [
    "sim_res = sim_expo(np.ones(100_000))\n",
    "sim_res"
   ],
   "metadata": {
    "collapsed": false,
    "ExecuteTime": {
     "end_time": "2024-11-13T23:50:19.086862Z",
     "start_time": "2024-11-13T23:50:18.891331Z"
    }
   },
   "id": "7ccb5e406dc75415",
   "execution_count": 69
  },
  {
   "cell_type": "code",
   "outputs": [
    {
     "data": {
      "text/plain": "(array([5.54768274e-01, 1.49316057e-01, 3.96745210e-02, 1.09444339e-02,\n        2.66974410e-03, 7.43281029e-04, 2.42704009e-04, 8.34295032e-05,\n        0.00000000e+00, 7.58450029e-06]),\n array([5.19416440e-06, 1.31848362e+00, 2.63696204e+00, 3.95544047e+00,\n        5.27391889e+00, 6.59239732e+00, 7.91087574e+00, 9.22935417e+00,\n        1.05478326e+01, 1.18663110e+01, 1.31847894e+01]),\n <BarContainer object of 10 artists>)"
     },
     "execution_count": 71,
     "metadata": {},
     "output_type": "execute_result"
    },
    {
     "data": {
      "text/plain": "<Figure size 640x480 with 1 Axes>",
      "image/png": "[encoded data removed]"
     },
     "metadata": {},
     "output_type": "display_data"
    }
   ],
   "source": [
    "plt.hist(sim_res, density=True)"
   ],
   "metadata": {
    "collapsed": false,
    "ExecuteTime": {
     "end_time": "2024-11-13T23:50:44.968149Z",
     "start_time": "2024-11-13T23:50:44.730018Z"
    }
   },
   "id": "74972467db92f561",
   "execution_count": 71
  },
  {
   "cell_type": "code",
   "outputs": [],
   "source": [
    "expo = lambda lmd: np.e**-lmd"
   ],
   "metadata": {
    "collapsed": false,
    "ExecuteTime": {
     "end_time": "2024-11-13T23:36:41.852989Z",
     "start_time": "2024-11-13T23:36:41.848989Z"
    }
   },
   "id": "18118b42979e7266",
   "execution_count": 20
  },
  {
   "cell_type": "code",
   "outputs": [],
   "source": [
    "func_res = expo(np.arange(0, 100))\n",
    "func_res = func_res/np.sum(func_res)\n"
   ],
   "metadata": {
    "collapsed": false,
    "ExecuteTime": {
     "end_time": "2024-11-13T23:51:36.997881Z",
     "start_time": "2024-11-13T23:51:36.993978Z"
    }
   },
   "id": "1dc54df13632cded",
   "execution_count": 72
  },
  {
   "cell_type": "code",
   "outputs": [
    {
     "data": {
      "text/plain": "(0.0, 10.0)"
     },
     "execution_count": 66,
     "metadata": {},
     "output_type": "execute_result"
    },
    {
     "data": {
      "text/plain": "<Figure size 640x480 with 1 Axes>",
      "image/png": "[encoded data removed]"
     },
     "metadata": {},
     "output_type": "display_data"
    }
   ],
   "source": [
    "plt.plot(func_res)\n",
    "plt.xlim((0, 10))"
   ],
   "metadata": {
    "collapsed": false,
    "ExecuteTime": {
     "end_time": "2024-11-13T23:50:00.501079Z",
     "start_time": "2024-11-13T23:50:00.338989Z"
    }
   },
   "id": "d2f31d53ca2030f6",
   "execution_count": 66
  },
  {
   "cell_type": "code",
   "outputs": [],
   "source": [
    "hist, edge = np.histogram(sim_res, density=True)"
   ],
   "metadata": {
    "collapsed": false,
    "ExecuteTime": {
     "end_time": "2024-11-13T23:50:06.221645Z",
     "start_time": "2024-11-13T23:50:06.216521Z"
    }
   },
   "id": "c944cf63b655d400",
   "execution_count": 67
  },
  {
   "cell_type": "code",
   "outputs": [
    {
     "data": {
      "text/plain": "[<matplotlib.lines.Line2D at 0x2e5369c4910>,\n <matplotlib.lines.Line2D at 0x2e53860b890>]"
     },
     "execution_count": 81,
     "metadata": {},
     "output_type": "execute_result"
    },
    {
     "data": {
      "text/plain": "<Figure size 640x480 with 1 Axes>",
      "image/png": "[encoded data removed]"
     },
     "metadata": {},
     "output_type": "display_data"
    }
   ],
   "source": [
    "df = pd.DataFrame({'sim':hist, 'func':func_res[:hist.size]})\n",
    "df\n",
    "\n",
    "plt.plot(df)"
   ],
   "metadata": {
    "collapsed": false,
    "ExecuteTime": {
     "end_time": "2024-11-13T23:53:12.502202Z",
     "start_time": "2024-11-13T23:53:12.341133Z"
    }
   },
   "id": "c8bc2c0db6d143d8",
   "execution_count": 81
  },
  {
   "cell_type": "code",
   "outputs": [],
   "source": [],
   "metadata": {
    "collapsed": false
   },
   "id": "c30f372861bdd3b7"
  },
  {
   "cell_type": "markdown",
   "source": [
    "b"
   ],
   "metadata": {
    "collapsed": false
   },
   "id": "d10cbf04577b28f0"
  },
  {
   "cell_type": "code",
   "outputs": [
    {
     "data": {
      "text/plain": "             X1        X2        X3\n0      0.610757  0.064954  0.069423\n1      0.901369  0.100645  0.210274\n2      0.836622  0.699095  0.185436\n3      0.705300  0.433874  0.282094\n4      0.079316  0.449268  0.041290\n...         ...       ...       ...\n99995  0.633843  0.615076  0.780071\n99996  0.777920  0.848181  0.069264\n99997  0.358550  0.229295  1.150923\n99998  0.319949  0.171721  0.296807\n99999  1.986284  0.005738  1.365990\n\n[100000 rows x 3 columns]",
      "text/html": "<div>\n<style scoped>\n    .dataframe tbody tr th:only-of-type {\n        vertical-align: middle;\n    }\n\n    .dataframe tbody tr th {\n        vertical-align: top;\n    }\n\n    .dataframe thead th {\n        text-align: right;\n    }\n</style>\n<table border=\"1\" class=\"dataframe\">\n  <thead>\n    <tr style=\"text-align: right;\">\n      <th></th>\n      <th>X1</th>\n      <th>X2</th>\n      <th>X3</th>\n    </tr>\n  </thead>\n  <tbody>\n    <tr>\n      <th>0</th>\n      <td>0.610757</td>\n      <td>0.064954</td>\n      <td>0.069423</td>\n    </tr>\n    <tr>\n      <th>1</th>\n      <td>0.901369</td>\n      <td>0.100645</td>\n      <td>0.210274</td>\n    </tr>\n    <tr>\n      <th>2</th>\n      <td>0.836622</td>\n      <td>0.699095</td>\n      <td>0.185436</td>\n    </tr>\n    <tr>\n      <th>3</th>\n      <td>0.705300</td>\n      <td>0.433874</td>\n      <td>0.282094</td>\n    </tr>\n    <tr>\n      <th>4</th>\n      <td>0.079316</td>\n      <td>0.449268</td>\n      <td>0.041290</td>\n    </tr>\n    <tr>\n      <th>...</th>\n      <td>...</td>\n      <td>...</td>\n      <td>...</td>\n    </tr>\n    <tr>\n      <th>99995</th>\n      <td>0.633843</td>\n      <td>0.615076</td>\n      <td>0.780071</td>\n    </tr>\n    <tr>\n      <th>99996</th>\n      <td>0.777920</td>\n      <td>0.848181</td>\n      <td>0.069264</td>\n    </tr>\n    <tr>\n      <th>99997</th>\n      <td>0.358550</td>\n      <td>0.229295</td>\n      <td>1.150923</td>\n    </tr>\n    <tr>\n      <th>99998</th>\n      <td>0.319949</td>\n      <td>0.171721</td>\n      <td>0.296807</td>\n    </tr>\n    <tr>\n      <th>99999</th>\n      <td>1.986284</td>\n      <td>0.005738</td>\n      <td>1.365990</td>\n    </tr>\n  </tbody>\n</table>\n<p>100000 rows × 3 columns</p>\n</div>"
     },
     "execution_count": 96,
     "metadata": {},
     "output_type": "execute_result"
    }
   ],
   "source": [
    "N = 100_000\n",
    "sim_expo = np.vectorize(lambda lmd: (-1 / lmd) * np.log(1 - np.random.ranf()))\n",
    "X1 = sim_expo(np.ones(N))\n",
    "X2 = sim_expo(np.ones(N)*2)\n",
    "X3 = sim_expo(np.ones(N)*3)\n",
    "\n",
    "pd.DataFrame({'X1': X1, 'X2': X2, 'X3': X3})"
   ],
   "metadata": {
    "collapsed": false,
    "ExecuteTime": {
     "end_time": "2024-11-14T00:12:17.446708Z",
     "start_time": "2024-11-14T00:12:16.806411Z"
    }
   },
   "id": "3b0aa633c75039cf",
   "execution_count": 96
  },
  {
   "cell_type": "code",
   "outputs": [
    {
     "data": {
      "text/plain": "0.16721"
     },
     "execution_count": 106,
     "metadata": {},
     "output_type": "execute_result"
    }
   ],
   "source": [
    "f = np.vectorize(lambda a, c, d: min(min(a, c), d))\n",
    "mins = f(X1, X2, X3) \n",
    "prob_x1_is_min = (mins == X1).mean()\n",
    "prob_x1_is_min"
   ],
   "metadata": {
    "collapsed": false,
    "ExecuteTime": {
     "end_time": "2024-11-14T00:13:38.518838Z",
     "start_time": "2024-11-14T00:13:38.444328Z"
    }
   },
   "id": "346a897e227c8ac4",
   "execution_count": 106
  },
  {
   "cell_type": "code",
   "outputs": [
    {
     "data": {
      "text/plain": "0.58315"
     },
     "execution_count": 105,
     "metadata": {},
     "output_type": "execute_result"
    }
   ],
   "source": [
    "f = np.vectorize(lambda a, c, d: max(max(a, c), d))\n",
    "maxs = f(X1, X2, X3) \n",
    "prob_x1_is_max = (maxs == X1).mean()\n",
    "prob_x1_is_max"
   ],
   "metadata": {
    "collapsed": false,
    "ExecuteTime": {
     "end_time": "2024-11-14T00:13:37.076228Z",
     "start_time": "2024-11-14T00:13:37.008565Z"
    }
   },
   "id": "f90aead22e81ac6e",
   "execution_count": 105
  }
 ],
 "metadata": {
  "kernelspec": {
   "display_name": "Python 3",
   "language": "python",
   "name": "python3"
  },
  "language_info": {
   "codemirror_mode": {
    "name": "ipython",
    "version": 2
   },
   "file_extension": ".py",
   "mimetype": "text/x-python",
   "name": "python",
   "nbconvert_exporter": "python",
   "pygments_lexer": "ipython2",
   "version": "2.7.6"
  }
 },
 "nbformat": 4,
 "nbformat_minor": 5
}
