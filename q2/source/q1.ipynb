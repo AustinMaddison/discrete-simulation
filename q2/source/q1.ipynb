{
 "cells": [
  {
   "cell_type": "code",
   "id": "initial_id",
   "metadata": {
    "collapsed": true,
    "ExecuteTime": {
     "end_time": "2024-12-14T22:01:29.385644Z",
     "start_time": "2024-12-14T22:01:29.381564Z"
    }
   },
   "source": [
    "import numpy as np\n",
    "\n",
    "from my_settings import *"
   ],
   "outputs": [],
   "execution_count": 3
  },
  {
   "cell_type": "code",
   "source": [
    "# a) \n",
    "def walk(n = 50, p = 0.50,):\n",
    "    rand = np.random.uniform(size=n+1)\n",
    "    vectors = np.zeros(n+1, dtype=np.longdouble)\n",
    "    vectors[1:] =  2 * ((rand[1:]  <= p) - 0.5)\n",
    "    displacement = vectors.cumsum()\n",
    "    return (np.abs(displacement) > 1.96 * np.sqrt(np.arange(n+1))).mean()"
   ],
   "metadata": {
    "ExecuteTime": {
     "end_time": "2024-12-14T22:18:33.992820Z",
     "start_time": "2024-12-14T22:18:33.986823Z"
    }
   },
   "id": "b669a0219a760d2",
   "outputs": [],
   "execution_count": 291
  },
  {
   "metadata": {
    "ExecuteTime": {
     "end_time": "2024-12-14T22:26:23.624721Z",
     "start_time": "2024-12-14T22:26:23.620722Z"
    }
   },
   "cell_type": "code",
   "source": [
    "N = 5_000_000\n",
    "f = np.vectorize(lambda x: walk(n=int(x)))"
   ],
   "id": "e314836b5ec69d3b",
   "outputs": [],
   "execution_count": 334
  },
  {
   "metadata": {
    "ExecuteTime": {
     "end_time": "2024-12-14T22:28:02.004952Z",
     "start_time": "2024-12-14T22:26:25.068297Z"
    }
   },
   "cell_type": "code",
   "source": "f'W_3 = {f(np.ones(N)*3).mean()}'",
   "id": "ced3dc281c232acd",
   "outputs": [
    {
     "data": {
      "text/plain": [
       "'W_3 = 0.0'"
      ]
     },
     "execution_count": 335,
     "metadata": {},
     "output_type": "execute_result"
    }
   ],
   "execution_count": 335
  },
  {
   "metadata": {
    "collapsed": false,
    "ExecuteTime": {
     "end_time": "2024-12-14T22:29:34.010976Z",
     "start_time": "2024-12-14T22:28:02.169389Z"
    }
   },
   "cell_type": "code",
   "source": "f'W_4 = {f(np.ones(N)*4).mean()}'",
   "id": "f89c78efa12dc913",
   "outputs": [
    {
     "data": {
      "text/plain": [
       "'W_4 = 0.02498207999999999'"
      ]
     },
     "execution_count": 336,
     "metadata": {},
     "output_type": "execute_result"
    }
   ],
   "execution_count": 336
  },
  {
   "metadata": {
    "ExecuteTime": {
     "end_time": "2024-12-14T22:31:17.520534Z",
     "start_time": "2024-12-14T22:29:34.122873Z"
    }
   },
   "cell_type": "code",
   "source": "f'W_10 = {f(np.ones(N)*10).mean()}'",
   "id": "b65b684f1b90d15a",
   "outputs": [
    {
     "data": {
      "text/plain": [
       "'W_10 = 0.033236109090909106'"
      ]
     },
     "execution_count": 337,
     "metadata": {},
     "output_type": "execute_result"
    }
   ],
   "execution_count": 337
  },
  {
   "metadata": {
    "ExecuteTime": {
     "end_time": "2024-12-14T22:33:12.324643Z",
     "start_time": "2024-12-14T22:31:17.673459Z"
    }
   },
   "cell_type": "code",
   "source": "f'W_100 = {f(np.ones(N)*100).mean()}'",
   "id": "1e4634721a9d54f8",
   "outputs": [
    {
     "data": {
      "text/plain": [
       "'W_100 = 0.0483577128712872'"
      ]
     },
     "execution_count": 338,
     "metadata": {},
     "output_type": "execute_result"
    }
   ],
   "execution_count": 338
  },
  {
   "metadata": {
    "ExecuteTime": {
     "end_time": "2024-12-14T22:36:12.453706Z",
     "start_time": "2024-12-14T22:33:12.455521Z"
    }
   },
   "cell_type": "code",
   "source": "f'W_1000 = {f(np.ones(N)*1000).mean()}'",
   "id": "bc1006e4efebb138",
   "outputs": [
    {
     "data": {
      "text/plain": [
       "'W_1000 = 0.04972031048951047'"
      ]
     },
     "execution_count": 339,
     "metadata": {},
     "output_type": "execute_result"
    }
   ],
   "execution_count": 339
  }
 ],
 "metadata": {
  "kernelspec": {
   "display_name": "Python 3",
   "language": "python",
   "name": "python3"
  },
  "language_info": {
   "codemirror_mode": {
    "name": "ipython",
    "version": 2
   },
   "file_extension": ".py",
   "mimetype": "text/x-python",
   "name": "python",
   "nbconvert_exporter": "python",
   "pygments_lexer": "ipython2",
   "version": "2.7.6"
  }
 },
 "nbformat": 4,
 "nbformat_minor": 5
}
