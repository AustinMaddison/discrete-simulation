{
 "cells": [
  {
   "cell_type": "code",
   "id": "initial_id",
   "metadata": {
    "collapsed": true,
    "ExecuteTime": {
     "end_time": "2024-11-28T07:51:42.335773Z",
     "start_time": "2024-11-28T07:51:42.331771Z"
    }
   },
   "source": "import my_settings",
   "outputs": [],
   "execution_count": 4
  },
  {
   "metadata": {
    "ExecuteTime": {
     "end_time": "2024-11-28T19:47:59.677021Z",
     "start_time": "2024-11-28T19:47:59.668708Z"
    }
   },
   "cell_type": "code",
   "source": [
    "t = 25\n",
    "t_min = 25\n",
    "t_opt = 30\n",
    "t_max = 35\n",
    "\n",
    "1 - (abs(t - t_opt) / (t_max - t_min))\n"
   ],
   "id": "60d4f90ae2b6c5db",
   "outputs": [
    {
     "data": {
      "text/plain": [
       "0.5"
      ]
     },
     "execution_count": 130,
     "metadata": {},
     "output_type": "execute_result"
    }
   ],
   "execution_count": 130
  },
  {
   "metadata": {
    "ExecuteTime": {
     "end_time": "2024-11-28T13:18:59.586967Z",
     "start_time": "2024-11-28T13:18:59.582006Z"
    }
   },
   "cell_type": "code",
   "source": [
    "# Calculate Optimlity\n",
    "\n",
    "# Sun Exposure\n",
    "# Water\n",
    "# Temperature\n",
    "# Density\n",
    "\n",
    "# Radius\n",
    "\n"
   ],
   "id": "441e95ccbdc8da61",
   "outputs": [
    {
     "data": {
      "text/plain": [
       "0.0"
      ]
     },
     "execution_count": 42,
     "metadata": {},
     "output_type": "execute_result"
    }
   ],
   "execution_count": 42
  }
 ],
 "metadata": {
  "kernelspec": {
   "display_name": "Python 3",
   "language": "python",
   "name": "python3"
  },
  "language_info": {
   "codemirror_mode": {
    "name": "ipython",
    "version": 2
   },
   "file_extension": ".py",
   "mimetype": "text/x-python",
   "name": "python",
   "nbconvert_exporter": "python",
   "pygments_lexer": "ipython2",
   "version": "2.7.6"
  }
 },
 "nbformat": 4,
 "nbformat_minor": 5
}
