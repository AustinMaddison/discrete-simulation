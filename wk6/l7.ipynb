{
 "cells": [
  {
   "cell_type": "markdown",
   "source": [
    "#### Discrete Simulation \n",
    "#### Inclass L4\n",
    "Authored: Austin Jetrin Maddison 6481268"
   ],
   "metadata": {
    "collapsed": false
   },
   "id": "4471b0b8d5bebd2c"
  },
  {
   "cell_type": "code",
   "execution_count": 2,
   "id": "7adf188e169d19df",
   "metadata": {
    "collapsed": false,
    "ExecuteTime": {
     "end_time": "2024-10-10T09:17:01.590042Z",
     "start_time": "2024-10-10T09:17:00.518530Z"
    }
   },
   "outputs": [],
   "source": [
    "import matplotlib.pyplot as plt\n",
    "import numpy as np\n",
    "\n",
    "from my_settings import *"
   ]
  },
  {
   "cell_type": "code",
   "outputs": [],
   "source": [
    "np.random.seed(27)"
   ],
   "metadata": {
    "collapsed": false,
    "ExecuteTime": {
     "end_time": "2024-10-10T09:17:02.303095Z",
     "start_time": "2024-10-10T09:17:02.154161Z"
    }
   },
   "id": "9a7f6d7cf1399a8b",
   "execution_count": 3
  },
  {
   "cell_type": "markdown",
   "source": [
    "Given Sequence $a_n + c_1 a_{n-1} + ... + c_d a_{n-d} = 0$ -> then we solve for $c_0, c_1, ..., c_d$"
   ],
   "metadata": {
    "collapsed": false
   },
   "id": "c009bdab0c5ac486"
  },
  {
   "cell_type": "markdown",
   "source": [
    "# Examples we input the C_finite Parameters."
   ],
   "metadata": {
    "collapsed": false
   },
   "id": "7835ef9e5dd1447b"
  },
  {
   "cell_type": "markdown",
   "source": [
    "seq = 3, 3, 3 n>= 0\n",
    "a_n = a_{-1}, a_{0} = 3"
   ],
   "metadata": {
    "collapsed": false
   },
   "id": "c82d414e507fcba6"
  },
  {
   "cell_type": "markdown",
   "source": [
    "seq = tribonacci = f_n = f_n-1 + f_n-2 + f_n-3 \n",
    "a_0 = 0, a_1 = 0, a_2 = 1"
   ],
   "metadata": {
    "collapsed": false
   },
   "id": "603dec076d2aa52"
  },
  {
   "cell_type": "code",
   "outputs": [],
   "source": [],
   "metadata": {
    "collapsed": false
   },
   "id": "1e42d4a9c75dc1a1"
  },
  {
   "cell_type": "markdown",
   "source": [
    "Reverse, we got a sequence and want to get C-finite.\n",
    "Given C\n",
    "a_n = 2 *a_n-1 => (n-2)a_n = 0\n",
    "\n",
    "\n",
    "\n"
   ],
   "metadata": {
    "collapsed": false
   },
   "id": "6ff2e51597721d5d"
  },
  {
   "cell_type": "code",
   "outputs": [],
   "source": [],
   "metadata": {
    "collapsed": false
   },
   "id": "1600be59c3856956"
  },
  {
   "cell_type": "markdown",
   "source": [
    "a_n = 2^n + 3^n\n",
    "(N-2)(N-3) = N^2 -5N +6\n",
    "a_n - 5a_(n-1) + 6a_(n-2) = 0\n",
    "an_n = 5a_n-1 -6a_n-2\n",
    "\n",
    "\n",
    "a_n = (n+1) * 3^n + 5^n\n",
    "(N-3)^2(N-5)\n",
    "\n",
    "\n",
    "\n"
   ],
   "metadata": {
    "collapsed": false
   },
   "id": "c8eac164f449666b"
  },
  {
   "cell_type": "markdown",
   "source": [
    "## Composition"
   ],
   "metadata": {
    "collapsed": false
   },
   "id": "bababba0d6eaa2a5"
  },
  {
   "cell_type": "markdown",
   "source": [
    "\n",
    "\n",
    "Q1. Find the# of compositions of n\n",
    "\n",
    "Counting the nuumber of compsitions,\n",
    "Then guessing the C for the sequence for number of compositions.\n",
    "\n",
    "ex:\n",
    "3 = 3\n",
    "  = 1 + 2\n",
    "  = 2 + 1\n",
    "  = 1 + 1 + 1\n",
    "  \n",
    "5 = 5\n",
    "  = 4 + 1\n",
    "  = 1 + 4\n",
    "  = 2 + 3\n",
    "  = 3 + 2\n",
    "  = 2 + 1 + 1 + 1\n",
    "  = 2 + 1 + 1 + 1\n",
    "  ...\n",
    "  "
   ],
   "metadata": {
    "collapsed": false
   },
   "id": "bbd2fcf939a09a6f"
  },
  {
   "cell_type": "markdown",
   "source": [
    "\n",
    "Q2\n",
    "Find the # of composition of n when part $\\in$ {1, 2}\n",
    "                                                 ^- Sum\n",
    "                                                 \n",
    "3 = 1 + 1 + 1 \n",
    "5 = 1 + 1 + 1 + 1 + 1"
   ],
   "metadata": {
    "collapsed": false
   },
   "id": "b844c0ba73088e10"
  },
  {
   "cell_type": "code",
   "outputs": [],
   "source": [],
   "metadata": {
    "collapsed": false
   },
   "id": "44667949ba7d328e"
  },
  {
   "cell_type": "markdown",
   "source": [],
   "metadata": {
    "collapsed": false
   },
   "id": "cf8547d4881e0c4f"
  }
 ],
 "metadata": {
  "kernelspec": {
   "display_name": "Python 3",
   "language": "python",
   "name": "python3"
  },
  "language_info": {
   "codemirror_mode": {
    "name": "ipython",
    "version": 2
   },
   "file_extension": ".py",
   "mimetype": "text/x-python",
   "name": "python",
   "nbconvert_exporter": "python",
   "pygments_lexer": "ipython2",
   "version": "2.7.6"
  }
 },
 "nbformat": 4,
 "nbformat_minor": 5
}
